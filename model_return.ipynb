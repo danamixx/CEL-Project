{
  "cells": [
    {
      "cell_type": "markdown",
      "metadata": {
        "id": "view-in-github",
        "colab_type": "text"
      },
      "source": [
        "<a href=\"https://colab.research.google.com/github/danamixx/CEL-Project/blob/main/model_return.ipynb\" target=\"_parent\"><img src=\"https://colab.research.google.com/assets/colab-badge.svg\" alt=\"Open In Colab\"/></a>"
      ]
    },
    {
      "cell_type": "code",
      "execution_count": 1,
      "metadata": {
        "colab": {
          "base_uri": "https://localhost:8080/"
        },
        "id": "6-Sfwdhz6-F6",
        "outputId": "073fc49a-743d-41bf-bb09-f0bf1318c945"
      },
      "outputs": [
        {
          "output_type": "stream",
          "name": "stdout",
          "text": [
            "Mounted at /content/drive\n"
          ]
        }
      ],
      "source": [
        "from google.colab import drive\n",
        "drive.mount('/content/drive')"
      ]
    },
    {
      "cell_type": "code",
      "execution_count": 2,
      "metadata": {
        "id": "IGD5RBa76zW9"
      },
      "outputs": [],
      "source": [
        "from IPython.core.interactiveshell import InteractiveShell\n",
        "InteractiveShell.ast_node_interactivity = \"all\""
      ]
    },
    {
      "cell_type": "markdown",
      "metadata": {
        "id": "b1zfIZml6zW7"
      },
      "source": [
        "## Part 1 : Descriptive Analysis"
      ]
    },
    {
      "cell_type": "code",
      "execution_count": 3,
      "metadata": {
        "id": "p5WQma_r6zW-",
        "colab": {
          "base_uri": "https://localhost:8080/"
        },
        "outputId": "36acb94f-caf8-4d1a-b05c-e0363c56766f"
      },
      "outputs": [
        {
          "output_type": "stream",
          "name": "stderr",
          "text": [
            "/usr/local/lib/python3.7/dist-packages/IPython/core/interactiveshell.py:2882: FutureWarning: The error_bad_lines argument has been deprecated and will be removed in a future version.\n",
            "\n",
            "\n",
            "  exec(code_obj, self.user_global_ns, self.user_ns)\n",
            "b'Skipping line 312025: expected 33 fields, saw 34\\n'\n",
            "b'Skipping line 641698: expected 33 fields, saw 34\\n'\n",
            "b'Skipping line 790728: expected 33 fields, saw 34\\n'\n",
            "b'Skipping line 1404004: expected 33 fields, saw 34\\n'\n",
            "b'Skipping line 1437907: expected 33 fields, saw 34\\n'\n",
            "b'Skipping line 1612788: expected 33 fields, saw 34\\n'\n",
            "b'Skipping line 1835371: expected 33 fields, saw 34\\n'\n",
            "b'Skipping line 1981467: expected 33 fields, saw 34\\nSkipping line 1982292: expected 33 fields, saw 34\\n'\n",
            "b'Skipping line 1998274: expected 33 fields, saw 34\\n'\n",
            "b'Skipping line 2841560: expected 33 fields, saw 34\\n'\n",
            "b'Skipping line 2931257: expected 33 fields, saw 34\\n'\n",
            "b'Skipping line 3855040: expected 33 fields, saw 34\\n'\n",
            "b'Skipping line 4828003: expected 33 fields, saw 34\\n'\n",
            "b'Skipping line 4995501: expected 33 fields, saw 34\\n'\n",
            "b'Skipping line 5287802: expected 33 fields, saw 34\\n'\n",
            "b'Skipping line 5295734: expected 33 fields, saw 34\\n'\n",
            "b'Skipping line 5532264: expected 33 fields, saw 34\\n'\n",
            "b'Skipping line 5573400: expected 33 fields, saw 34\\n'\n",
            "b'Skipping line 5761284: expected 33 fields, saw 34\\n'\n",
            "b'Skipping line 5825765: expected 33 fields, saw 34\\n'\n",
            "b'Skipping line 5847850: expected 33 fields, saw 34\\nSkipping line 5847851: expected 33 fields, saw 34\\nSkipping line 5847852: expected 33 fields, saw 34\\n'\n",
            "b'Skipping line 6112920: expected 33 fields, saw 34\\n'\n",
            "b'Skipping line 6171775: expected 33 fields, saw 34\\n'\n",
            "b'Skipping line 6312469: expected 33 fields, saw 34\\n'\n",
            "b'Skipping line 6512382: expected 33 fields, saw 34\\n'\n",
            "b'Skipping line 6622016: expected 33 fields, saw 34\\n'\n",
            "/usr/local/lib/python3.7/dist-packages/IPython/core/interactiveshell.py:2882: DtypeWarning: Columns (1,2,12,13,15,16,17,18) have mixed types.Specify dtype option on import or set low_memory=False.\n",
            "  exec(code_obj, self.user_global_ns, self.user_ns)\n"
          ]
        }
      ],
      "source": [
        "import pandas as pd\n",
        "import numpy as np\n",
        "\n",
        "nb = pd.read_csv(\"/content/drive/MyDrive/Colab Notebooks/Main Colab Files/CEL/Wash_U_NewBalance_Project_V5.txt\",encoding=\"utf16\",error_bad_lines=False)"
      ]
    },
    {
      "cell_type": "code",
      "execution_count": 4,
      "metadata": {
        "colab": {
          "base_uri": "https://localhost:8080/",
          "height": 438
        },
        "id": "XjJMQm1p__ER",
        "outputId": "b3ffcc7e-7a61-4ea1-b1c1-a72f4153c57c"
      },
      "outputs": [
        {
          "output_type": "execute_result",
          "data": {
            "text/plain": [
              "  ordernumber transactionsequence orderitem_id  Order_Placed_Date  \\\n",
              "0   NS6930564                   2     51029577         20180510.0   \n",
              "1   NSE707387                   2     67558774         20210311.0   \n",
              "2   NSE646379                   2     67388151         20210303.0   \n",
              "3   NSE702138                   2     67541045         20210310.0   \n",
              "4   NSE857893                   2     67929334         20210329.0   \n",
              "\n",
              "   consumer_key New Customer Order Flag NBUS_NewReturning NewReturning  \\\n",
              "0     8055027.0            New Customer               NEW          NEW   \n",
              "1    18871404.0            New Customer               NEW          NEW   \n",
              "2    18790660.0            New Customer               NEW          NEW   \n",
              "3    18804019.0            New Customer               NEW          NEW   \n",
              "4    19048315.0            New Customer               NEW          NEW   \n",
              "\n",
              "  Billing Postal Code Shipping Postal Code  ...           SKU     style  \\\n",
              "0          90605-1643           90605-1643  ...  798248416683  KTNTRPNY   \n",
              "1               54701                54701  ...  194389002622   WCRZRRB   \n",
              "2               97801                97801  ...  195173233000  WL574WK2   \n",
              "3               76302                76302  ...  195173231297  WL574VA2   \n",
              "4               92270                92270  ...  194389943086   M860A11   \n",
              "\n",
              "  width_color transactiontype  shipmethod Return/Exchange Return_Process_Date  \\\n",
              "0           W           sales     UPSSPPS             NaN                 NaN   \n",
              "1           B           sales      Ground             NaN                 NaN   \n",
              "2           B           sales      Ground             NaN                 NaN   \n",
              "3           B           sales      Ground             NaN                 NaN   \n",
              "4           D           sales      Ground             NaN                 NaN   \n",
              "\n",
              "  Return/Exchange Order Subtotal Return/Exchange Transaction Total  \\\n",
              "0                            NaN                               NaN   \n",
              "1                            NaN                               NaN   \n",
              "2                            NaN                               NaN   \n",
              "3                            NaN                               NaN   \n",
              "4                            NaN                               NaN   \n",
              "\n",
              "  Return/Exchange Transaction Subtotal  \n",
              "0                                  NaN  \n",
              "1                                  NaN  \n",
              "2                                  NaN  \n",
              "3                                  NaN  \n",
              "4                                  NaN  \n",
              "\n",
              "[5 rows x 33 columns]"
            ],
            "text/html": [
              "\n",
              "  <div id=\"df-d8dc8198-fcd9-426c-993e-10b5a1037123\">\n",
              "    <div class=\"colab-df-container\">\n",
              "      <div>\n",
              "<style scoped>\n",
              "    .dataframe tbody tr th:only-of-type {\n",
              "        vertical-align: middle;\n",
              "    }\n",
              "\n",
              "    .dataframe tbody tr th {\n",
              "        vertical-align: top;\n",
              "    }\n",
              "\n",
              "    .dataframe thead th {\n",
              "        text-align: right;\n",
              "    }\n",
              "</style>\n",
              "<table border=\"1\" class=\"dataframe\">\n",
              "  <thead>\n",
              "    <tr style=\"text-align: right;\">\n",
              "      <th></th>\n",
              "      <th>ordernumber</th>\n",
              "      <th>transactionsequence</th>\n",
              "      <th>orderitem_id</th>\n",
              "      <th>Order_Placed_Date</th>\n",
              "      <th>consumer_key</th>\n",
              "      <th>New Customer Order Flag</th>\n",
              "      <th>NBUS_NewReturning</th>\n",
              "      <th>NewReturning</th>\n",
              "      <th>Billing Postal Code</th>\n",
              "      <th>Shipping Postal Code</th>\n",
              "      <th>...</th>\n",
              "      <th>SKU</th>\n",
              "      <th>style</th>\n",
              "      <th>width_color</th>\n",
              "      <th>transactiontype</th>\n",
              "      <th>shipmethod</th>\n",
              "      <th>Return/Exchange</th>\n",
              "      <th>Return_Process_Date</th>\n",
              "      <th>Return/Exchange Order Subtotal</th>\n",
              "      <th>Return/Exchange Transaction Total</th>\n",
              "      <th>Return/Exchange Transaction Subtotal</th>\n",
              "    </tr>\n",
              "  </thead>\n",
              "  <tbody>\n",
              "    <tr>\n",
              "      <th>0</th>\n",
              "      <td>NS6930564</td>\n",
              "      <td>2</td>\n",
              "      <td>51029577</td>\n",
              "      <td>20180510.0</td>\n",
              "      <td>8055027.0</td>\n",
              "      <td>New Customer</td>\n",
              "      <td>NEW</td>\n",
              "      <td>NEW</td>\n",
              "      <td>90605-1643</td>\n",
              "      <td>90605-1643</td>\n",
              "      <td>...</td>\n",
              "      <td>798248416683</td>\n",
              "      <td>KTNTRPNY</td>\n",
              "      <td>W</td>\n",
              "      <td>sales</td>\n",
              "      <td>UPSSPPS</td>\n",
              "      <td>NaN</td>\n",
              "      <td>NaN</td>\n",
              "      <td>NaN</td>\n",
              "      <td>NaN</td>\n",
              "      <td>NaN</td>\n",
              "    </tr>\n",
              "    <tr>\n",
              "      <th>1</th>\n",
              "      <td>NSE707387</td>\n",
              "      <td>2</td>\n",
              "      <td>67558774</td>\n",
              "      <td>20210311.0</td>\n",
              "      <td>18871404.0</td>\n",
              "      <td>New Customer</td>\n",
              "      <td>NEW</td>\n",
              "      <td>NEW</td>\n",
              "      <td>54701</td>\n",
              "      <td>54701</td>\n",
              "      <td>...</td>\n",
              "      <td>194389002622</td>\n",
              "      <td>WCRZRRB</td>\n",
              "      <td>B</td>\n",
              "      <td>sales</td>\n",
              "      <td>Ground</td>\n",
              "      <td>NaN</td>\n",
              "      <td>NaN</td>\n",
              "      <td>NaN</td>\n",
              "      <td>NaN</td>\n",
              "      <td>NaN</td>\n",
              "    </tr>\n",
              "    <tr>\n",
              "      <th>2</th>\n",
              "      <td>NSE646379</td>\n",
              "      <td>2</td>\n",
              "      <td>67388151</td>\n",
              "      <td>20210303.0</td>\n",
              "      <td>18790660.0</td>\n",
              "      <td>New Customer</td>\n",
              "      <td>NEW</td>\n",
              "      <td>NEW</td>\n",
              "      <td>97801</td>\n",
              "      <td>97801</td>\n",
              "      <td>...</td>\n",
              "      <td>195173233000</td>\n",
              "      <td>WL574WK2</td>\n",
              "      <td>B</td>\n",
              "      <td>sales</td>\n",
              "      <td>Ground</td>\n",
              "      <td>NaN</td>\n",
              "      <td>NaN</td>\n",
              "      <td>NaN</td>\n",
              "      <td>NaN</td>\n",
              "      <td>NaN</td>\n",
              "    </tr>\n",
              "    <tr>\n",
              "      <th>3</th>\n",
              "      <td>NSE702138</td>\n",
              "      <td>2</td>\n",
              "      <td>67541045</td>\n",
              "      <td>20210310.0</td>\n",
              "      <td>18804019.0</td>\n",
              "      <td>New Customer</td>\n",
              "      <td>NEW</td>\n",
              "      <td>NEW</td>\n",
              "      <td>76302</td>\n",
              "      <td>76302</td>\n",
              "      <td>...</td>\n",
              "      <td>195173231297</td>\n",
              "      <td>WL574VA2</td>\n",
              "      <td>B</td>\n",
              "      <td>sales</td>\n",
              "      <td>Ground</td>\n",
              "      <td>NaN</td>\n",
              "      <td>NaN</td>\n",
              "      <td>NaN</td>\n",
              "      <td>NaN</td>\n",
              "      <td>NaN</td>\n",
              "    </tr>\n",
              "    <tr>\n",
              "      <th>4</th>\n",
              "      <td>NSE857893</td>\n",
              "      <td>2</td>\n",
              "      <td>67929334</td>\n",
              "      <td>20210329.0</td>\n",
              "      <td>19048315.0</td>\n",
              "      <td>New Customer</td>\n",
              "      <td>NEW</td>\n",
              "      <td>NEW</td>\n",
              "      <td>92270</td>\n",
              "      <td>92270</td>\n",
              "      <td>...</td>\n",
              "      <td>194389943086</td>\n",
              "      <td>M860A11</td>\n",
              "      <td>D</td>\n",
              "      <td>sales</td>\n",
              "      <td>Ground</td>\n",
              "      <td>NaN</td>\n",
              "      <td>NaN</td>\n",
              "      <td>NaN</td>\n",
              "      <td>NaN</td>\n",
              "      <td>NaN</td>\n",
              "    </tr>\n",
              "  </tbody>\n",
              "</table>\n",
              "<p>5 rows × 33 columns</p>\n",
              "</div>\n",
              "      <button class=\"colab-df-convert\" onclick=\"convertToInteractive('df-d8dc8198-fcd9-426c-993e-10b5a1037123')\"\n",
              "              title=\"Convert this dataframe to an interactive table.\"\n",
              "              style=\"display:none;\">\n",
              "        \n",
              "  <svg xmlns=\"http://www.w3.org/2000/svg\" height=\"24px\"viewBox=\"0 0 24 24\"\n",
              "       width=\"24px\">\n",
              "    <path d=\"M0 0h24v24H0V0z\" fill=\"none\"/>\n",
              "    <path d=\"M18.56 5.44l.94 2.06.94-2.06 2.06-.94-2.06-.94-.94-2.06-.94 2.06-2.06.94zm-11 1L8.5 8.5l.94-2.06 2.06-.94-2.06-.94L8.5 2.5l-.94 2.06-2.06.94zm10 10l.94 2.06.94-2.06 2.06-.94-2.06-.94-.94-2.06-.94 2.06-2.06.94z\"/><path d=\"M17.41 7.96l-1.37-1.37c-.4-.4-.92-.59-1.43-.59-.52 0-1.04.2-1.43.59L10.3 9.45l-7.72 7.72c-.78.78-.78 2.05 0 2.83L4 21.41c.39.39.9.59 1.41.59.51 0 1.02-.2 1.41-.59l7.78-7.78 2.81-2.81c.8-.78.8-2.07 0-2.86zM5.41 20L4 18.59l7.72-7.72 1.47 1.35L5.41 20z\"/>\n",
              "  </svg>\n",
              "      </button>\n",
              "      \n",
              "  <style>\n",
              "    .colab-df-container {\n",
              "      display:flex;\n",
              "      flex-wrap:wrap;\n",
              "      gap: 12px;\n",
              "    }\n",
              "\n",
              "    .colab-df-convert {\n",
              "      background-color: #E8F0FE;\n",
              "      border: none;\n",
              "      border-radius: 50%;\n",
              "      cursor: pointer;\n",
              "      display: none;\n",
              "      fill: #1967D2;\n",
              "      height: 32px;\n",
              "      padding: 0 0 0 0;\n",
              "      width: 32px;\n",
              "    }\n",
              "\n",
              "    .colab-df-convert:hover {\n",
              "      background-color: #E2EBFA;\n",
              "      box-shadow: 0px 1px 2px rgba(60, 64, 67, 0.3), 0px 1px 3px 1px rgba(60, 64, 67, 0.15);\n",
              "      fill: #174EA6;\n",
              "    }\n",
              "\n",
              "    [theme=dark] .colab-df-convert {\n",
              "      background-color: #3B4455;\n",
              "      fill: #D2E3FC;\n",
              "    }\n",
              "\n",
              "    [theme=dark] .colab-df-convert:hover {\n",
              "      background-color: #434B5C;\n",
              "      box-shadow: 0px 1px 3px 1px rgba(0, 0, 0, 0.15);\n",
              "      filter: drop-shadow(0px 1px 2px rgba(0, 0, 0, 0.3));\n",
              "      fill: #FFFFFF;\n",
              "    }\n",
              "  </style>\n",
              "\n",
              "      <script>\n",
              "        const buttonEl =\n",
              "          document.querySelector('#df-d8dc8198-fcd9-426c-993e-10b5a1037123 button.colab-df-convert');\n",
              "        buttonEl.style.display =\n",
              "          google.colab.kernel.accessAllowed ? 'block' : 'none';\n",
              "\n",
              "        async function convertToInteractive(key) {\n",
              "          const element = document.querySelector('#df-d8dc8198-fcd9-426c-993e-10b5a1037123');\n",
              "          const dataTable =\n",
              "            await google.colab.kernel.invokeFunction('convertToInteractive',\n",
              "                                                     [key], {});\n",
              "          if (!dataTable) return;\n",
              "\n",
              "          const docLinkHtml = 'Like what you see? Visit the ' +\n",
              "            '<a target=\"_blank\" href=https://colab.research.google.com/notebooks/data_table.ipynb>data table notebook</a>'\n",
              "            + ' to learn more about interactive tables.';\n",
              "          element.innerHTML = '';\n",
              "          dataTable['output_type'] = 'display_data';\n",
              "          await google.colab.output.renderOutput(dataTable, element);\n",
              "          const docLink = document.createElement('div');\n",
              "          docLink.innerHTML = docLinkHtml;\n",
              "          element.appendChild(docLink);\n",
              "        }\n",
              "      </script>\n",
              "    </div>\n",
              "  </div>\n",
              "  "
            ]
          },
          "metadata": {},
          "execution_count": 4
        }
      ],
      "source": [
        "nb.head()"
      ]
    },
    {
      "cell_type": "code",
      "execution_count": null,
      "metadata": {
        "id": "OVNoDVU1wI3_"
      },
      "outputs": [],
      "source": [
        "# nb = nb[nb['NBUS_NewReturning'].isin(['NEW', 'RETURNING'])]\n",
        "# nb = nb[nb['NewReturning'].isin(['NEW', 'RETURNING'])]\n",
        "# nb = nb[nb['New Customer Order Flag'].isin(['New Customer', 'Returning Customer'])]"
      ]
    },
    {
      "cell_type": "code",
      "execution_count": null,
      "metadata": {
        "id": "Jh82xe9msi9A"
      },
      "outputs": [],
      "source": [
        "nb_clean = pd.read_csv(\"/content/drive/MyDrive/Colab Notebooks/Main Colab Files/CEL/NB_Cleaned.txt\")"
      ]
    },
    {
      "cell_type": "code",
      "execution_count": null,
      "metadata": {
        "id": "4tVJxG6YVRRI"
      },
      "outputs": [],
      "source": [
        "nb_clean.head()"
      ]
    },
    {
      "cell_type": "code",
      "execution_count": null,
      "metadata": {
        "id": "-gzFKAQgVuNa"
      },
      "outputs": [],
      "source": [
        "print(nb.shape)"
      ]
    },
    {
      "cell_type": "code",
      "execution_count": null,
      "metadata": {
        "id": "BkrgHVLkTaaY"
      },
      "outputs": [],
      "source": [
        "nb_bad = nb.query(\"transactionsequence == ['Visa','MasterCard','AmEx']\")"
      ]
    },
    {
      "cell_type": "code",
      "execution_count": null,
      "metadata": {
        "id": "zZaFvSBlThf8"
      },
      "outputs": [],
      "source": [
        "nb_bad"
      ]
    },
    {
      "cell_type": "code",
      "execution_count": null,
      "metadata": {
        "id": "wzA-Ir6hTrRn"
      },
      "outputs": [],
      "source": [
        "print(nb_bad.shape)"
      ]
    },
    {
      "cell_type": "code",
      "execution_count": null,
      "metadata": {
        "id": "vajBCg9hjigU"
      },
      "outputs": [],
      "source": [
        "# nb_fit.query(\"discountcode\t== [0,6.75,'Comfort','FW-W-Cntry','Speed Ride','Studio']\")"
      ]
    },
    {
      "cell_type": "code",
      "execution_count": null,
      "metadata": {
        "id": "qX725klWUaJk"
      },
      "outputs": [],
      "source": [
        "nb_fit = nb.query(\"transactionsequence != ['Visa','MasterCard','AmEx']\")\n",
        "print(nb_fit.shape)"
      ]
    },
    {
      "cell_type": "code",
      "execution_count": null,
      "metadata": {
        "id": "eVapNMqNvNVw"
      },
      "outputs": [],
      "source": [
        "nb_fit.head()"
      ]
    },
    {
      "cell_type": "code",
      "execution_count": null,
      "metadata": {
        "id": "HGovHLo0VlNp"
      },
      "outputs": [],
      "source": [
        "nb_fw = nb_fit.query(\"Class == 'FOOTWEAR'\")\n",
        "print(nb_fw.shape)"
      ]
    },
    {
      "cell_type": "code",
      "execution_count": null,
      "metadata": {
        "id": "NXAbEgwMWm6s"
      },
      "outputs": [],
      "source": [
        "nb_fit['retailprice'] = nb_fit['retailprice'].astype(float)"
      ]
    },
    {
      "cell_type": "code",
      "execution_count": null,
      "metadata": {
        "id": "qL0mxsLcXM96"
      },
      "outputs": [],
      "source": [
        "nb_fit['Order_Placed_Date'] = nb_fit['Order_Placed_Date'].astype(int)\n",
        "nb_fit['Order_Placed_Date'] = nb_fit['Order_Placed_Date'].astype(str)\n",
        "nb_fit['Order_Placed_Date'] = pd.to_datetime(nb_fit['Order_Placed_Date'])"
      ]
    },
    {
      "cell_type": "code",
      "execution_count": null,
      "metadata": {
        "id": "zZ9BwAR0NcXO"
      },
      "outputs": [],
      "source": [
        "nb_fit.head()"
      ]
    },
    {
      "cell_type": "code",
      "execution_count": null,
      "metadata": {
        "id": "5rF1dH0gbFGg"
      },
      "outputs": [],
      "source": [
        "nb_fit['Return_Process_Date'] = nb_fit['Return_Process_Date'].fillna(\"19700101\").astype(int)"
      ]
    },
    {
      "cell_type": "code",
      "execution_count": null,
      "metadata": {
        "id": "Rccx2jnPhKBZ"
      },
      "outputs": [],
      "source": [
        "nb_fit['Return_Process_Date'] = nb_fit['Return_Process_Date'].astype(str)\n",
        "nb_fit['Return_Process_Date'] = pd.to_datetime(nb_fit['Return_Process_Date'])"
      ]
    },
    {
      "cell_type": "code",
      "execution_count": null,
      "metadata": {
        "id": "Tkbw6ycQgZbw"
      },
      "outputs": [],
      "source": [
        "nb_fit.head()"
      ]
    },
    {
      "cell_type": "code",
      "execution_count": null,
      "metadata": {
        "id": "XrV1wNr3q4Zo"
      },
      "outputs": [],
      "source": [
        "nb_fit.to_csv('/content/drive/MyDrive/Colab Notebooks/Main Colab Files/CEL/NB_Cleaned.txt')"
      ]
    },
    {
      "cell_type": "code",
      "execution_count": null,
      "metadata": {
        "id": "i5qQoalmqqIY"
      },
      "outputs": [],
      "source": [
        "nb_fw.to_csv('/content/drive/MyDrive/Colab Notebooks/Main Colab Files/CEL/NB_FOOTWEAR.txt')"
      ]
    },
    {
      "cell_type": "code",
      "execution_count": null,
      "metadata": {
        "id": "xMrwjMwtpYoO"
      },
      "outputs": [],
      "source": [
        "couponamount = nb_fit['couponamount']\n",
        "discountamount = nb_fit['discountamount']\n",
        "transactionsequence = nb_fit['transactionsequence']\n",
        "retailprice = nb_fit['retailprice']\n",
        "ordersubtotal = nb_fit['ordersubtotal']\n",
        "transactiontotal = nb_fit['transactiontotal']\n",
        "transactionsubtotal = nb_fit['transactionsubtotal']\n",
        "Return_Exchange_Order_Subtotal = nb_fit['Return/Exchange Order Subtotal']\n",
        "Return_Exchange_Transaction_Total = nb_fit['Return/Exchange Transaction Total']\n",
        "Return_Exchange_Transaction_Subtotal = nb_fit['Return/Exchange Transaction Subtotal']"
      ]
    },
    {
      "cell_type": "code",
      "execution_count": null,
      "metadata": {
        "id": "CeO-l0bGVB44"
      },
      "outputs": [],
      "source": [
        "object_result = nb_fit.describe(include=['object'])\n",
        "object_result"
      ]
    },
    {
      "cell_type": "code",
      "execution_count": null,
      "metadata": {
        "id": "BXCZ7cQFkPzC"
      },
      "outputs": [],
      "source": [
        "import matplotlib.pyplot as plt   \n",
        "import matplotlib\n",
        "fig = plt.figure(figsize=(16,12), dpi=1080)\n",
        "\n",
        "plt.subplot(231)\n",
        "plt.hist(x = Return_Exchange_Order_Subtotal, \n",
        "         range = (-230,2),\n",
        "         bins = 20, \n",
        "         color = 'steelblue', \n",
        "         edgecolor = 'black' \n",
        "          )\n",
        "plt.ylabel(\"Frequency\")\n",
        "plt.xlabel(\"Return_Exchange_Order_Subtotal\")\n",
        "\n",
        "\n",
        "plt.subplot(232)\n",
        "plt.hist(x = Return_Exchange_Transaction_Total, \n",
        "         range = (-230,2),\n",
        "         bins = 20, \n",
        "         color = 'steelblue', \n",
        "         edgecolor = 'black' \n",
        "          )\n",
        "plt.ylabel(\"Frequency\")\n",
        "plt.xlabel(\"Return_Exchange_Transaction_Total\")\n",
        "\n",
        "\n",
        "plt.subplot(233)\n",
        "plt.hist(x = Return_Exchange_Transaction_Subtotal, \n",
        "         range = (-230,2),\n",
        "         bins = 20, \n",
        "         color = 'steelblue', \n",
        "         edgecolor = 'black' \n",
        "          )\n",
        "plt.ylabel(\"Frequency\")\n",
        "plt.xlabel(\"Return_Exchange_Transaction_Subtotal\")\n",
        "\n",
        "\n",
        "plt.subplot(234)\n",
        "plt.hist(x = df[\"transactiontotal\"].astype(float), \n",
        "         range = (-50,250),\n",
        "         bins = 20, \n",
        "         color = 'steelblue', \n",
        "         edgecolor = 'black' \n",
        "          )\n",
        "plt.ylabel(\"Frequency\")\n",
        "plt.xlabel(\"Transaction Total\")\n",
        "\n",
        "\n",
        "plt.subplot(235)\n",
        "plt.hist(x = df[\"transactionsubtotal\"].astype(float), \n",
        "         range = (-50,250),\n",
        "         bins = 20, \n",
        "         color = 'steelblue', \n",
        "         edgecolor = 'black' \n",
        "          )\n",
        "plt.ylabel(\"Frequency\")\n",
        "plt.xlabel(\"Transaction Subtotal\")\n",
        "\n",
        "\n",
        "plt.subplot(236)\n",
        "plt.hist(x = df[\"ordersubtotal\"].astype(float), \n",
        "         range = (-50,250),\n",
        "         bins = 20, \n",
        "         color = 'steelblue',\n",
        "         edgecolor = 'black' \n",
        "          )\n",
        "plt.ylabel(\"Frequency\")\n",
        "plt.xlabel(\"Order Subtotal\")\n",
        "\n",
        "\n",
        "plt.suptitle('Frequency Distribution of Numerical Variables')\n",
        "plt.show()"
      ]
    },
    {
      "cell_type": "code",
      "execution_count": null,
      "metadata": {
        "id": "sPaTjc1bZpKx"
      },
      "outputs": [],
      "source": [
        "couponamount = nb_num['couponamount']\n",
        "discountamount = nb_num['discountamount']\n",
        "# nb_1 = nb_fit[nb_fit[:,(13,15)]!=0,:]\n",
        "# nb_fit[nb_fit.couponamount.isin([4.9])]"
      ]
    },
    {
      "cell_type": "code",
      "execution_count": null,
      "metadata": {
        "id": "cfRhYslJfI6O"
      },
      "outputs": [],
      "source": [
        "#couponamount = couponamount[couponamount>0]\n",
        "nb_num['couponamount'] = nb_num['couponamount'].astype(float)"
      ]
    },
    {
      "cell_type": "code",
      "execution_count": null,
      "metadata": {
        "id": "uXjf7hUSMioV"
      },
      "outputs": [],
      "source": [
        "couponamnt_wo_zero = nb_num[nb_num['couponamount']!=0.0].couponamount"
      ]
    },
    {
      "cell_type": "code",
      "execution_count": null,
      "metadata": {
        "id": "rX531CaFfK3M"
      },
      "outputs": [],
      "source": [
        "couponamnt_wo_zero = nb_num[nb_num['couponamount']!=0].couponamount\n",
        "discountamnt_wo_zero = nb_num[nb_num['discountamount']!=0].discountamount"
      ]
    },
    {
      "cell_type": "code",
      "execution_count": null,
      "metadata": {
        "id": "hxHi2LXuKezL"
      },
      "outputs": [],
      "source": [
        "couponamnt_wo_zero.value_counts()"
      ]
    },
    {
      "cell_type": "code",
      "execution_count": null,
      "metadata": {
        "id": "Aep6CSKTksT6"
      },
      "outputs": [],
      "source": [
        "def status(x) : \n",
        "    return pd.Series([x.nunique(),x.sum(),x.min(),x.idxmin(),x.quantile(.25),x.median(),\n",
        "                      x.quantile(.75),x.mean(),x.max(),x.idxmax(),x.mode(),x.mad(),x.var(),\n",
        "                      x.std()],index=['Count','Sum','Min','Min_id','25%Quantile',\n",
        "                    'Medium','75%Quantile','Mean','Max','Max_id','Mode','MAD','Var','Std'])\n",
        "\n"
      ]
    },
    {
      "cell_type": "code",
      "execution_count": null,
      "metadata": {
        "id": "_R_Gud9I9VzP"
      },
      "outputs": [],
      "source": [
        "nb_num = pd.DataFrame(np.array([couponamount,discountamount,retailprice,ordersubtotal,transactiontotal,transactionsubtotal,Return_Exchange_Order_Subtotal,Return_Exchange_Transaction_Total,Return_Exchange_Transaction_Subtotal]).T, columns=['couponamount','discountamount','retailprice','ordersubtotal','transactiontotal','transactionsubtotal','Return_Exchange_Order_Subtotal','Return_Exchange_Transaction_Total','Return_Exchange_Transaction_Subtotal'])\n",
        "\n",
        "nb_num.head()"
      ]
    },
    {
      "cell_type": "code",
      "execution_count": null,
      "metadata": {
        "id": "5MYy_LrLm1fa"
      },
      "outputs": [],
      "source": [
        "nb_num.apply(pd.to_numeric,errors=\"coerce\").fillna(0)"
      ]
    },
    {
      "cell_type": "code",
      "execution_count": null,
      "metadata": {
        "id": "eElofhKyQXbS"
      },
      "outputs": [],
      "source": [
        "nb['consumer_key'].nunique()"
      ]
    },
    {
      "cell_type": "code",
      "execution_count": null,
      "metadata": {
        "id": "cAMOZu61Q8MJ"
      },
      "outputs": [],
      "source": [
        "df1 = nb[nb['New Customer Order Flag'].isin(['New Customer'])]\n",
        "df1.head()"
      ]
    },
    {
      "cell_type": "code",
      "execution_count": null,
      "metadata": {
        "id": "ApOH52MEUbVY"
      },
      "outputs": [],
      "source": [
        "df1['consumer_key'].nunique()"
      ]
    },
    {
      "cell_type": "code",
      "execution_count": null,
      "metadata": {
        "id": "x2FW4PutU0fl"
      },
      "outputs": [],
      "source": [
        "df1['consumer_key'].value_counts()"
      ]
    },
    {
      "cell_type": "code",
      "execution_count": null,
      "metadata": {
        "id": "NkZ8nHWMEmRQ"
      },
      "outputs": [],
      "source": [
        "nb['Return/Exchange'].value_counts()"
      ]
    },
    {
      "cell_type": "code",
      "execution_count": null,
      "metadata": {
        "id": "zRGV1cPFos8j"
      },
      "outputs": [],
      "source": [
        "traindata=pd.DataFrame(df,dtype=np.float)"
      ]
    },
    {
      "cell_type": "code",
      "execution_count": null,
      "metadata": {
        "id": "F1-zZ_ZfnG0d"
      },
      "outputs": [],
      "source": [
        "traindata.apply(status)"
      ]
    },
    {
      "cell_type": "code",
      "execution_count": null,
      "metadata": {
        "id": "TDBtMubsqYUk"
      },
      "outputs": [],
      "source": [
        "traindata.mode()"
      ]
    },
    {
      "cell_type": "markdown",
      "metadata": {
        "id": "IkSw6YAO1VjB"
      },
      "source": [
        "## Part 2 : Predictive Analysis"
      ]
    },
    {
      "cell_type": "markdown",
      "metadata": {
        "id": "7RpBMRiE1O3Z"
      },
      "source": [
        "### Question 1: Return or Not (Classfication Model)"
      ]
    },
    {
      "cell_type": "markdown",
      "metadata": {
        "id": "Ugvro1g3_xb_"
      },
      "source": [
        "#### Create input and output variables"
      ]
    },
    {
      "cell_type": "code",
      "execution_count": 3,
      "metadata": {
        "id": "WAcD6XGN1ug6"
      },
      "outputs": [],
      "source": [
        "import pandas as pd\n",
        "import numpy as np\n",
        "\n",
        "pd.set_option('display.max_columns', None)\n",
        "pd.set_option('display.max_rows', None)\n",
        "\n",
        "df = pd.read_csv(\"/content/drive/MyDrive/Colab Notebooks/Main Colab Files/CEL/NB_Cleaned.txt\")\n",
        "df = df.query(\"Class == 'FOOTWEAR'\")"
      ]
    },
    {
      "cell_type": "code",
      "execution_count": 4,
      "metadata": {
        "colab": {
          "base_uri": "https://localhost:8080/",
          "height": 409
        },
        "id": "LcAgKLzPG_3w",
        "outputId": "f00ad115-db93-421f-e271-a34c1d0cf7d0"
      },
      "outputs": [
        {
          "output_type": "execute_result",
          "data": {
            "text/plain": [
              "   Unnamed: 0 ordernumber  transactionsequence  orderitem_id  \\\n",
              "0           0   NS6930564                    2    51029577.0   \n",
              "1           1   NSE707387                    2    67558774.0   \n",
              "2           2   NSE646379                    2    67388151.0   \n",
              "3           3   NSE702138                    2    67541045.0   \n",
              "4           4   NSE857893                    2    67929334.0   \n",
              "\n",
              "  Order_Placed_Date  consumer_key New Customer Order Flag NBUS_NewReturning  \\\n",
              "0        2018-05-10     8055027.0            New Customer               NEW   \n",
              "1        2021-03-11    18871404.0            New Customer               NEW   \n",
              "2        2021-03-03    18790660.0            New Customer               NEW   \n",
              "3        2021-03-10    18804019.0            New Customer               NEW   \n",
              "4        2021-03-29    19048315.0            New Customer               NEW   \n",
              "\n",
              "  NewReturning Billing Postal Code Shipping Postal Code paymenttype  \\\n",
              "0          NEW          90605-1643           90605-1643        Visa   \n",
              "1          NEW               54701                54701        Visa   \n",
              "2          NEW               97801                97801    Afterpay   \n",
              "3          NEW               76302                76302  MasterCard   \n",
              "4          NEW               92270                92270        Visa   \n",
              "\n",
              "  couponcode  couponamount  discountcode  discountamount  retailprice  \\\n",
              "0   HILTON15          7.86           NaN             0.0        54.99   \n",
              "1        NaN          0.00           NaN             0.0        79.99   \n",
              "2        NaN          0.00           NaN             0.0        79.99   \n",
              "3        NaN          0.00           NaN             0.0        79.99   \n",
              "4        NaN          0.00           NaN             0.0       129.99   \n",
              "\n",
              "   ordersubtotal  transactiontotal  transactionsubtotal     Class  Category  \\\n",
              "0          47.13             51.61                54.99  FOOTWEAR      Kids   \n",
              "1          79.99             84.39                79.99  FOOTWEAR   Running   \n",
              "2          79.99             79.99                79.99  FOOTWEAR  Classics   \n",
              "3          79.99             86.59                79.99  FOOTWEAR  Classics   \n",
              "4         129.99            140.06               129.99  FOOTWEAR   Running   \n",
              "\n",
              "       Gender         Subcategory           SKU     style width_color  \\\n",
              "0  GRADESCHOO       Trail/Outdoor  798248416683  KTNTRPNY           W   \n",
              "1       WOMEN  Neutral Cushioning  194389002622   WCRZRRB           B   \n",
              "2       WOMEN            Heritage  195173233000  WL574WK2           B   \n",
              "3       WOMEN            Heritage  195173231297  WL574VA2           B   \n",
              "4         MEN           Stability  194389943086   M860A11           D   \n",
              "\n",
              "  transactiontype shipmethod Return/Exchange Return_Process_Date  \\\n",
              "0           sales    UPSSPPS             NaN          1970-01-01   \n",
              "1           sales     Ground             NaN          1970-01-01   \n",
              "2           sales     Ground             NaN          1970-01-01   \n",
              "3           sales     Ground             NaN          1970-01-01   \n",
              "4           sales     Ground             NaN          1970-01-01   \n",
              "\n",
              "   Return/Exchange Order Subtotal  Return/Exchange Transaction Total  \\\n",
              "0                             NaN                                NaN   \n",
              "1                             NaN                                NaN   \n",
              "2                             NaN                                NaN   \n",
              "3                             NaN                                NaN   \n",
              "4                             NaN                                NaN   \n",
              "\n",
              "   Return/Exchange Transaction Subtotal  \n",
              "0                                   NaN  \n",
              "1                                   NaN  \n",
              "2                                   NaN  \n",
              "3                                   NaN  \n",
              "4                                   NaN  "
            ],
            "text/html": [
              "\n",
              "  <div id=\"df-cd86311a-0b34-4ac6-a966-9ae46b508c4c\">\n",
              "    <div class=\"colab-df-container\">\n",
              "      <div>\n",
              "<style scoped>\n",
              "    .dataframe tbody tr th:only-of-type {\n",
              "        vertical-align: middle;\n",
              "    }\n",
              "\n",
              "    .dataframe tbody tr th {\n",
              "        vertical-align: top;\n",
              "    }\n",
              "\n",
              "    .dataframe thead th {\n",
              "        text-align: right;\n",
              "    }\n",
              "</style>\n",
              "<table border=\"1\" class=\"dataframe\">\n",
              "  <thead>\n",
              "    <tr style=\"text-align: right;\">\n",
              "      <th></th>\n",
              "      <th>Unnamed: 0</th>\n",
              "      <th>ordernumber</th>\n",
              "      <th>transactionsequence</th>\n",
              "      <th>orderitem_id</th>\n",
              "      <th>Order_Placed_Date</th>\n",
              "      <th>consumer_key</th>\n",
              "      <th>New Customer Order Flag</th>\n",
              "      <th>NBUS_NewReturning</th>\n",
              "      <th>NewReturning</th>\n",
              "      <th>Billing Postal Code</th>\n",
              "      <th>Shipping Postal Code</th>\n",
              "      <th>paymenttype</th>\n",
              "      <th>couponcode</th>\n",
              "      <th>couponamount</th>\n",
              "      <th>discountcode</th>\n",
              "      <th>discountamount</th>\n",
              "      <th>retailprice</th>\n",
              "      <th>ordersubtotal</th>\n",
              "      <th>transactiontotal</th>\n",
              "      <th>transactionsubtotal</th>\n",
              "      <th>Class</th>\n",
              "      <th>Category</th>\n",
              "      <th>Gender</th>\n",
              "      <th>Subcategory</th>\n",
              "      <th>SKU</th>\n",
              "      <th>style</th>\n",
              "      <th>width_color</th>\n",
              "      <th>transactiontype</th>\n",
              "      <th>shipmethod</th>\n",
              "      <th>Return/Exchange</th>\n",
              "      <th>Return_Process_Date</th>\n",
              "      <th>Return/Exchange Order Subtotal</th>\n",
              "      <th>Return/Exchange Transaction Total</th>\n",
              "      <th>Return/Exchange Transaction Subtotal</th>\n",
              "    </tr>\n",
              "  </thead>\n",
              "  <tbody>\n",
              "    <tr>\n",
              "      <th>0</th>\n",
              "      <td>0</td>\n",
              "      <td>NS6930564</td>\n",
              "      <td>2</td>\n",
              "      <td>51029577.0</td>\n",
              "      <td>2018-05-10</td>\n",
              "      <td>8055027.0</td>\n",
              "      <td>New Customer</td>\n",
              "      <td>NEW</td>\n",
              "      <td>NEW</td>\n",
              "      <td>90605-1643</td>\n",
              "      <td>90605-1643</td>\n",
              "      <td>Visa</td>\n",
              "      <td>HILTON15</td>\n",
              "      <td>7.86</td>\n",
              "      <td>NaN</td>\n",
              "      <td>0.0</td>\n",
              "      <td>54.99</td>\n",
              "      <td>47.13</td>\n",
              "      <td>51.61</td>\n",
              "      <td>54.99</td>\n",
              "      <td>FOOTWEAR</td>\n",
              "      <td>Kids</td>\n",
              "      <td>GRADESCHOO</td>\n",
              "      <td>Trail/Outdoor</td>\n",
              "      <td>798248416683</td>\n",
              "      <td>KTNTRPNY</td>\n",
              "      <td>W</td>\n",
              "      <td>sales</td>\n",
              "      <td>UPSSPPS</td>\n",
              "      <td>NaN</td>\n",
              "      <td>1970-01-01</td>\n",
              "      <td>NaN</td>\n",
              "      <td>NaN</td>\n",
              "      <td>NaN</td>\n",
              "    </tr>\n",
              "    <tr>\n",
              "      <th>1</th>\n",
              "      <td>1</td>\n",
              "      <td>NSE707387</td>\n",
              "      <td>2</td>\n",
              "      <td>67558774.0</td>\n",
              "      <td>2021-03-11</td>\n",
              "      <td>18871404.0</td>\n",
              "      <td>New Customer</td>\n",
              "      <td>NEW</td>\n",
              "      <td>NEW</td>\n",
              "      <td>54701</td>\n",
              "      <td>54701</td>\n",
              "      <td>Visa</td>\n",
              "      <td>NaN</td>\n",
              "      <td>0.00</td>\n",
              "      <td>NaN</td>\n",
              "      <td>0.0</td>\n",
              "      <td>79.99</td>\n",
              "      <td>79.99</td>\n",
              "      <td>84.39</td>\n",
              "      <td>79.99</td>\n",
              "      <td>FOOTWEAR</td>\n",
              "      <td>Running</td>\n",
              "      <td>WOMEN</td>\n",
              "      <td>Neutral Cushioning</td>\n",
              "      <td>194389002622</td>\n",
              "      <td>WCRZRRB</td>\n",
              "      <td>B</td>\n",
              "      <td>sales</td>\n",
              "      <td>Ground</td>\n",
              "      <td>NaN</td>\n",
              "      <td>1970-01-01</td>\n",
              "      <td>NaN</td>\n",
              "      <td>NaN</td>\n",
              "      <td>NaN</td>\n",
              "    </tr>\n",
              "    <tr>\n",
              "      <th>2</th>\n",
              "      <td>2</td>\n",
              "      <td>NSE646379</td>\n",
              "      <td>2</td>\n",
              "      <td>67388151.0</td>\n",
              "      <td>2021-03-03</td>\n",
              "      <td>18790660.0</td>\n",
              "      <td>New Customer</td>\n",
              "      <td>NEW</td>\n",
              "      <td>NEW</td>\n",
              "      <td>97801</td>\n",
              "      <td>97801</td>\n",
              "      <td>Afterpay</td>\n",
              "      <td>NaN</td>\n",
              "      <td>0.00</td>\n",
              "      <td>NaN</td>\n",
              "      <td>0.0</td>\n",
              "      <td>79.99</td>\n",
              "      <td>79.99</td>\n",
              "      <td>79.99</td>\n",
              "      <td>79.99</td>\n",
              "      <td>FOOTWEAR</td>\n",
              "      <td>Classics</td>\n",
              "      <td>WOMEN</td>\n",
              "      <td>Heritage</td>\n",
              "      <td>195173233000</td>\n",
              "      <td>WL574WK2</td>\n",
              "      <td>B</td>\n",
              "      <td>sales</td>\n",
              "      <td>Ground</td>\n",
              "      <td>NaN</td>\n",
              "      <td>1970-01-01</td>\n",
              "      <td>NaN</td>\n",
              "      <td>NaN</td>\n",
              "      <td>NaN</td>\n",
              "    </tr>\n",
              "    <tr>\n",
              "      <th>3</th>\n",
              "      <td>3</td>\n",
              "      <td>NSE702138</td>\n",
              "      <td>2</td>\n",
              "      <td>67541045.0</td>\n",
              "      <td>2021-03-10</td>\n",
              "      <td>18804019.0</td>\n",
              "      <td>New Customer</td>\n",
              "      <td>NEW</td>\n",
              "      <td>NEW</td>\n",
              "      <td>76302</td>\n",
              "      <td>76302</td>\n",
              "      <td>MasterCard</td>\n",
              "      <td>NaN</td>\n",
              "      <td>0.00</td>\n",
              "      <td>NaN</td>\n",
              "      <td>0.0</td>\n",
              "      <td>79.99</td>\n",
              "      <td>79.99</td>\n",
              "      <td>86.59</td>\n",
              "      <td>79.99</td>\n",
              "      <td>FOOTWEAR</td>\n",
              "      <td>Classics</td>\n",
              "      <td>WOMEN</td>\n",
              "      <td>Heritage</td>\n",
              "      <td>195173231297</td>\n",
              "      <td>WL574VA2</td>\n",
              "      <td>B</td>\n",
              "      <td>sales</td>\n",
              "      <td>Ground</td>\n",
              "      <td>NaN</td>\n",
              "      <td>1970-01-01</td>\n",
              "      <td>NaN</td>\n",
              "      <td>NaN</td>\n",
              "      <td>NaN</td>\n",
              "    </tr>\n",
              "    <tr>\n",
              "      <th>4</th>\n",
              "      <td>4</td>\n",
              "      <td>NSE857893</td>\n",
              "      <td>2</td>\n",
              "      <td>67929334.0</td>\n",
              "      <td>2021-03-29</td>\n",
              "      <td>19048315.0</td>\n",
              "      <td>New Customer</td>\n",
              "      <td>NEW</td>\n",
              "      <td>NEW</td>\n",
              "      <td>92270</td>\n",
              "      <td>92270</td>\n",
              "      <td>Visa</td>\n",
              "      <td>NaN</td>\n",
              "      <td>0.00</td>\n",
              "      <td>NaN</td>\n",
              "      <td>0.0</td>\n",
              "      <td>129.99</td>\n",
              "      <td>129.99</td>\n",
              "      <td>140.06</td>\n",
              "      <td>129.99</td>\n",
              "      <td>FOOTWEAR</td>\n",
              "      <td>Running</td>\n",
              "      <td>MEN</td>\n",
              "      <td>Stability</td>\n",
              "      <td>194389943086</td>\n",
              "      <td>M860A11</td>\n",
              "      <td>D</td>\n",
              "      <td>sales</td>\n",
              "      <td>Ground</td>\n",
              "      <td>NaN</td>\n",
              "      <td>1970-01-01</td>\n",
              "      <td>NaN</td>\n",
              "      <td>NaN</td>\n",
              "      <td>NaN</td>\n",
              "    </tr>\n",
              "  </tbody>\n",
              "</table>\n",
              "</div>\n",
              "      <button class=\"colab-df-convert\" onclick=\"convertToInteractive('df-cd86311a-0b34-4ac6-a966-9ae46b508c4c')\"\n",
              "              title=\"Convert this dataframe to an interactive table.\"\n",
              "              style=\"display:none;\">\n",
              "        \n",
              "  <svg xmlns=\"http://www.w3.org/2000/svg\" height=\"24px\"viewBox=\"0 0 24 24\"\n",
              "       width=\"24px\">\n",
              "    <path d=\"M0 0h24v24H0V0z\" fill=\"none\"/>\n",
              "    <path d=\"M18.56 5.44l.94 2.06.94-2.06 2.06-.94-2.06-.94-.94-2.06-.94 2.06-2.06.94zm-11 1L8.5 8.5l.94-2.06 2.06-.94-2.06-.94L8.5 2.5l-.94 2.06-2.06.94zm10 10l.94 2.06.94-2.06 2.06-.94-2.06-.94-.94-2.06-.94 2.06-2.06.94z\"/><path d=\"M17.41 7.96l-1.37-1.37c-.4-.4-.92-.59-1.43-.59-.52 0-1.04.2-1.43.59L10.3 9.45l-7.72 7.72c-.78.78-.78 2.05 0 2.83L4 21.41c.39.39.9.59 1.41.59.51 0 1.02-.2 1.41-.59l7.78-7.78 2.81-2.81c.8-.78.8-2.07 0-2.86zM5.41 20L4 18.59l7.72-7.72 1.47 1.35L5.41 20z\"/>\n",
              "  </svg>\n",
              "      </button>\n",
              "      \n",
              "  <style>\n",
              "    .colab-df-container {\n",
              "      display:flex;\n",
              "      flex-wrap:wrap;\n",
              "      gap: 12px;\n",
              "    }\n",
              "\n",
              "    .colab-df-convert {\n",
              "      background-color: #E8F0FE;\n",
              "      border: none;\n",
              "      border-radius: 50%;\n",
              "      cursor: pointer;\n",
              "      display: none;\n",
              "      fill: #1967D2;\n",
              "      height: 32px;\n",
              "      padding: 0 0 0 0;\n",
              "      width: 32px;\n",
              "    }\n",
              "\n",
              "    .colab-df-convert:hover {\n",
              "      background-color: #E2EBFA;\n",
              "      box-shadow: 0px 1px 2px rgba(60, 64, 67, 0.3), 0px 1px 3px 1px rgba(60, 64, 67, 0.15);\n",
              "      fill: #174EA6;\n",
              "    }\n",
              "\n",
              "    [theme=dark] .colab-df-convert {\n",
              "      background-color: #3B4455;\n",
              "      fill: #D2E3FC;\n",
              "    }\n",
              "\n",
              "    [theme=dark] .colab-df-convert:hover {\n",
              "      background-color: #434B5C;\n",
              "      box-shadow: 0px 1px 3px 1px rgba(0, 0, 0, 0.15);\n",
              "      filter: drop-shadow(0px 1px 2px rgba(0, 0, 0, 0.3));\n",
              "      fill: #FFFFFF;\n",
              "    }\n",
              "  </style>\n",
              "\n",
              "      <script>\n",
              "        const buttonEl =\n",
              "          document.querySelector('#df-cd86311a-0b34-4ac6-a966-9ae46b508c4c button.colab-df-convert');\n",
              "        buttonEl.style.display =\n",
              "          google.colab.kernel.accessAllowed ? 'block' : 'none';\n",
              "\n",
              "        async function convertToInteractive(key) {\n",
              "          const element = document.querySelector('#df-cd86311a-0b34-4ac6-a966-9ae46b508c4c');\n",
              "          const dataTable =\n",
              "            await google.colab.kernel.invokeFunction('convertToInteractive',\n",
              "                                                     [key], {});\n",
              "          if (!dataTable) return;\n",
              "\n",
              "          const docLinkHtml = 'Like what you see? Visit the ' +\n",
              "            '<a target=\"_blank\" href=https://colab.research.google.com/notebooks/data_table.ipynb>data table notebook</a>'\n",
              "            + ' to learn more about interactive tables.';\n",
              "          element.innerHTML = '';\n",
              "          dataTable['output_type'] = 'display_data';\n",
              "          await google.colab.output.renderOutput(dataTable, element);\n",
              "          const docLink = document.createElement('div');\n",
              "          docLink.innerHTML = docLinkHtml;\n",
              "          element.appendChild(docLink);\n",
              "        }\n",
              "      </script>\n",
              "    </div>\n",
              "  </div>\n",
              "  "
            ]
          },
          "metadata": {},
          "execution_count": 4
        }
      ],
      "source": [
        "df.head()"
      ]
    },
    {
      "cell_type": "code",
      "execution_count": 7,
      "metadata": {
        "colab": {
          "base_uri": "https://localhost:8080/"
        },
        "id": "lrkkFgGtqBqm",
        "outputId": "7092fe40-3ed9-4567-d617-5b0e3cf38da3"
      },
      "outputs": [
        {
          "output_type": "execute_result",
          "data": {
            "text/plain": [
              "(5789440, 34)"
            ]
          },
          "metadata": {},
          "execution_count": 7
        }
      ],
      "source": [
        "df.shape"
      ]
    },
    {
      "cell_type": "code",
      "execution_count": 5,
      "metadata": {
        "id": "NgRsrS9xfRmQ"
      },
      "outputs": [],
      "source": [
        "nb_1 = pd.DataFrame()"
      ]
    },
    {
      "cell_type": "code",
      "execution_count": 6,
      "metadata": {
        "id": "7BegKOI4dwCc"
      },
      "outputs": [],
      "source": [
        "# Output: Return or Not\n",
        "Return = df[\"Return/Exchange\"].str.lower()\n",
        "nb_1[\"Return\"] = np.where(Return != \"returns\",0,1)"
      ]
    },
    {
      "cell_type": "code",
      "execution_count": 7,
      "metadata": {
        "id": "c5S3mDXnRyRz"
      },
      "outputs": [],
      "source": [
        "paymenttype = df[\"paymenttype\"].str.lower()\n",
        "\n",
        "# #check if payment type is visa\n",
        "# nb_1['Visa'] = np.where(paymenttype == 'visa', 1, 0)\n",
        "\n",
        "# #check if payment type is Paypal\n",
        "# nb_1['Paypal'] = np.where(paymenttype == 'paypal', 1, 0)\n",
        "\n",
        "# #check if payment type is MasterCard\n",
        "# nb_1['MasterCard'] = np.where(paymenttype.str.contains('master'), 1, 0)\n",
        "\n",
        "#check if payment type is AMEX\n",
        "nb_1['AMEX'] = np.where(paymenttype == 'amex', 1, 0)"
      ]
    },
    {
      "cell_type": "code",
      "execution_count": 8,
      "metadata": {
        "id": "udlbMMjoDID1"
      },
      "outputs": [],
      "source": [
        "# # convert coupon amount ($) to % of retail price\n",
        "# nb_1['Coupon_Amount'] = (df['couponamount'] / df['retailprice']) * 100\n",
        "\n",
        "# convert discount amount + coupon amount ($) to % of retail price\n",
        "nb_1['Discount'] = ((df['discountamount']+df['couponamount']) / df['transactionsubtotal']) * 100"
      ]
    },
    {
      "cell_type": "code",
      "execution_count": 9,
      "metadata": {
        "id": "Tc90INEMHEOR"
      },
      "outputs": [],
      "source": [
        "# number of days from order placed date to current date\n",
        "import datetime\n",
        "now_str = datetime.datetime.now().strftime('%Y-%m-%d')\n",
        "now = datetime.datetime.strptime(now_str, \"%Y-%m-%d\")\n",
        "df['Order_Placed_Date'] = pd.to_datetime(df['Order_Placed_Date'], format = \"%Y-%m-%d\")\n",
        "nb_1['Days_to_Date'] = (now - df['Order_Placed_Date']).apply(lambda x : x.days)"
      ]
    },
    {
      "cell_type": "code",
      "execution_count": 10,
      "metadata": {
        "id": "9USfify7kpoQ"
      },
      "outputs": [],
      "source": [
        "nb_1['Retail_Price'] = df['retailprice']"
      ]
    },
    {
      "cell_type": "code",
      "source": [
        "Size = df[\"width_color\"]\n",
        "nb_1['D_size'] = np.where(Size == 'D', 1, 0)\n",
        "nb_1['B_size'] = np.where(Size == 'B', 1, 0)\n",
        "nb_1['2E_size'] = np.where(Size == '2E', 1, 0)"
      ],
      "metadata": {
        "id": "Lx0aGVq69wVf"
      },
      "execution_count": 11,
      "outputs": []
    },
    {
      "cell_type": "code",
      "source": [
        "Style = df[\"style\"]\n",
        "\n",
        "nb_1['574_Collection'] = np.where(Style.str.contains(\"574\"), 1, 0)\n",
        "nb_1['993_Collection'] = np.where(Style.str.contains(\"990\"), 1, 0)\n",
        "nb_1['990_Collection'] = np.where(Style.str.contains(\"993\"), 1, 0)"
      ],
      "metadata": {
        "id": "QNSxur_-_hkb"
      },
      "execution_count": 12,
      "outputs": []
    },
    {
      "cell_type": "code",
      "source": [
        "no = {}\n",
        "ordernumbers = df[\"ordernumber\"]\n",
        "for parent_order in ordernumbers:\n",
        "  if parent_order in no:\n",
        "    no[parent_order]+=1\n",
        "  else:\n",
        "    no[parent_order]=1\n",
        "\n",
        "nb_1[\"Suborders\"] = list(map(no.get, df['ordernumber']))"
      ],
      "metadata": {
        "id": "D5Bhy3-lCO5l"
      },
      "execution_count": 13,
      "outputs": []
    },
    {
      "cell_type": "code",
      "source": [
        "## zipcode\n",
        "# Is billing code = shipping code?\n",
        "nb_1['Diff_zipcodes'] = np.where(df['Billing Postal Code'] != df['Shipping Postal Code'], 1, 0)\n",
        "\n",
        "# 1st digit of shipping code\n",
        "nb_1['1st_digit_shipcodes'] = df.loc[df['Shipping Postal Code'].notna(), 'Shipping Postal Code'].apply(lambda x: str(x)[:2])\n"
      ],
      "metadata": {
        "id": "nt8K45CWK7Yx"
      },
      "execution_count": 14,
      "outputs": []
    },
    {
      "cell_type": "code",
      "execution_count": 15,
      "metadata": {
        "id": "fdyMgrCt8jGn"
      },
      "outputs": [],
      "source": [
        "#check if male or female\n",
        "nb_1['Women'] = np.where(df[\"Gender\"]==\"WOMEN\", 1, 0)\n",
        "nb_1['Men'] = np.where(df[\"Gender\"]==\"MEN\", 1, 0)\n",
        "nb_1['Unisex'] = np.where(df[\"Gender\"]==\"UNISEX\", 1, 0)\n",
        "\n",
        "#check if new customer    \n",
        "nb_1['New_customer'] = np.where(df['New Customer Order Flag']=='New Customer', 1, 0)\n",
        "\n",
        "#check if UPSSPPS\n",
        "nb_1['UPSSPPS'] = np.where(df['shipmethod']=='UPSSPPS', 1, 0)\n",
        "\n",
        "#check if shipping method was Ground\n",
        "nb_1['Ground'] = np.where(df['shipmethod']=='Ground', 1, 0)"
      ]
    },
    {
      "cell_type": "code",
      "execution_count": 16,
      "metadata": {
        "id": "szV7aisJN9fF"
      },
      "outputs": [],
      "source": [
        "Category = df[\"Category\"].str.lower()\n",
        "Subcategory = df[\"Subcategory\"]\n",
        "\n",
        "# # check if Category = Running or FW Running or Trail Running and Subcategory = Neutral Cushioning\n",
        "# nb_1[\"Running_Neutral\"] = np.where((Category.str.contains(\"running\")) & (Subcategory == 'Neutral Cushioning'),1,0)\n",
        "\n",
        "# # check if Category = Running or FW Running or Trail Running and Subcategory ≠ Neutral Cushioning\n",
        "# nb_1[\"Running_Not_Neutral\"] = np.where((Category.str.contains(\"running\")) & (Subcategory != 'Neutral Cushioning'),1,0)\n",
        "\n",
        "# check if Category = Running or FW Running or Trail Running\n",
        "nb_1[\"Running\"] = np.where((Category.str.contains(\"running\")),1,0)\n",
        "\n",
        "# # check if Category = Classic or FW Classic and Subcategory = Heritage\n",
        "# nb_1[\"Classics_Heritage\"] = np.where((Category.str.contains(\"classic\")) & (Subcategory == 'Heritage'),1,0)\n",
        "\n",
        "# # check if Category = Classic or FW Classic and Subcategory ≠ Heritage\n",
        "\n",
        "# check if Category = Classic or FW Classic and Subcategory = Heritage\n",
        "nb_1[\"Classics\"] = np.where((Category.str.contains(\"classic\")),1,0)\n",
        "\n",
        "nb_1[\"FW-R-Train\"] = np.where((Subcategory.str.contains(\"FW-R-Train\")),1,0)\n",
        "\n",
        "# # check if Category = Kids\n",
        "# nb_1[\"Kids\"] = np.where((Category.str.contains(\"kid\")), 1, 0)\n",
        "\n",
        "# check if Category = Training or FW X-Train\n",
        "nb_1[\"Training\"] = np.where((Category.str.contains(\"train\")),1,0)\n",
        "\n",
        "# check if Category = Walking or FW Walking\n",
        "nb_1[\"Walking\"] = np.where((Category.str.contains(\"walking\")),1,0)\n",
        "\n",
        "# check if Category = Ball Games\n",
        "nb_1[\"Football\"] = np.where((Category.str.contains(\"football\")),1,0)\n",
        "nb_1[\"Tennis\"] = np.where((Category.str.contains(\"tennis\")),1,0)\n",
        "nb_1[\"Baseball\"] = np.where((Category.str.contains(\"baseball\")),1,0)"
      ]
    },
    {
      "cell_type": "code",
      "execution_count": 18,
      "metadata": {
        "colab": {
          "base_uri": "https://localhost:8080/",
          "height": 287
        },
        "id": "gpubNOSVhFoP",
        "outputId": "4087d265-c1fd-4ba4-eced-2b68055f28eb"
      },
      "outputs": [
        {
          "output_type": "execute_result",
          "data": {
            "text/plain": [
              "   Return  AMEX   Discount  Days_to_Date  Retail_Price  D_size  B_size  \\\n",
              "0       0     0  14.293508        1424.0         54.99       0       0   \n",
              "1       0     0   0.000000         388.0         79.99       0       1   \n",
              "2       0     0   0.000000         396.0         79.99       0       1   \n",
              "3       0     0   0.000000         389.0         79.99       0       1   \n",
              "4       0     0   0.000000         370.0        129.99       1       0   \n",
              "\n",
              "   2E_size  574_Collection  993_Collection  990_Collection  Suborders  \\\n",
              "0        0               0               0               0          2   \n",
              "1        0               0               0               0          1   \n",
              "2        0               1               0               0          1   \n",
              "3        0               1               0               0          1   \n",
              "4        0               0               0               0          2   \n",
              "\n",
              "   Diff_zipcodes 1st_digit_shipcodes  Women  Men  Unisex  New_customer  \\\n",
              "0              0                  90      0    0       0             1   \n",
              "1              0                  54      1    0       0             1   \n",
              "2              0                  97      1    0       0             1   \n",
              "3              0                  76      1    0       0             1   \n",
              "4              0                  92      0    1       0             1   \n",
              "\n",
              "   UPSSPPS  Ground  Running  Classics  FW-R-Train  Training  Walking  \\\n",
              "0        1       0        0         0           0         0        0   \n",
              "1        0       1        1         0           0         0        0   \n",
              "2        0       1        0         1           0         0        0   \n",
              "3        0       1        0         1           0         0        0   \n",
              "4        0       1        1         0           0         0        0   \n",
              "\n",
              "   Football  Tennis  Baseball  \n",
              "0         0       0         0  \n",
              "1         0       0         0  \n",
              "2         0       0         0  \n",
              "3         0       0         0  \n",
              "4         0       0         0  "
            ],
            "text/html": [
              "\n",
              "  <div id=\"df-d8dacc61-19ff-4836-9203-87f09f5af2e9\">\n",
              "    <div class=\"colab-df-container\">\n",
              "      <div>\n",
              "<style scoped>\n",
              "    .dataframe tbody tr th:only-of-type {\n",
              "        vertical-align: middle;\n",
              "    }\n",
              "\n",
              "    .dataframe tbody tr th {\n",
              "        vertical-align: top;\n",
              "    }\n",
              "\n",
              "    .dataframe thead th {\n",
              "        text-align: right;\n",
              "    }\n",
              "</style>\n",
              "<table border=\"1\" class=\"dataframe\">\n",
              "  <thead>\n",
              "    <tr style=\"text-align: right;\">\n",
              "      <th></th>\n",
              "      <th>Return</th>\n",
              "      <th>AMEX</th>\n",
              "      <th>Discount</th>\n",
              "      <th>Days_to_Date</th>\n",
              "      <th>Retail_Price</th>\n",
              "      <th>D_size</th>\n",
              "      <th>B_size</th>\n",
              "      <th>2E_size</th>\n",
              "      <th>574_Collection</th>\n",
              "      <th>993_Collection</th>\n",
              "      <th>990_Collection</th>\n",
              "      <th>Suborders</th>\n",
              "      <th>Diff_zipcodes</th>\n",
              "      <th>1st_digit_shipcodes</th>\n",
              "      <th>Women</th>\n",
              "      <th>Men</th>\n",
              "      <th>Unisex</th>\n",
              "      <th>New_customer</th>\n",
              "      <th>UPSSPPS</th>\n",
              "      <th>Ground</th>\n",
              "      <th>Running</th>\n",
              "      <th>Classics</th>\n",
              "      <th>FW-R-Train</th>\n",
              "      <th>Training</th>\n",
              "      <th>Walking</th>\n",
              "      <th>Football</th>\n",
              "      <th>Tennis</th>\n",
              "      <th>Baseball</th>\n",
              "    </tr>\n",
              "  </thead>\n",
              "  <tbody>\n",
              "    <tr>\n",
              "      <th>0</th>\n",
              "      <td>0</td>\n",
              "      <td>0</td>\n",
              "      <td>14.293508</td>\n",
              "      <td>1424.0</td>\n",
              "      <td>54.99</td>\n",
              "      <td>0</td>\n",
              "      <td>0</td>\n",
              "      <td>0</td>\n",
              "      <td>0</td>\n",
              "      <td>0</td>\n",
              "      <td>0</td>\n",
              "      <td>2</td>\n",
              "      <td>0</td>\n",
              "      <td>90</td>\n",
              "      <td>0</td>\n",
              "      <td>0</td>\n",
              "      <td>0</td>\n",
              "      <td>1</td>\n",
              "      <td>1</td>\n",
              "      <td>0</td>\n",
              "      <td>0</td>\n",
              "      <td>0</td>\n",
              "      <td>0</td>\n",
              "      <td>0</td>\n",
              "      <td>0</td>\n",
              "      <td>0</td>\n",
              "      <td>0</td>\n",
              "      <td>0</td>\n",
              "    </tr>\n",
              "    <tr>\n",
              "      <th>1</th>\n",
              "      <td>0</td>\n",
              "      <td>0</td>\n",
              "      <td>0.000000</td>\n",
              "      <td>388.0</td>\n",
              "      <td>79.99</td>\n",
              "      <td>0</td>\n",
              "      <td>1</td>\n",
              "      <td>0</td>\n",
              "      <td>0</td>\n",
              "      <td>0</td>\n",
              "      <td>0</td>\n",
              "      <td>1</td>\n",
              "      <td>0</td>\n",
              "      <td>54</td>\n",
              "      <td>1</td>\n",
              "      <td>0</td>\n",
              "      <td>0</td>\n",
              "      <td>1</td>\n",
              "      <td>0</td>\n",
              "      <td>1</td>\n",
              "      <td>1</td>\n",
              "      <td>0</td>\n",
              "      <td>0</td>\n",
              "      <td>0</td>\n",
              "      <td>0</td>\n",
              "      <td>0</td>\n",
              "      <td>0</td>\n",
              "      <td>0</td>\n",
              "    </tr>\n",
              "    <tr>\n",
              "      <th>2</th>\n",
              "      <td>0</td>\n",
              "      <td>0</td>\n",
              "      <td>0.000000</td>\n",
              "      <td>396.0</td>\n",
              "      <td>79.99</td>\n",
              "      <td>0</td>\n",
              "      <td>1</td>\n",
              "      <td>0</td>\n",
              "      <td>1</td>\n",
              "      <td>0</td>\n",
              "      <td>0</td>\n",
              "      <td>1</td>\n",
              "      <td>0</td>\n",
              "      <td>97</td>\n",
              "      <td>1</td>\n",
              "      <td>0</td>\n",
              "      <td>0</td>\n",
              "      <td>1</td>\n",
              "      <td>0</td>\n",
              "      <td>1</td>\n",
              "      <td>0</td>\n",
              "      <td>1</td>\n",
              "      <td>0</td>\n",
              "      <td>0</td>\n",
              "      <td>0</td>\n",
              "      <td>0</td>\n",
              "      <td>0</td>\n",
              "      <td>0</td>\n",
              "    </tr>\n",
              "    <tr>\n",
              "      <th>3</th>\n",
              "      <td>0</td>\n",
              "      <td>0</td>\n",
              "      <td>0.000000</td>\n",
              "      <td>389.0</td>\n",
              "      <td>79.99</td>\n",
              "      <td>0</td>\n",
              "      <td>1</td>\n",
              "      <td>0</td>\n",
              "      <td>1</td>\n",
              "      <td>0</td>\n",
              "      <td>0</td>\n",
              "      <td>1</td>\n",
              "      <td>0</td>\n",
              "      <td>76</td>\n",
              "      <td>1</td>\n",
              "      <td>0</td>\n",
              "      <td>0</td>\n",
              "      <td>1</td>\n",
              "      <td>0</td>\n",
              "      <td>1</td>\n",
              "      <td>0</td>\n",
              "      <td>1</td>\n",
              "      <td>0</td>\n",
              "      <td>0</td>\n",
              "      <td>0</td>\n",
              "      <td>0</td>\n",
              "      <td>0</td>\n",
              "      <td>0</td>\n",
              "    </tr>\n",
              "    <tr>\n",
              "      <th>4</th>\n",
              "      <td>0</td>\n",
              "      <td>0</td>\n",
              "      <td>0.000000</td>\n",
              "      <td>370.0</td>\n",
              "      <td>129.99</td>\n",
              "      <td>1</td>\n",
              "      <td>0</td>\n",
              "      <td>0</td>\n",
              "      <td>0</td>\n",
              "      <td>0</td>\n",
              "      <td>0</td>\n",
              "      <td>2</td>\n",
              "      <td>0</td>\n",
              "      <td>92</td>\n",
              "      <td>0</td>\n",
              "      <td>1</td>\n",
              "      <td>0</td>\n",
              "      <td>1</td>\n",
              "      <td>0</td>\n",
              "      <td>1</td>\n",
              "      <td>1</td>\n",
              "      <td>0</td>\n",
              "      <td>0</td>\n",
              "      <td>0</td>\n",
              "      <td>0</td>\n",
              "      <td>0</td>\n",
              "      <td>0</td>\n",
              "      <td>0</td>\n",
              "    </tr>\n",
              "  </tbody>\n",
              "</table>\n",
              "</div>\n",
              "      <button class=\"colab-df-convert\" onclick=\"convertToInteractive('df-d8dacc61-19ff-4836-9203-87f09f5af2e9')\"\n",
              "              title=\"Convert this dataframe to an interactive table.\"\n",
              "              style=\"display:none;\">\n",
              "        \n",
              "  <svg xmlns=\"http://www.w3.org/2000/svg\" height=\"24px\"viewBox=\"0 0 24 24\"\n",
              "       width=\"24px\">\n",
              "    <path d=\"M0 0h24v24H0V0z\" fill=\"none\"/>\n",
              "    <path d=\"M18.56 5.44l.94 2.06.94-2.06 2.06-.94-2.06-.94-.94-2.06-.94 2.06-2.06.94zm-11 1L8.5 8.5l.94-2.06 2.06-.94-2.06-.94L8.5 2.5l-.94 2.06-2.06.94zm10 10l.94 2.06.94-2.06 2.06-.94-2.06-.94-.94-2.06-.94 2.06-2.06.94z\"/><path d=\"M17.41 7.96l-1.37-1.37c-.4-.4-.92-.59-1.43-.59-.52 0-1.04.2-1.43.59L10.3 9.45l-7.72 7.72c-.78.78-.78 2.05 0 2.83L4 21.41c.39.39.9.59 1.41.59.51 0 1.02-.2 1.41-.59l7.78-7.78 2.81-2.81c.8-.78.8-2.07 0-2.86zM5.41 20L4 18.59l7.72-7.72 1.47 1.35L5.41 20z\"/>\n",
              "  </svg>\n",
              "      </button>\n",
              "      \n",
              "  <style>\n",
              "    .colab-df-container {\n",
              "      display:flex;\n",
              "      flex-wrap:wrap;\n",
              "      gap: 12px;\n",
              "    }\n",
              "\n",
              "    .colab-df-convert {\n",
              "      background-color: #E8F0FE;\n",
              "      border: none;\n",
              "      border-radius: 50%;\n",
              "      cursor: pointer;\n",
              "      display: none;\n",
              "      fill: #1967D2;\n",
              "      height: 32px;\n",
              "      padding: 0 0 0 0;\n",
              "      width: 32px;\n",
              "    }\n",
              "\n",
              "    .colab-df-convert:hover {\n",
              "      background-color: #E2EBFA;\n",
              "      box-shadow: 0px 1px 2px rgba(60, 64, 67, 0.3), 0px 1px 3px 1px rgba(60, 64, 67, 0.15);\n",
              "      fill: #174EA6;\n",
              "    }\n",
              "\n",
              "    [theme=dark] .colab-df-convert {\n",
              "      background-color: #3B4455;\n",
              "      fill: #D2E3FC;\n",
              "    }\n",
              "\n",
              "    [theme=dark] .colab-df-convert:hover {\n",
              "      background-color: #434B5C;\n",
              "      box-shadow: 0px 1px 3px 1px rgba(0, 0, 0, 0.15);\n",
              "      filter: drop-shadow(0px 1px 2px rgba(0, 0, 0, 0.3));\n",
              "      fill: #FFFFFF;\n",
              "    }\n",
              "  </style>\n",
              "\n",
              "      <script>\n",
              "        const buttonEl =\n",
              "          document.querySelector('#df-d8dacc61-19ff-4836-9203-87f09f5af2e9 button.colab-df-convert');\n",
              "        buttonEl.style.display =\n",
              "          google.colab.kernel.accessAllowed ? 'block' : 'none';\n",
              "\n",
              "        async function convertToInteractive(key) {\n",
              "          const element = document.querySelector('#df-d8dacc61-19ff-4836-9203-87f09f5af2e9');\n",
              "          const dataTable =\n",
              "            await google.colab.kernel.invokeFunction('convertToInteractive',\n",
              "                                                     [key], {});\n",
              "          if (!dataTable) return;\n",
              "\n",
              "          const docLinkHtml = 'Like what you see? Visit the ' +\n",
              "            '<a target=\"_blank\" href=https://colab.research.google.com/notebooks/data_table.ipynb>data table notebook</a>'\n",
              "            + ' to learn more about interactive tables.';\n",
              "          element.innerHTML = '';\n",
              "          dataTable['output_type'] = 'display_data';\n",
              "          await google.colab.output.renderOutput(dataTable, element);\n",
              "          const docLink = document.createElement('div');\n",
              "          docLink.innerHTML = docLinkHtml;\n",
              "          element.appendChild(docLink);\n",
              "        }\n",
              "      </script>\n",
              "    </div>\n",
              "  </div>\n",
              "  "
            ]
          },
          "metadata": {},
          "execution_count": 18
        }
      ],
      "source": [
        "nb_1.head()"
      ]
    },
    {
      "cell_type": "code",
      "execution_count": 21,
      "metadata": {
        "colab": {
          "base_uri": "https://localhost:8080/"
        },
        "id": "aAJij8zJnX6R",
        "outputId": "97ccc241-8068-44a2-ebd9-94269fd38d2d"
      },
      "outputs": [
        {
          "output_type": "execute_result",
          "data": {
            "text/plain": [
              "(5789440, 31)"
            ]
          },
          "metadata": {},
          "execution_count": 21
        }
      ],
      "source": [
        "nb_1.shape"
      ]
    },
    {
      "cell_type": "code",
      "execution_count": null,
      "metadata": {
        "id": "TzSr0j-DoQFT"
      },
      "outputs": [],
      "source": [
        "nb_1.to_csv('/content/drive/MyDrive/Colab Notebooks/Main Colab Files/CEL/NB_model1.txt')"
      ]
    },
    {
      "cell_type": "markdown",
      "metadata": {
        "id": "cqkaJFdb__1D"
      },
      "source": [
        "#### Xgboost Model"
      ]
    },
    {
      "cell_type": "code",
      "execution_count": 17,
      "metadata": {
        "id": "_zkn3vrDBC_q"
      },
      "outputs": [],
      "source": [
        "import pandas as pd\n",
        "import numpy as np\n",
        "import sklearn\n",
        "from scipy import sparse\n",
        "from sklearn.impute import SimpleImputer\n",
        "from sklearn.datasets import load_iris\n",
        "import xgboost as xgb\n",
        "from xgboost import plot_importance\n",
        "from matplotlib import pyplot as plt\n",
        "from sklearn.linear_model import LogisticRegression\n",
        "from sklearn.svm import SVC\n",
        "from sklearn.tree import DecisionTreeClassifier\n",
        "from sklearn.ensemble import RandomForestClassifier\n",
        "from xgboost.sklearn import XGBClassifier\n",
        "from sklearn import preprocessing, metrics\n",
        "from sklearn.preprocessing import minmax_scale\n",
        "from sklearn.model_selection import train_test_split\n",
        "from sklearn.metrics import precision_score, roc_curve, recall_score, f1_score, roc_auc_score, accuracy_score\n",
        "from sklearn.model_selection import GridSearchCV, TimeSeriesSplit\n",
        "from matplotlib import pyplot\n",
        "\n",
        "# # Load data\n",
        "# nb = pd.read_csv(\"/content/drive/MyDrive/Colab Notebooks/Main Colab Files/CEL/NB_model1.txt\", index_col=[0])\n",
        "# nb.dropna(axis=0, how='any', thresh=None, subset=None, inplace=True)\n",
        "# pd.set_option(\"display.max_columns\",100)\n",
        "# nb.head()"
      ]
    },
    {
      "cell_type": "code",
      "source": [
        "nb = nb_1.copy()\n",
        "nb.dropna(axis=0, how='any', thresh=None, subset=None, inplace=True)"
      ],
      "metadata": {
        "id": "hQEgQpcaVsF3"
      },
      "execution_count": 18,
      "outputs": []
    },
    {
      "cell_type": "code",
      "source": [
        "# Separating the Categorical data\n",
        "categorical_columns = nb.select_dtypes(include=['object']).columns\n",
        "categorical_columns"
      ],
      "metadata": {
        "colab": {
          "base_uri": "https://localhost:8080/"
        },
        "id": "eq9ILWoVoDoP",
        "outputId": "58f20bda-d499-422a-a88d-c1479638f291"
      },
      "execution_count": 19,
      "outputs": [
        {
          "output_type": "execute_result",
          "data": {
            "text/plain": [
              "Index(['1st_digit_shipcodes'], dtype='object')"
            ]
          },
          "metadata": {},
          "execution_count": 19
        }
      ]
    },
    {
      "cell_type": "code",
      "source": [
        "# Categorical data into numeric data\n",
        "encoded_nb = pd.get_dummies(nb, drop_first=True)\n",
        "encoded_nb = encoded_nb.iloc[:,:-16]\n",
        "encoded_nb.head()"
      ],
      "metadata": {
        "colab": {
          "base_uri": "https://localhost:8080/",
          "height": 287
        },
        "id": "YU2tN4mHoJd4",
        "outputId": "90f80eba-4cc0-4510-ef1c-53dbfc9b2c8a"
      },
      "execution_count": 20,
      "outputs": [
        {
          "output_type": "execute_result",
          "data": {
            "text/plain": [
              "   Return  AMEX   Discount  Days_to_Date  Retail_Price  D_size  B_size  \\\n",
              "0       0     0  14.293508        1424.0         54.99       0       0   \n",
              "1       0     0   0.000000         388.0         79.99       0       1   \n",
              "2       0     0   0.000000         396.0         79.99       0       1   \n",
              "3       0     0   0.000000         389.0         79.99       0       1   \n",
              "4       0     0   0.000000         370.0        129.99       1       0   \n",
              "\n",
              "   2E_size  574_Collection  993_Collection  990_Collection  Suborders  \\\n",
              "0        0               0               0               0          2   \n",
              "1        0               0               0               0          1   \n",
              "2        0               1               0               0          1   \n",
              "3        0               1               0               0          1   \n",
              "4        0               0               0               0          2   \n",
              "\n",
              "   Diff_zipcodes  Women  Men  Unisex  New_customer  UPSSPPS  Ground  Running  \\\n",
              "0              0      0    0       0             1        1       0        0   \n",
              "1              0      1    0       0             1        0       1        1   \n",
              "2              0      1    0       0             1        0       1        0   \n",
              "3              0      1    0       0             1        0       1        0   \n",
              "4              0      0    1       0             1        0       1        1   \n",
              "\n",
              "   Classics  FW-R-Train  Training  Walking  Football  Tennis  Baseball  \\\n",
              "0         0           0         0        0         0       0         0   \n",
              "1         0           0         0        0         0       0         0   \n",
              "2         1           0         0        0         0       0         0   \n",
              "3         1           0         0        0         0       0         0   \n",
              "4         0           0         0        0         0       0         0   \n",
              "\n",
              "   1st_digit_shipcodes_01  1st_digit_shipcodes_02  1st_digit_shipcodes_03  \\\n",
              "0                       0                       0                       0   \n",
              "1                       0                       0                       0   \n",
              "2                       0                       0                       0   \n",
              "3                       0                       0                       0   \n",
              "4                       0                       0                       0   \n",
              "\n",
              "   1st_digit_shipcodes_04  1st_digit_shipcodes_05  1st_digit_shipcodes_06  \\\n",
              "0                       0                       0                       0   \n",
              "1                       0                       0                       0   \n",
              "2                       0                       0                       0   \n",
              "3                       0                       0                       0   \n",
              "4                       0                       0                       0   \n",
              "\n",
              "   1st_digit_shipcodes_07  1st_digit_shipcodes_08  1st_digit_shipcodes_09  \\\n",
              "0                       0                       0                       0   \n",
              "1                       0                       0                       0   \n",
              "2                       0                       0                       0   \n",
              "3                       0                       0                       0   \n",
              "4                       0                       0                       0   \n",
              "\n",
              "   1st_digit_shipcodes_10  1st_digit_shipcodes_11  1st_digit_shipcodes_12  \\\n",
              "0                       0                       0                       0   \n",
              "1                       0                       0                       0   \n",
              "2                       0                       0                       0   \n",
              "3                       0                       0                       0   \n",
              "4                       0                       0                       0   \n",
              "\n",
              "   1st_digit_shipcodes_13  1st_digit_shipcodes_14  1st_digit_shipcodes_15  \\\n",
              "0                       0                       0                       0   \n",
              "1                       0                       0                       0   \n",
              "2                       0                       0                       0   \n",
              "3                       0                       0                       0   \n",
              "4                       0                       0                       0   \n",
              "\n",
              "   1st_digit_shipcodes_16  1st_digit_shipcodes_17  1st_digit_shipcodes_18  \\\n",
              "0                       0                       0                       0   \n",
              "1                       0                       0                       0   \n",
              "2                       0                       0                       0   \n",
              "3                       0                       0                       0   \n",
              "4                       0                       0                       0   \n",
              "\n",
              "   1st_digit_shipcodes_19  1st_digit_shipcodes_20  1st_digit_shipcodes_21  \\\n",
              "0                       0                       0                       0   \n",
              "1                       0                       0                       0   \n",
              "2                       0                       0                       0   \n",
              "3                       0                       0                       0   \n",
              "4                       0                       0                       0   \n",
              "\n",
              "   1st_digit_shipcodes_22  1st_digit_shipcodes_23  1st_digit_shipcodes_24  \\\n",
              "0                       0                       0                       0   \n",
              "1                       0                       0                       0   \n",
              "2                       0                       0                       0   \n",
              "3                       0                       0                       0   \n",
              "4                       0                       0                       0   \n",
              "\n",
              "   1st_digit_shipcodes_25  1st_digit_shipcodes_26  1st_digit_shipcodes_27  \\\n",
              "0                       0                       0                       0   \n",
              "1                       0                       0                       0   \n",
              "2                       0                       0                       0   \n",
              "3                       0                       0                       0   \n",
              "4                       0                       0                       0   \n",
              "\n",
              "   1st_digit_shipcodes_28  1st_digit_shipcodes_29  1st_digit_shipcodes_30  \\\n",
              "0                       0                       0                       0   \n",
              "1                       0                       0                       0   \n",
              "2                       0                       0                       0   \n",
              "3                       0                       0                       0   \n",
              "4                       0                       0                       0   \n",
              "\n",
              "   1st_digit_shipcodes_31  1st_digit_shipcodes_32  1st_digit_shipcodes_33  \\\n",
              "0                       0                       0                       0   \n",
              "1                       0                       0                       0   \n",
              "2                       0                       0                       0   \n",
              "3                       0                       0                       0   \n",
              "4                       0                       0                       0   \n",
              "\n",
              "   1st_digit_shipcodes_34  1st_digit_shipcodes_35  1st_digit_shipcodes_36  \\\n",
              "0                       0                       0                       0   \n",
              "1                       0                       0                       0   \n",
              "2                       0                       0                       0   \n",
              "3                       0                       0                       0   \n",
              "4                       0                       0                       0   \n",
              "\n",
              "   1st_digit_shipcodes_37  1st_digit_shipcodes_38  1st_digit_shipcodes_39  \\\n",
              "0                       0                       0                       0   \n",
              "1                       0                       0                       0   \n",
              "2                       0                       0                       0   \n",
              "3                       0                       0                       0   \n",
              "4                       0                       0                       0   \n",
              "\n",
              "   1st_digit_shipcodes_4  1st_digit_shipcodes_40  1st_digit_shipcodes_41  \\\n",
              "0                      0                       0                       0   \n",
              "1                      0                       0                       0   \n",
              "2                      0                       0                       0   \n",
              "3                      0                       0                       0   \n",
              "4                      0                       0                       0   \n",
              "\n",
              "   1st_digit_shipcodes_42  1st_digit_shipcodes_43  1st_digit_shipcodes_44  \\\n",
              "0                       0                       0                       0   \n",
              "1                       0                       0                       0   \n",
              "2                       0                       0                       0   \n",
              "3                       0                       0                       0   \n",
              "4                       0                       0                       0   \n",
              "\n",
              "   1st_digit_shipcodes_45  1st_digit_shipcodes_46  1st_digit_shipcodes_47  \\\n",
              "0                       0                       0                       0   \n",
              "1                       0                       0                       0   \n",
              "2                       0                       0                       0   \n",
              "3                       0                       0                       0   \n",
              "4                       0                       0                       0   \n",
              "\n",
              "   1st_digit_shipcodes_48  1st_digit_shipcodes_49  1st_digit_shipcodes_50  \\\n",
              "0                       0                       0                       0   \n",
              "1                       0                       0                       0   \n",
              "2                       0                       0                       0   \n",
              "3                       0                       0                       0   \n",
              "4                       0                       0                       0   \n",
              "\n",
              "   1st_digit_shipcodes_51  1st_digit_shipcodes_52  1st_digit_shipcodes_53  \\\n",
              "0                       0                       0                       0   \n",
              "1                       0                       0                       0   \n",
              "2                       0                       0                       0   \n",
              "3                       0                       0                       0   \n",
              "4                       0                       0                       0   \n",
              "\n",
              "   1st_digit_shipcodes_54  1st_digit_shipcodes_55  1st_digit_shipcodes_56  \\\n",
              "0                       0                       0                       0   \n",
              "1                       1                       0                       0   \n",
              "2                       0                       0                       0   \n",
              "3                       0                       0                       0   \n",
              "4                       0                       0                       0   \n",
              "\n",
              "   1st_digit_shipcodes_57  1st_digit_shipcodes_58  1st_digit_shipcodes_59  \\\n",
              "0                       0                       0                       0   \n",
              "1                       0                       0                       0   \n",
              "2                       0                       0                       0   \n",
              "3                       0                       0                       0   \n",
              "4                       0                       0                       0   \n",
              "\n",
              "   1st_digit_shipcodes_60  1st_digit_shipcodes_61  1st_digit_shipcodes_62  \\\n",
              "0                       0                       0                       0   \n",
              "1                       0                       0                       0   \n",
              "2                       0                       0                       0   \n",
              "3                       0                       0                       0   \n",
              "4                       0                       0                       0   \n",
              "\n",
              "   1st_digit_shipcodes_63  1st_digit_shipcodes_64  1st_digit_shipcodes_65  \\\n",
              "0                       0                       0                       0   \n",
              "1                       0                       0                       0   \n",
              "2                       0                       0                       0   \n",
              "3                       0                       0                       0   \n",
              "4                       0                       0                       0   \n",
              "\n",
              "   1st_digit_shipcodes_66  1st_digit_shipcodes_67  1st_digit_shipcodes_68  \\\n",
              "0                       0                       0                       0   \n",
              "1                       0                       0                       0   \n",
              "2                       0                       0                       0   \n",
              "3                       0                       0                       0   \n",
              "4                       0                       0                       0   \n",
              "\n",
              "   1st_digit_shipcodes_69  1st_digit_shipcodes_70  1st_digit_shipcodes_71  \\\n",
              "0                       0                       0                       0   \n",
              "1                       0                       0                       0   \n",
              "2                       0                       0                       0   \n",
              "3                       0                       0                       0   \n",
              "4                       0                       0                       0   \n",
              "\n",
              "   1st_digit_shipcodes_72  1st_digit_shipcodes_73  1st_digit_shipcodes_74  \\\n",
              "0                       0                       0                       0   \n",
              "1                       0                       0                       0   \n",
              "2                       0                       0                       0   \n",
              "3                       0                       0                       0   \n",
              "4                       0                       0                       0   \n",
              "\n",
              "   1st_digit_shipcodes_75  1st_digit_shipcodes_76  1st_digit_shipcodes_77  \\\n",
              "0                       0                       0                       0   \n",
              "1                       0                       0                       0   \n",
              "2                       0                       0                       0   \n",
              "3                       0                       1                       0   \n",
              "4                       0                       0                       0   \n",
              "\n",
              "   1st_digit_shipcodes_78  1st_digit_shipcodes_79  1st_digit_shipcodes_80  \\\n",
              "0                       0                       0                       0   \n",
              "1                       0                       0                       0   \n",
              "2                       0                       0                       0   \n",
              "3                       0                       0                       0   \n",
              "4                       0                       0                       0   \n",
              "\n",
              "   1st_digit_shipcodes_81  1st_digit_shipcodes_82  1st_digit_shipcodes_83  \\\n",
              "0                       0                       0                       0   \n",
              "1                       0                       0                       0   \n",
              "2                       0                       0                       0   \n",
              "3                       0                       0                       0   \n",
              "4                       0                       0                       0   \n",
              "\n",
              "   1st_digit_shipcodes_84  1st_digit_shipcodes_85  1st_digit_shipcodes_86  \\\n",
              "0                       0                       0                       0   \n",
              "1                       0                       0                       0   \n",
              "2                       0                       0                       0   \n",
              "3                       0                       0                       0   \n",
              "4                       0                       0                       0   \n",
              "\n",
              "   1st_digit_shipcodes_87  1st_digit_shipcodes_88  1st_digit_shipcodes_89  \\\n",
              "0                       0                       0                       0   \n",
              "1                       0                       0                       0   \n",
              "2                       0                       0                       0   \n",
              "3                       0                       0                       0   \n",
              "4                       0                       0                       0   \n",
              "\n",
              "   1st_digit_shipcodes_90  1st_digit_shipcodes_91  1st_digit_shipcodes_92  \\\n",
              "0                       1                       0                       0   \n",
              "1                       0                       0                       0   \n",
              "2                       0                       0                       0   \n",
              "3                       0                       0                       0   \n",
              "4                       0                       0                       1   \n",
              "\n",
              "   1st_digit_shipcodes_93  1st_digit_shipcodes_94  1st_digit_shipcodes_95  \\\n",
              "0                       0                       0                       0   \n",
              "1                       0                       0                       0   \n",
              "2                       0                       0                       0   \n",
              "3                       0                       0                       0   \n",
              "4                       0                       0                       0   \n",
              "\n",
              "   1st_digit_shipcodes_96  1st_digit_shipcodes_97  1st_digit_shipcodes_98  \\\n",
              "0                       0                       0                       0   \n",
              "1                       0                       0                       0   \n",
              "2                       0                       1                       0   \n",
              "3                       0                       0                       0   \n",
              "4                       0                       0                       0   \n",
              "\n",
              "   1st_digit_shipcodes_99  \n",
              "0                       0  \n",
              "1                       0  \n",
              "2                       0  \n",
              "3                       0  \n",
              "4                       0  "
            ],
            "text/html": [
              "\n",
              "  <div id=\"df-f81aaf4e-d907-4fed-88ea-88df997a03e4\">\n",
              "    <div class=\"colab-df-container\">\n",
              "      <div>\n",
              "<style scoped>\n",
              "    .dataframe tbody tr th:only-of-type {\n",
              "        vertical-align: middle;\n",
              "    }\n",
              "\n",
              "    .dataframe tbody tr th {\n",
              "        vertical-align: top;\n",
              "    }\n",
              "\n",
              "    .dataframe thead th {\n",
              "        text-align: right;\n",
              "    }\n",
              "</style>\n",
              "<table border=\"1\" class=\"dataframe\">\n",
              "  <thead>\n",
              "    <tr style=\"text-align: right;\">\n",
              "      <th></th>\n",
              "      <th>Return</th>\n",
              "      <th>AMEX</th>\n",
              "      <th>Discount</th>\n",
              "      <th>Days_to_Date</th>\n",
              "      <th>Retail_Price</th>\n",
              "      <th>D_size</th>\n",
              "      <th>B_size</th>\n",
              "      <th>2E_size</th>\n",
              "      <th>574_Collection</th>\n",
              "      <th>993_Collection</th>\n",
              "      <th>990_Collection</th>\n",
              "      <th>Suborders</th>\n",
              "      <th>Diff_zipcodes</th>\n",
              "      <th>Women</th>\n",
              "      <th>Men</th>\n",
              "      <th>Unisex</th>\n",
              "      <th>New_customer</th>\n",
              "      <th>UPSSPPS</th>\n",
              "      <th>Ground</th>\n",
              "      <th>Running</th>\n",
              "      <th>Classics</th>\n",
              "      <th>FW-R-Train</th>\n",
              "      <th>Training</th>\n",
              "      <th>Walking</th>\n",
              "      <th>Football</th>\n",
              "      <th>Tennis</th>\n",
              "      <th>Baseball</th>\n",
              "      <th>1st_digit_shipcodes_01</th>\n",
              "      <th>1st_digit_shipcodes_02</th>\n",
              "      <th>1st_digit_shipcodes_03</th>\n",
              "      <th>1st_digit_shipcodes_04</th>\n",
              "      <th>1st_digit_shipcodes_05</th>\n",
              "      <th>1st_digit_shipcodes_06</th>\n",
              "      <th>1st_digit_shipcodes_07</th>\n",
              "      <th>1st_digit_shipcodes_08</th>\n",
              "      <th>1st_digit_shipcodes_09</th>\n",
              "      <th>1st_digit_shipcodes_10</th>\n",
              "      <th>1st_digit_shipcodes_11</th>\n",
              "      <th>1st_digit_shipcodes_12</th>\n",
              "      <th>1st_digit_shipcodes_13</th>\n",
              "      <th>1st_digit_shipcodes_14</th>\n",
              "      <th>1st_digit_shipcodes_15</th>\n",
              "      <th>1st_digit_shipcodes_16</th>\n",
              "      <th>1st_digit_shipcodes_17</th>\n",
              "      <th>1st_digit_shipcodes_18</th>\n",
              "      <th>1st_digit_shipcodes_19</th>\n",
              "      <th>1st_digit_shipcodes_20</th>\n",
              "      <th>1st_digit_shipcodes_21</th>\n",
              "      <th>1st_digit_shipcodes_22</th>\n",
              "      <th>1st_digit_shipcodes_23</th>\n",
              "      <th>1st_digit_shipcodes_24</th>\n",
              "      <th>1st_digit_shipcodes_25</th>\n",
              "      <th>1st_digit_shipcodes_26</th>\n",
              "      <th>1st_digit_shipcodes_27</th>\n",
              "      <th>1st_digit_shipcodes_28</th>\n",
              "      <th>1st_digit_shipcodes_29</th>\n",
              "      <th>1st_digit_shipcodes_30</th>\n",
              "      <th>1st_digit_shipcodes_31</th>\n",
              "      <th>1st_digit_shipcodes_32</th>\n",
              "      <th>1st_digit_shipcodes_33</th>\n",
              "      <th>1st_digit_shipcodes_34</th>\n",
              "      <th>1st_digit_shipcodes_35</th>\n",
              "      <th>1st_digit_shipcodes_36</th>\n",
              "      <th>1st_digit_shipcodes_37</th>\n",
              "      <th>1st_digit_shipcodes_38</th>\n",
              "      <th>1st_digit_shipcodes_39</th>\n",
              "      <th>1st_digit_shipcodes_4</th>\n",
              "      <th>1st_digit_shipcodes_40</th>\n",
              "      <th>1st_digit_shipcodes_41</th>\n",
              "      <th>1st_digit_shipcodes_42</th>\n",
              "      <th>1st_digit_shipcodes_43</th>\n",
              "      <th>1st_digit_shipcodes_44</th>\n",
              "      <th>1st_digit_shipcodes_45</th>\n",
              "      <th>1st_digit_shipcodes_46</th>\n",
              "      <th>1st_digit_shipcodes_47</th>\n",
              "      <th>1st_digit_shipcodes_48</th>\n",
              "      <th>1st_digit_shipcodes_49</th>\n",
              "      <th>1st_digit_shipcodes_50</th>\n",
              "      <th>1st_digit_shipcodes_51</th>\n",
              "      <th>1st_digit_shipcodes_52</th>\n",
              "      <th>1st_digit_shipcodes_53</th>\n",
              "      <th>1st_digit_shipcodes_54</th>\n",
              "      <th>1st_digit_shipcodes_55</th>\n",
              "      <th>1st_digit_shipcodes_56</th>\n",
              "      <th>1st_digit_shipcodes_57</th>\n",
              "      <th>1st_digit_shipcodes_58</th>\n",
              "      <th>1st_digit_shipcodes_59</th>\n",
              "      <th>1st_digit_shipcodes_60</th>\n",
              "      <th>1st_digit_shipcodes_61</th>\n",
              "      <th>1st_digit_shipcodes_62</th>\n",
              "      <th>1st_digit_shipcodes_63</th>\n",
              "      <th>1st_digit_shipcodes_64</th>\n",
              "      <th>1st_digit_shipcodes_65</th>\n",
              "      <th>1st_digit_shipcodes_66</th>\n",
              "      <th>1st_digit_shipcodes_67</th>\n",
              "      <th>1st_digit_shipcodes_68</th>\n",
              "      <th>1st_digit_shipcodes_69</th>\n",
              "      <th>1st_digit_shipcodes_70</th>\n",
              "      <th>1st_digit_shipcodes_71</th>\n",
              "      <th>1st_digit_shipcodes_72</th>\n",
              "      <th>1st_digit_shipcodes_73</th>\n",
              "      <th>1st_digit_shipcodes_74</th>\n",
              "      <th>1st_digit_shipcodes_75</th>\n",
              "      <th>1st_digit_shipcodes_76</th>\n",
              "      <th>1st_digit_shipcodes_77</th>\n",
              "      <th>1st_digit_shipcodes_78</th>\n",
              "      <th>1st_digit_shipcodes_79</th>\n",
              "      <th>1st_digit_shipcodes_80</th>\n",
              "      <th>1st_digit_shipcodes_81</th>\n",
              "      <th>1st_digit_shipcodes_82</th>\n",
              "      <th>1st_digit_shipcodes_83</th>\n",
              "      <th>1st_digit_shipcodes_84</th>\n",
              "      <th>1st_digit_shipcodes_85</th>\n",
              "      <th>1st_digit_shipcodes_86</th>\n",
              "      <th>1st_digit_shipcodes_87</th>\n",
              "      <th>1st_digit_shipcodes_88</th>\n",
              "      <th>1st_digit_shipcodes_89</th>\n",
              "      <th>1st_digit_shipcodes_90</th>\n",
              "      <th>1st_digit_shipcodes_91</th>\n",
              "      <th>1st_digit_shipcodes_92</th>\n",
              "      <th>1st_digit_shipcodes_93</th>\n",
              "      <th>1st_digit_shipcodes_94</th>\n",
              "      <th>1st_digit_shipcodes_95</th>\n",
              "      <th>1st_digit_shipcodes_96</th>\n",
              "      <th>1st_digit_shipcodes_97</th>\n",
              "      <th>1st_digit_shipcodes_98</th>\n",
              "      <th>1st_digit_shipcodes_99</th>\n",
              "    </tr>\n",
              "  </thead>\n",
              "  <tbody>\n",
              "    <tr>\n",
              "      <th>0</th>\n",
              "      <td>0</td>\n",
              "      <td>0</td>\n",
              "      <td>14.293508</td>\n",
              "      <td>1424.0</td>\n",
              "      <td>54.99</td>\n",
              "      <td>0</td>\n",
              "      <td>0</td>\n",
              "      <td>0</td>\n",
              "      <td>0</td>\n",
              "      <td>0</td>\n",
              "      <td>0</td>\n",
              "      <td>2</td>\n",
              "      <td>0</td>\n",
              "      <td>0</td>\n",
              "      <td>0</td>\n",
              "      <td>0</td>\n",
              "      <td>1</td>\n",
              "      <td>1</td>\n",
              "      <td>0</td>\n",
              "      <td>0</td>\n",
              "      <td>0</td>\n",
              "      <td>0</td>\n",
              "      <td>0</td>\n",
              "      <td>0</td>\n",
              "      <td>0</td>\n",
              "      <td>0</td>\n",
              "      <td>0</td>\n",
              "      <td>0</td>\n",
              "      <td>0</td>\n",
              "      <td>0</td>\n",
              "      <td>0</td>\n",
              "      <td>0</td>\n",
              "      <td>0</td>\n",
              "      <td>0</td>\n",
              "      <td>0</td>\n",
              "      <td>0</td>\n",
              "      <td>0</td>\n",
              "      <td>0</td>\n",
              "      <td>0</td>\n",
              "      <td>0</td>\n",
              "      <td>0</td>\n",
              "      <td>0</td>\n",
              "      <td>0</td>\n",
              "      <td>0</td>\n",
              "      <td>0</td>\n",
              "      <td>0</td>\n",
              "      <td>0</td>\n",
              "      <td>0</td>\n",
              "      <td>0</td>\n",
              "      <td>0</td>\n",
              "      <td>0</td>\n",
              "      <td>0</td>\n",
              "      <td>0</td>\n",
              "      <td>0</td>\n",
              "      <td>0</td>\n",
              "      <td>0</td>\n",
              "      <td>0</td>\n",
              "      <td>0</td>\n",
              "      <td>0</td>\n",
              "      <td>0</td>\n",
              "      <td>0</td>\n",
              "      <td>0</td>\n",
              "      <td>0</td>\n",
              "      <td>0</td>\n",
              "      <td>0</td>\n",
              "      <td>0</td>\n",
              "      <td>0</td>\n",
              "      <td>0</td>\n",
              "      <td>0</td>\n",
              "      <td>0</td>\n",
              "      <td>0</td>\n",
              "      <td>0</td>\n",
              "      <td>0</td>\n",
              "      <td>0</td>\n",
              "      <td>0</td>\n",
              "      <td>0</td>\n",
              "      <td>0</td>\n",
              "      <td>0</td>\n",
              "      <td>0</td>\n",
              "      <td>0</td>\n",
              "      <td>0</td>\n",
              "      <td>0</td>\n",
              "      <td>0</td>\n",
              "      <td>0</td>\n",
              "      <td>0</td>\n",
              "      <td>0</td>\n",
              "      <td>0</td>\n",
              "      <td>0</td>\n",
              "      <td>0</td>\n",
              "      <td>0</td>\n",
              "      <td>0</td>\n",
              "      <td>0</td>\n",
              "      <td>0</td>\n",
              "      <td>0</td>\n",
              "      <td>0</td>\n",
              "      <td>0</td>\n",
              "      <td>0</td>\n",
              "      <td>0</td>\n",
              "      <td>0</td>\n",
              "      <td>0</td>\n",
              "      <td>0</td>\n",
              "      <td>0</td>\n",
              "      <td>0</td>\n",
              "      <td>0</td>\n",
              "      <td>0</td>\n",
              "      <td>0</td>\n",
              "      <td>0</td>\n",
              "      <td>0</td>\n",
              "      <td>0</td>\n",
              "      <td>0</td>\n",
              "      <td>0</td>\n",
              "      <td>0</td>\n",
              "      <td>0</td>\n",
              "      <td>0</td>\n",
              "      <td>0</td>\n",
              "      <td>0</td>\n",
              "      <td>0</td>\n",
              "      <td>1</td>\n",
              "      <td>0</td>\n",
              "      <td>0</td>\n",
              "      <td>0</td>\n",
              "      <td>0</td>\n",
              "      <td>0</td>\n",
              "      <td>0</td>\n",
              "      <td>0</td>\n",
              "      <td>0</td>\n",
              "      <td>0</td>\n",
              "    </tr>\n",
              "    <tr>\n",
              "      <th>1</th>\n",
              "      <td>0</td>\n",
              "      <td>0</td>\n",
              "      <td>0.000000</td>\n",
              "      <td>388.0</td>\n",
              "      <td>79.99</td>\n",
              "      <td>0</td>\n",
              "      <td>1</td>\n",
              "      <td>0</td>\n",
              "      <td>0</td>\n",
              "      <td>0</td>\n",
              "      <td>0</td>\n",
              "      <td>1</td>\n",
              "      <td>0</td>\n",
              "      <td>1</td>\n",
              "      <td>0</td>\n",
              "      <td>0</td>\n",
              "      <td>1</td>\n",
              "      <td>0</td>\n",
              "      <td>1</td>\n",
              "      <td>1</td>\n",
              "      <td>0</td>\n",
              "      <td>0</td>\n",
              "      <td>0</td>\n",
              "      <td>0</td>\n",
              "      <td>0</td>\n",
              "      <td>0</td>\n",
              "      <td>0</td>\n",
              "      <td>0</td>\n",
              "      <td>0</td>\n",
              "      <td>0</td>\n",
              "      <td>0</td>\n",
              "      <td>0</td>\n",
              "      <td>0</td>\n",
              "      <td>0</td>\n",
              "      <td>0</td>\n",
              "      <td>0</td>\n",
              "      <td>0</td>\n",
              "      <td>0</td>\n",
              "      <td>0</td>\n",
              "      <td>0</td>\n",
              "      <td>0</td>\n",
              "      <td>0</td>\n",
              "      <td>0</td>\n",
              "      <td>0</td>\n",
              "      <td>0</td>\n",
              "      <td>0</td>\n",
              "      <td>0</td>\n",
              "      <td>0</td>\n",
              "      <td>0</td>\n",
              "      <td>0</td>\n",
              "      <td>0</td>\n",
              "      <td>0</td>\n",
              "      <td>0</td>\n",
              "      <td>0</td>\n",
              "      <td>0</td>\n",
              "      <td>0</td>\n",
              "      <td>0</td>\n",
              "      <td>0</td>\n",
              "      <td>0</td>\n",
              "      <td>0</td>\n",
              "      <td>0</td>\n",
              "      <td>0</td>\n",
              "      <td>0</td>\n",
              "      <td>0</td>\n",
              "      <td>0</td>\n",
              "      <td>0</td>\n",
              "      <td>0</td>\n",
              "      <td>0</td>\n",
              "      <td>0</td>\n",
              "      <td>0</td>\n",
              "      <td>0</td>\n",
              "      <td>0</td>\n",
              "      <td>0</td>\n",
              "      <td>0</td>\n",
              "      <td>0</td>\n",
              "      <td>0</td>\n",
              "      <td>0</td>\n",
              "      <td>0</td>\n",
              "      <td>0</td>\n",
              "      <td>0</td>\n",
              "      <td>0</td>\n",
              "      <td>1</td>\n",
              "      <td>0</td>\n",
              "      <td>0</td>\n",
              "      <td>0</td>\n",
              "      <td>0</td>\n",
              "      <td>0</td>\n",
              "      <td>0</td>\n",
              "      <td>0</td>\n",
              "      <td>0</td>\n",
              "      <td>0</td>\n",
              "      <td>0</td>\n",
              "      <td>0</td>\n",
              "      <td>0</td>\n",
              "      <td>0</td>\n",
              "      <td>0</td>\n",
              "      <td>0</td>\n",
              "      <td>0</td>\n",
              "      <td>0</td>\n",
              "      <td>0</td>\n",
              "      <td>0</td>\n",
              "      <td>0</td>\n",
              "      <td>0</td>\n",
              "      <td>0</td>\n",
              "      <td>0</td>\n",
              "      <td>0</td>\n",
              "      <td>0</td>\n",
              "      <td>0</td>\n",
              "      <td>0</td>\n",
              "      <td>0</td>\n",
              "      <td>0</td>\n",
              "      <td>0</td>\n",
              "      <td>0</td>\n",
              "      <td>0</td>\n",
              "      <td>0</td>\n",
              "      <td>0</td>\n",
              "      <td>0</td>\n",
              "      <td>0</td>\n",
              "      <td>0</td>\n",
              "      <td>0</td>\n",
              "      <td>0</td>\n",
              "      <td>0</td>\n",
              "      <td>0</td>\n",
              "      <td>0</td>\n",
              "      <td>0</td>\n",
              "      <td>0</td>\n",
              "      <td>0</td>\n",
              "    </tr>\n",
              "    <tr>\n",
              "      <th>2</th>\n",
              "      <td>0</td>\n",
              "      <td>0</td>\n",
              "      <td>0.000000</td>\n",
              "      <td>396.0</td>\n",
              "      <td>79.99</td>\n",
              "      <td>0</td>\n",
              "      <td>1</td>\n",
              "      <td>0</td>\n",
              "      <td>1</td>\n",
              "      <td>0</td>\n",
              "      <td>0</td>\n",
              "      <td>1</td>\n",
              "      <td>0</td>\n",
              "      <td>1</td>\n",
              "      <td>0</td>\n",
              "      <td>0</td>\n",
              "      <td>1</td>\n",
              "      <td>0</td>\n",
              "      <td>1</td>\n",
              "      <td>0</td>\n",
              "      <td>1</td>\n",
              "      <td>0</td>\n",
              "      <td>0</td>\n",
              "      <td>0</td>\n",
              "      <td>0</td>\n",
              "      <td>0</td>\n",
              "      <td>0</td>\n",
              "      <td>0</td>\n",
              "      <td>0</td>\n",
              "      <td>0</td>\n",
              "      <td>0</td>\n",
              "      <td>0</td>\n",
              "      <td>0</td>\n",
              "      <td>0</td>\n",
              "      <td>0</td>\n",
              "      <td>0</td>\n",
              "      <td>0</td>\n",
              "      <td>0</td>\n",
              "      <td>0</td>\n",
              "      <td>0</td>\n",
              "      <td>0</td>\n",
              "      <td>0</td>\n",
              "      <td>0</td>\n",
              "      <td>0</td>\n",
              "      <td>0</td>\n",
              "      <td>0</td>\n",
              "      <td>0</td>\n",
              "      <td>0</td>\n",
              "      <td>0</td>\n",
              "      <td>0</td>\n",
              "      <td>0</td>\n",
              "      <td>0</td>\n",
              "      <td>0</td>\n",
              "      <td>0</td>\n",
              "      <td>0</td>\n",
              "      <td>0</td>\n",
              "      <td>0</td>\n",
              "      <td>0</td>\n",
              "      <td>0</td>\n",
              "      <td>0</td>\n",
              "      <td>0</td>\n",
              "      <td>0</td>\n",
              "      <td>0</td>\n",
              "      <td>0</td>\n",
              "      <td>0</td>\n",
              "      <td>0</td>\n",
              "      <td>0</td>\n",
              "      <td>0</td>\n",
              "      <td>0</td>\n",
              "      <td>0</td>\n",
              "      <td>0</td>\n",
              "      <td>0</td>\n",
              "      <td>0</td>\n",
              "      <td>0</td>\n",
              "      <td>0</td>\n",
              "      <td>0</td>\n",
              "      <td>0</td>\n",
              "      <td>0</td>\n",
              "      <td>0</td>\n",
              "      <td>0</td>\n",
              "      <td>0</td>\n",
              "      <td>0</td>\n",
              "      <td>0</td>\n",
              "      <td>0</td>\n",
              "      <td>0</td>\n",
              "      <td>0</td>\n",
              "      <td>0</td>\n",
              "      <td>0</td>\n",
              "      <td>0</td>\n",
              "      <td>0</td>\n",
              "      <td>0</td>\n",
              "      <td>0</td>\n",
              "      <td>0</td>\n",
              "      <td>0</td>\n",
              "      <td>0</td>\n",
              "      <td>0</td>\n",
              "      <td>0</td>\n",
              "      <td>0</td>\n",
              "      <td>0</td>\n",
              "      <td>0</td>\n",
              "      <td>0</td>\n",
              "      <td>0</td>\n",
              "      <td>0</td>\n",
              "      <td>0</td>\n",
              "      <td>0</td>\n",
              "      <td>0</td>\n",
              "      <td>0</td>\n",
              "      <td>0</td>\n",
              "      <td>0</td>\n",
              "      <td>0</td>\n",
              "      <td>0</td>\n",
              "      <td>0</td>\n",
              "      <td>0</td>\n",
              "      <td>0</td>\n",
              "      <td>0</td>\n",
              "      <td>0</td>\n",
              "      <td>0</td>\n",
              "      <td>0</td>\n",
              "      <td>0</td>\n",
              "      <td>0</td>\n",
              "      <td>0</td>\n",
              "      <td>0</td>\n",
              "      <td>0</td>\n",
              "      <td>0</td>\n",
              "      <td>1</td>\n",
              "      <td>0</td>\n",
              "      <td>0</td>\n",
              "    </tr>\n",
              "    <tr>\n",
              "      <th>3</th>\n",
              "      <td>0</td>\n",
              "      <td>0</td>\n",
              "      <td>0.000000</td>\n",
              "      <td>389.0</td>\n",
              "      <td>79.99</td>\n",
              "      <td>0</td>\n",
              "      <td>1</td>\n",
              "      <td>0</td>\n",
              "      <td>1</td>\n",
              "      <td>0</td>\n",
              "      <td>0</td>\n",
              "      <td>1</td>\n",
              "      <td>0</td>\n",
              "      <td>1</td>\n",
              "      <td>0</td>\n",
              "      <td>0</td>\n",
              "      <td>1</td>\n",
              "      <td>0</td>\n",
              "      <td>1</td>\n",
              "      <td>0</td>\n",
              "      <td>1</td>\n",
              "      <td>0</td>\n",
              "      <td>0</td>\n",
              "      <td>0</td>\n",
              "      <td>0</td>\n",
              "      <td>0</td>\n",
              "      <td>0</td>\n",
              "      <td>0</td>\n",
              "      <td>0</td>\n",
              "      <td>0</td>\n",
              "      <td>0</td>\n",
              "      <td>0</td>\n",
              "      <td>0</td>\n",
              "      <td>0</td>\n",
              "      <td>0</td>\n",
              "      <td>0</td>\n",
              "      <td>0</td>\n",
              "      <td>0</td>\n",
              "      <td>0</td>\n",
              "      <td>0</td>\n",
              "      <td>0</td>\n",
              "      <td>0</td>\n",
              "      <td>0</td>\n",
              "      <td>0</td>\n",
              "      <td>0</td>\n",
              "      <td>0</td>\n",
              "      <td>0</td>\n",
              "      <td>0</td>\n",
              "      <td>0</td>\n",
              "      <td>0</td>\n",
              "      <td>0</td>\n",
              "      <td>0</td>\n",
              "      <td>0</td>\n",
              "      <td>0</td>\n",
              "      <td>0</td>\n",
              "      <td>0</td>\n",
              "      <td>0</td>\n",
              "      <td>0</td>\n",
              "      <td>0</td>\n",
              "      <td>0</td>\n",
              "      <td>0</td>\n",
              "      <td>0</td>\n",
              "      <td>0</td>\n",
              "      <td>0</td>\n",
              "      <td>0</td>\n",
              "      <td>0</td>\n",
              "      <td>0</td>\n",
              "      <td>0</td>\n",
              "      <td>0</td>\n",
              "      <td>0</td>\n",
              "      <td>0</td>\n",
              "      <td>0</td>\n",
              "      <td>0</td>\n",
              "      <td>0</td>\n",
              "      <td>0</td>\n",
              "      <td>0</td>\n",
              "      <td>0</td>\n",
              "      <td>0</td>\n",
              "      <td>0</td>\n",
              "      <td>0</td>\n",
              "      <td>0</td>\n",
              "      <td>0</td>\n",
              "      <td>0</td>\n",
              "      <td>0</td>\n",
              "      <td>0</td>\n",
              "      <td>0</td>\n",
              "      <td>0</td>\n",
              "      <td>0</td>\n",
              "      <td>0</td>\n",
              "      <td>0</td>\n",
              "      <td>0</td>\n",
              "      <td>0</td>\n",
              "      <td>0</td>\n",
              "      <td>0</td>\n",
              "      <td>0</td>\n",
              "      <td>0</td>\n",
              "      <td>0</td>\n",
              "      <td>0</td>\n",
              "      <td>0</td>\n",
              "      <td>0</td>\n",
              "      <td>0</td>\n",
              "      <td>0</td>\n",
              "      <td>0</td>\n",
              "      <td>1</td>\n",
              "      <td>0</td>\n",
              "      <td>0</td>\n",
              "      <td>0</td>\n",
              "      <td>0</td>\n",
              "      <td>0</td>\n",
              "      <td>0</td>\n",
              "      <td>0</td>\n",
              "      <td>0</td>\n",
              "      <td>0</td>\n",
              "      <td>0</td>\n",
              "      <td>0</td>\n",
              "      <td>0</td>\n",
              "      <td>0</td>\n",
              "      <td>0</td>\n",
              "      <td>0</td>\n",
              "      <td>0</td>\n",
              "      <td>0</td>\n",
              "      <td>0</td>\n",
              "      <td>0</td>\n",
              "      <td>0</td>\n",
              "      <td>0</td>\n",
              "      <td>0</td>\n",
              "      <td>0</td>\n",
              "    </tr>\n",
              "    <tr>\n",
              "      <th>4</th>\n",
              "      <td>0</td>\n",
              "      <td>0</td>\n",
              "      <td>0.000000</td>\n",
              "      <td>370.0</td>\n",
              "      <td>129.99</td>\n",
              "      <td>1</td>\n",
              "      <td>0</td>\n",
              "      <td>0</td>\n",
              "      <td>0</td>\n",
              "      <td>0</td>\n",
              "      <td>0</td>\n",
              "      <td>2</td>\n",
              "      <td>0</td>\n",
              "      <td>0</td>\n",
              "      <td>1</td>\n",
              "      <td>0</td>\n",
              "      <td>1</td>\n",
              "      <td>0</td>\n",
              "      <td>1</td>\n",
              "      <td>1</td>\n",
              "      <td>0</td>\n",
              "      <td>0</td>\n",
              "      <td>0</td>\n",
              "      <td>0</td>\n",
              "      <td>0</td>\n",
              "      <td>0</td>\n",
              "      <td>0</td>\n",
              "      <td>0</td>\n",
              "      <td>0</td>\n",
              "      <td>0</td>\n",
              "      <td>0</td>\n",
              "      <td>0</td>\n",
              "      <td>0</td>\n",
              "      <td>0</td>\n",
              "      <td>0</td>\n",
              "      <td>0</td>\n",
              "      <td>0</td>\n",
              "      <td>0</td>\n",
              "      <td>0</td>\n",
              "      <td>0</td>\n",
              "      <td>0</td>\n",
              "      <td>0</td>\n",
              "      <td>0</td>\n",
              "      <td>0</td>\n",
              "      <td>0</td>\n",
              "      <td>0</td>\n",
              "      <td>0</td>\n",
              "      <td>0</td>\n",
              "      <td>0</td>\n",
              "      <td>0</td>\n",
              "      <td>0</td>\n",
              "      <td>0</td>\n",
              "      <td>0</td>\n",
              "      <td>0</td>\n",
              "      <td>0</td>\n",
              "      <td>0</td>\n",
              "      <td>0</td>\n",
              "      <td>0</td>\n",
              "      <td>0</td>\n",
              "      <td>0</td>\n",
              "      <td>0</td>\n",
              "      <td>0</td>\n",
              "      <td>0</td>\n",
              "      <td>0</td>\n",
              "      <td>0</td>\n",
              "      <td>0</td>\n",
              "      <td>0</td>\n",
              "      <td>0</td>\n",
              "      <td>0</td>\n",
              "      <td>0</td>\n",
              "      <td>0</td>\n",
              "      <td>0</td>\n",
              "      <td>0</td>\n",
              "      <td>0</td>\n",
              "      <td>0</td>\n",
              "      <td>0</td>\n",
              "      <td>0</td>\n",
              "      <td>0</td>\n",
              "      <td>0</td>\n",
              "      <td>0</td>\n",
              "      <td>0</td>\n",
              "      <td>0</td>\n",
              "      <td>0</td>\n",
              "      <td>0</td>\n",
              "      <td>0</td>\n",
              "      <td>0</td>\n",
              "      <td>0</td>\n",
              "      <td>0</td>\n",
              "      <td>0</td>\n",
              "      <td>0</td>\n",
              "      <td>0</td>\n",
              "      <td>0</td>\n",
              "      <td>0</td>\n",
              "      <td>0</td>\n",
              "      <td>0</td>\n",
              "      <td>0</td>\n",
              "      <td>0</td>\n",
              "      <td>0</td>\n",
              "      <td>0</td>\n",
              "      <td>0</td>\n",
              "      <td>0</td>\n",
              "      <td>0</td>\n",
              "      <td>0</td>\n",
              "      <td>0</td>\n",
              "      <td>0</td>\n",
              "      <td>0</td>\n",
              "      <td>0</td>\n",
              "      <td>0</td>\n",
              "      <td>0</td>\n",
              "      <td>0</td>\n",
              "      <td>0</td>\n",
              "      <td>0</td>\n",
              "      <td>0</td>\n",
              "      <td>0</td>\n",
              "      <td>0</td>\n",
              "      <td>0</td>\n",
              "      <td>0</td>\n",
              "      <td>0</td>\n",
              "      <td>0</td>\n",
              "      <td>1</td>\n",
              "      <td>0</td>\n",
              "      <td>0</td>\n",
              "      <td>0</td>\n",
              "      <td>0</td>\n",
              "      <td>0</td>\n",
              "      <td>0</td>\n",
              "      <td>0</td>\n",
              "    </tr>\n",
              "  </tbody>\n",
              "</table>\n",
              "</div>\n",
              "      <button class=\"colab-df-convert\" onclick=\"convertToInteractive('df-f81aaf4e-d907-4fed-88ea-88df997a03e4')\"\n",
              "              title=\"Convert this dataframe to an interactive table.\"\n",
              "              style=\"display:none;\">\n",
              "        \n",
              "  <svg xmlns=\"http://www.w3.org/2000/svg\" height=\"24px\"viewBox=\"0 0 24 24\"\n",
              "       width=\"24px\">\n",
              "    <path d=\"M0 0h24v24H0V0z\" fill=\"none\"/>\n",
              "    <path d=\"M18.56 5.44l.94 2.06.94-2.06 2.06-.94-2.06-.94-.94-2.06-.94 2.06-2.06.94zm-11 1L8.5 8.5l.94-2.06 2.06-.94-2.06-.94L8.5 2.5l-.94 2.06-2.06.94zm10 10l.94 2.06.94-2.06 2.06-.94-2.06-.94-.94-2.06-.94 2.06-2.06.94z\"/><path d=\"M17.41 7.96l-1.37-1.37c-.4-.4-.92-.59-1.43-.59-.52 0-1.04.2-1.43.59L10.3 9.45l-7.72 7.72c-.78.78-.78 2.05 0 2.83L4 21.41c.39.39.9.59 1.41.59.51 0 1.02-.2 1.41-.59l7.78-7.78 2.81-2.81c.8-.78.8-2.07 0-2.86zM5.41 20L4 18.59l7.72-7.72 1.47 1.35L5.41 20z\"/>\n",
              "  </svg>\n",
              "      </button>\n",
              "      \n",
              "  <style>\n",
              "    .colab-df-container {\n",
              "      display:flex;\n",
              "      flex-wrap:wrap;\n",
              "      gap: 12px;\n",
              "    }\n",
              "\n",
              "    .colab-df-convert {\n",
              "      background-color: #E8F0FE;\n",
              "      border: none;\n",
              "      border-radius: 50%;\n",
              "      cursor: pointer;\n",
              "      display: none;\n",
              "      fill: #1967D2;\n",
              "      height: 32px;\n",
              "      padding: 0 0 0 0;\n",
              "      width: 32px;\n",
              "    }\n",
              "\n",
              "    .colab-df-convert:hover {\n",
              "      background-color: #E2EBFA;\n",
              "      box-shadow: 0px 1px 2px rgba(60, 64, 67, 0.3), 0px 1px 3px 1px rgba(60, 64, 67, 0.15);\n",
              "      fill: #174EA6;\n",
              "    }\n",
              "\n",
              "    [theme=dark] .colab-df-convert {\n",
              "      background-color: #3B4455;\n",
              "      fill: #D2E3FC;\n",
              "    }\n",
              "\n",
              "    [theme=dark] .colab-df-convert:hover {\n",
              "      background-color: #434B5C;\n",
              "      box-shadow: 0px 1px 3px 1px rgba(0, 0, 0, 0.15);\n",
              "      filter: drop-shadow(0px 1px 2px rgba(0, 0, 0, 0.3));\n",
              "      fill: #FFFFFF;\n",
              "    }\n",
              "  </style>\n",
              "\n",
              "      <script>\n",
              "        const buttonEl =\n",
              "          document.querySelector('#df-f81aaf4e-d907-4fed-88ea-88df997a03e4 button.colab-df-convert');\n",
              "        buttonEl.style.display =\n",
              "          google.colab.kernel.accessAllowed ? 'block' : 'none';\n",
              "\n",
              "        async function convertToInteractive(key) {\n",
              "          const element = document.querySelector('#df-f81aaf4e-d907-4fed-88ea-88df997a03e4');\n",
              "          const dataTable =\n",
              "            await google.colab.kernel.invokeFunction('convertToInteractive',\n",
              "                                                     [key], {});\n",
              "          if (!dataTable) return;\n",
              "\n",
              "          const docLinkHtml = 'Like what you see? Visit the ' +\n",
              "            '<a target=\"_blank\" href=https://colab.research.google.com/notebooks/data_table.ipynb>data table notebook</a>'\n",
              "            + ' to learn more about interactive tables.';\n",
              "          element.innerHTML = '';\n",
              "          dataTable['output_type'] = 'display_data';\n",
              "          await google.colab.output.renderOutput(dataTable, element);\n",
              "          const docLink = document.createElement('div');\n",
              "          docLink.innerHTML = docLinkHtml;\n",
              "          element.appendChild(docLink);\n",
              "        }\n",
              "      </script>\n",
              "    </div>\n",
              "  </div>\n",
              "  "
            ]
          },
          "metadata": {},
          "execution_count": 20
        }
      ]
    },
    {
      "cell_type": "code",
      "source": [
        "encoded_nb.shape"
      ],
      "metadata": {
        "colab": {
          "base_uri": "https://localhost:8080/"
        },
        "id": "6aDSbL6VD7hI",
        "outputId": "b40bb22b-c2ee-49c1-bc37-17b339f7c9dd"
      },
      "execution_count": 23,
      "outputs": [
        {
          "output_type": "execute_result",
          "data": {
            "text/plain": [
              "(4650550, 127)"
            ]
          },
          "metadata": {},
          "execution_count": 23
        }
      ]
    },
    {
      "cell_type": "code",
      "execution_count": 21,
      "metadata": {
        "id": "3VKxgdT7CicA"
      },
      "outputs": [],
      "source": [
        "X = encoded_nb.drop('Return', axis=1)\n",
        "y = encoded_nb['Return']\n",
        "# X = nb.drop('Return', axis=1)\n",
        "# y = nb['Return']"
      ]
    },
    {
      "cell_type": "code",
      "source": [
        "from sklearn.decomposition import PCA\n",
        "\n",
        "# all_data = encoded_nb.iloc[np.random.permutation(len((encoded_nb)))]\n",
        "\n",
        "X = minmax_scale(X)\n",
        "pca = PCA(n_components = 2)\n",
        "X_pca = pca.fit_transform(X)\n"
      ],
      "metadata": {
        "id": "NG8jdEsWgzLU"
      },
      "execution_count": null,
      "outputs": []
    },
    {
      "cell_type": "code",
      "execution_count": null,
      "metadata": {
        "id": "NBM4xPe3D5IH"
      },
      "outputs": [],
      "source": [
        "# # check the datatype\n",
        "# print(X.dtypes)\n",
        "\n",
        "# # convert categorical variables to strings\n",
        "# lbl = preprocessing.LabelEncoder()\n",
        "# X['Size'] = lbl.fit_transform(X['Size'].astype(str))"
      ]
    },
    {
      "cell_type": "code",
      "source": [
        "from imblearn.over_sampling import SMOTE\n",
        "from sklearn import model_selection\n",
        "from sklearn.model_selection import train_test_split\n",
        "X_train,X_test,y_train,y_test = model_selection.train_test_split(X,y,test_size = 0.3, random_state = 1234)\n",
        "\n",
        "over_samples = SMOTE(random_state=0)\n",
        "over_samples_X,over_samples_y = over_samples.fit_resample(X_train, y_train)\n",
        "\n",
        "# 重抽样前的类别比例\n",
        "print(y_train.value_counts()/len(y_train))\n",
        "# 重抽样后的类别比例\n",
        "print(pd.Series(over_samples_y).value_counts()/len(over_samples_y))\n"
      ],
      "metadata": {
        "colab": {
          "base_uri": "https://localhost:8080/"
        },
        "id": "qgN4JuRRh6vN",
        "outputId": "5003b4c2-a9c1-41fc-a1da-14bfed8dca6f"
      },
      "execution_count": null,
      "outputs": [
        {
          "output_type": "stream",
          "name": "stdout",
          "text": [
            "0    0.855216\n",
            "1    0.144784\n",
            "Name: Return, dtype: float64\n",
            "0    0.5\n",
            "1    0.5\n",
            "Name: Return, dtype: float64\n"
          ]
        }
      ]
    },
    {
      "cell_type": "code",
      "execution_count": 22,
      "metadata": {
        "id": "zjn11sjGEtcT"
      },
      "outputs": [],
      "source": [
        "# Train Test Split\n",
        "X_train, X_test, y_train, y_test = train_test_split(X, y, test_size=0.3, random_state=2022, shuffle = True)"
      ]
    },
    {
      "cell_type": "code",
      "source": [
        "# normalization\n",
        "X_train = minmax_scale(X_train)\n",
        "X_test =  minmax_scale(X_test)"
      ],
      "metadata": {
        "id": "sXcq6xchbveO"
      },
      "execution_count": null,
      "outputs": []
    },
    {
      "cell_type": "code",
      "source": [
        "# X_train_sparse = sparse.csc_matrix(X_train)\n",
        "# X_test_sparse = sparse.csc_matrix(X_test)"
      ],
      "metadata": {
        "id": "9r6quTA8hpEt"
      },
      "execution_count": null,
      "outputs": []
    },
    {
      "cell_type": "code",
      "source": [
        "# predictive models\n",
        "# LR = LogisticRegression()\n",
        "# LR.fit(X_train,y_train)\n",
        "\n",
        "XGB = XGBClassifier()\n",
        "XGB.fit(X_train,y_train)\n",
        "\n",
        "# models = [LR,svc,DT,RF,XGB]\n",
        "models = [XGB]\n",
        "\n",
        "names = [\"Xgb\"]\n",
        "evaluates = ['accuracy','precision','recall','f1','auc']"
      ],
      "metadata": {
        "id": "z8IkUaPlayB8"
      },
      "execution_count": null,
      "outputs": []
    },
    {
      "cell_type": "code",
      "source": [
        "df_list = []\n",
        "\n",
        "for name, model in zip(names, models):\n",
        "      y_train_pred = model.predict(X_train)\n",
        "      y_test_pred = model.predict(X_test)\n",
        "\n",
        "      # accuracy\n",
        "      train_accuracy = model.score(X_train, y_train)\n",
        "      test_accuracy = model.score(X_test, y_test)\n",
        "      # precision\n",
        "      train_precision = precision_score(y_train, y_train_pred)\n",
        "      test_precision = precision_score(y_test, y_test_pred)\n",
        "      # recall\n",
        "      train_recall = recall_score(y_train, y_train_pred)\n",
        "      test_recall = recall_score(y_test, y_test_pred)\n",
        "      # f1\n",
        "      train_f1 = f1_score(y_train, y_train_pred)\n",
        "      test_f1 = f1_score(y_test, y_test_pred)\n",
        "      # calculate the area under the curve of predicted probabilities rather than the predicted value 0 or 1\n",
        "      y_train_prob = model.predict_proba(X_train)[:, 1]\n",
        "      y_test_prob = model.predict_proba(X_test)[:, 1]\n",
        "      # auc\n",
        "      train_auc = roc_auc_score(y_train, y_train_prob)\n",
        "      test_auc = roc_auc_score(y_test, y_test_prob)\n",
        "\n",
        "\n",
        "      print('{}  Train： accuracy:{:.3},precision:{:.3}, recall:{:.3}, f1:{:.3}, auc:{:.3}'.format(name, train_accuracy,\n",
        "                                                                                                train_precision,\n",
        "                                                                                                train_recall, train_f1,\n",
        "                                                                                                train_auc))\n",
        "      print('{}  Test： accuracy:{:.3},precision:{:.3}, recall:{:.3}, f1:{:.3}, auc:{:.3}'.format(name, test_accuracy,\n",
        "                                                                                                test_precision,\n",
        "                                                                                                test_recall, test_f1,\n",
        "                                                                                                test_auc))\n",
        "      print('\\n')\n",
        "      df = pd.DataFrame(np.array(\n",
        "          [train_accuracy, train_precision, train_recall, train_f1, train_auc, test_accuracy, test_precision, test_recall,\n",
        "          test_f1, test_auc]).reshape(2, -1),\n",
        "                        index=['train', 'test'],\n",
        "                        columns=['Accuracy', 'Precision', 'Recall', 'F1-Score', 'AUC-Score'])\n",
        "      df_list.append(df)\n",
        "\n",
        "pd.concat(df_list, axis=0, keys=names)"
      ],
      "metadata": {
        "colab": {
          "base_uri": "https://localhost:8080/",
          "height": 183
        },
        "id": "Nz9vcru6bVqa",
        "outputId": "d6447ed7-3410-4b61-aade-c176b36a2859"
      },
      "execution_count": null,
      "outputs": [
        {
          "output_type": "stream",
          "name": "stdout",
          "text": [
            "Xgb  Train： accuracy:0.855,precision:0.654, recall:0.00168, f1:0.00335, auc:0.617\n",
            "Xgb  Test： accuracy:0.855,precision:0.687, recall:0.00171, f1:0.0034, auc:0.617\n",
            "\n",
            "\n"
          ]
        },
        {
          "output_type": "execute_result",
          "data": {
            "text/plain": [
              "           Accuracy  Precision    Recall  F1-Score  AUC-Score\n",
              "Xgb train  0.855302   0.654005  0.001680  0.003351   0.616597\n",
              "    test   0.855233   0.687251  0.001707  0.003405   0.616765"
            ],
            "text/html": [
              "\n",
              "  <div id=\"df-aaf0090b-40a8-4be9-a9fa-08e3abaa02b5\">\n",
              "    <div class=\"colab-df-container\">\n",
              "      <div>\n",
              "<style scoped>\n",
              "    .dataframe tbody tr th:only-of-type {\n",
              "        vertical-align: middle;\n",
              "    }\n",
              "\n",
              "    .dataframe tbody tr th {\n",
              "        vertical-align: top;\n",
              "    }\n",
              "\n",
              "    .dataframe thead th {\n",
              "        text-align: right;\n",
              "    }\n",
              "</style>\n",
              "<table border=\"1\" class=\"dataframe\">\n",
              "  <thead>\n",
              "    <tr style=\"text-align: right;\">\n",
              "      <th></th>\n",
              "      <th></th>\n",
              "      <th>Accuracy</th>\n",
              "      <th>Precision</th>\n",
              "      <th>Recall</th>\n",
              "      <th>F1-Score</th>\n",
              "      <th>AUC-Score</th>\n",
              "    </tr>\n",
              "  </thead>\n",
              "  <tbody>\n",
              "    <tr>\n",
              "      <th rowspan=\"2\" valign=\"top\">Xgb</th>\n",
              "      <th>train</th>\n",
              "      <td>0.855302</td>\n",
              "      <td>0.654005</td>\n",
              "      <td>0.001680</td>\n",
              "      <td>0.003351</td>\n",
              "      <td>0.616597</td>\n",
              "    </tr>\n",
              "    <tr>\n",
              "      <th>test</th>\n",
              "      <td>0.855233</td>\n",
              "      <td>0.687251</td>\n",
              "      <td>0.001707</td>\n",
              "      <td>0.003405</td>\n",
              "      <td>0.616765</td>\n",
              "    </tr>\n",
              "  </tbody>\n",
              "</table>\n",
              "</div>\n",
              "      <button class=\"colab-df-convert\" onclick=\"convertToInteractive('df-aaf0090b-40a8-4be9-a9fa-08e3abaa02b5')\"\n",
              "              title=\"Convert this dataframe to an interactive table.\"\n",
              "              style=\"display:none;\">\n",
              "        \n",
              "  <svg xmlns=\"http://www.w3.org/2000/svg\" height=\"24px\"viewBox=\"0 0 24 24\"\n",
              "       width=\"24px\">\n",
              "    <path d=\"M0 0h24v24H0V0z\" fill=\"none\"/>\n",
              "    <path d=\"M18.56 5.44l.94 2.06.94-2.06 2.06-.94-2.06-.94-.94-2.06-.94 2.06-2.06.94zm-11 1L8.5 8.5l.94-2.06 2.06-.94-2.06-.94L8.5 2.5l-.94 2.06-2.06.94zm10 10l.94 2.06.94-2.06 2.06-.94-2.06-.94-.94-2.06-.94 2.06-2.06.94z\"/><path d=\"M17.41 7.96l-1.37-1.37c-.4-.4-.92-.59-1.43-.59-.52 0-1.04.2-1.43.59L10.3 9.45l-7.72 7.72c-.78.78-.78 2.05 0 2.83L4 21.41c.39.39.9.59 1.41.59.51 0 1.02-.2 1.41-.59l7.78-7.78 2.81-2.81c.8-.78.8-2.07 0-2.86zM5.41 20L4 18.59l7.72-7.72 1.47 1.35L5.41 20z\"/>\n",
              "  </svg>\n",
              "      </button>\n",
              "      \n",
              "  <style>\n",
              "    .colab-df-container {\n",
              "      display:flex;\n",
              "      flex-wrap:wrap;\n",
              "      gap: 12px;\n",
              "    }\n",
              "\n",
              "    .colab-df-convert {\n",
              "      background-color: #E8F0FE;\n",
              "      border: none;\n",
              "      border-radius: 50%;\n",
              "      cursor: pointer;\n",
              "      display: none;\n",
              "      fill: #1967D2;\n",
              "      height: 32px;\n",
              "      padding: 0 0 0 0;\n",
              "      width: 32px;\n",
              "    }\n",
              "\n",
              "    .colab-df-convert:hover {\n",
              "      background-color: #E2EBFA;\n",
              "      box-shadow: 0px 1px 2px rgba(60, 64, 67, 0.3), 0px 1px 3px 1px rgba(60, 64, 67, 0.15);\n",
              "      fill: #174EA6;\n",
              "    }\n",
              "\n",
              "    [theme=dark] .colab-df-convert {\n",
              "      background-color: #3B4455;\n",
              "      fill: #D2E3FC;\n",
              "    }\n",
              "\n",
              "    [theme=dark] .colab-df-convert:hover {\n",
              "      background-color: #434B5C;\n",
              "      box-shadow: 0px 1px 3px 1px rgba(0, 0, 0, 0.15);\n",
              "      filter: drop-shadow(0px 1px 2px rgba(0, 0, 0, 0.3));\n",
              "      fill: #FFFFFF;\n",
              "    }\n",
              "  </style>\n",
              "\n",
              "      <script>\n",
              "        const buttonEl =\n",
              "          document.querySelector('#df-aaf0090b-40a8-4be9-a9fa-08e3abaa02b5 button.colab-df-convert');\n",
              "        buttonEl.style.display =\n",
              "          google.colab.kernel.accessAllowed ? 'block' : 'none';\n",
              "\n",
              "        async function convertToInteractive(key) {\n",
              "          const element = document.querySelector('#df-aaf0090b-40a8-4be9-a9fa-08e3abaa02b5');\n",
              "          const dataTable =\n",
              "            await google.colab.kernel.invokeFunction('convertToInteractive',\n",
              "                                                     [key], {});\n",
              "          if (!dataTable) return;\n",
              "\n",
              "          const docLinkHtml = 'Like what you see? Visit the ' +\n",
              "            '<a target=\"_blank\" href=https://colab.research.google.com/notebooks/data_table.ipynb>data table notebook</a>'\n",
              "            + ' to learn more about interactive tables.';\n",
              "          element.innerHTML = '';\n",
              "          dataTable['output_type'] = 'display_data';\n",
              "          await google.colab.output.renderOutput(dataTable, element);\n",
              "          const docLink = document.createElement('div');\n",
              "          docLink.innerHTML = docLinkHtml;\n",
              "          element.appendChild(docLink);\n",
              "        }\n",
              "      </script>\n",
              "    </div>\n",
              "  </div>\n",
              "  "
            ]
          },
          "metadata": {},
          "execution_count": 25
        }
      ]
    },
    {
      "cell_type": "code",
      "source": [
        "from sklearn.metrics import confusion_matrix\n",
        "confusion_matrix (y_test, y_test_pred)\n",
        "# tells that we have 1486728 elements of class 0 and 250104 of class 1 in the test set."
      ],
      "metadata": {
        "colab": {
          "base_uri": "https://localhost:8080/"
        },
        "id": "EVcBxZ2KxR-d",
        "outputId": "a57d2971-ea7c-4065-f4dc-047e59856fd7"
      },
      "execution_count": null,
      "outputs": [
        {
          "output_type": "execute_result",
          "data": {
            "text/plain": [
              "array([[1192863,     157],\n",
              "       [ 201819,     345]])"
            ]
          },
          "metadata": {},
          "execution_count": 26
        }
      ]
    },
    {
      "cell_type": "code",
      "source": [
        "# 1. Feature Importance Plot\n",
        "xgb.plot_importance(XGB)\n",
        "\n",
        "# 2. no.2 tree\n",
        "digraph = xgb.to_graphviz(XGB, num_trees=2)\n",
        "digraph.format = 'png'\n",
        "digraph.view('/content/drive/MyDrive/Colab Notebooks/Main Colab Files/CEL/nb_xgb')\n"
      ],
      "metadata": {
        "colab": {
          "base_uri": "https://localhost:8080/",
          "height": 313
        },
        "id": "4QXN7PM8738x",
        "outputId": "4ca8047f-d24a-4e3d-bb4d-f05ee860d380"
      },
      "execution_count": null,
      "outputs": [
        {
          "output_type": "execute_result",
          "data": {
            "text/plain": [
              "<matplotlib.axes._subplots.AxesSubplot at 0x7fb868c04310>"
            ]
          },
          "metadata": {},
          "execution_count": 27
        },
        {
          "output_type": "execute_result",
          "data": {
            "text/plain": [
              "'/content/drive/MyDrive/Colab Notebooks/Main Colab Files/CEL/nb_xgb.png'"
            ],
            "application/vnd.google.colaboratory.intrinsic+json": {
              "type": "string"
            }
          },
          "metadata": {},
          "execution_count": 27
        },
        {
          "output_type": "display_data",
          "data": {
            "text/plain": [
              "<Figure size 432x288 with 1 Axes>"
            ],
            "image/png": "[encoded data removed]"
          },
          "metadata": {
            "needs_background": "light"
          }
        }
      ]
    },
    {
      "cell_type": "code",
      "source": [
        "def draw_roc_curve(train_pre_proba, test_pre_proba, train_auc, test_auc, model_name):\n",
        "    fpr, tpr, roc_auc = train_pre_proba\n",
        "    test_fpr, test_tpr, test_roc_auc = test_pre_proba\n",
        "\n",
        "    plt.figure()\n",
        "    lw = 2\n",
        "    plt.plot(fpr, tpr, color='darkorange',\n",
        "             lw=lw, label='ROC curve (area = %0.2f)' % train_auc)\n",
        "    plt.plot(test_fpr, test_tpr, color='red',\n",
        "             lw=lw, label='ROC curve (area = %0.2f)' % test_auc)\n",
        "    plt.plot([0, 1], [0, 1], color='navy', lw=lw, linestyle='--')\n",
        "    plt.xlabel('False Positive Rate')\n",
        "    plt.ylabel('True Positive Rate')\n",
        "    plt.title('Roc example ' + model_name)\n",
        "    plt.legend(loc=\"lower right\")\n",
        "    plt.show()\n",
        "\n",
        "for name, model in zip(names, models):\n",
        "    y_train_pred = model.predict_proba(X_train)[:, 1]\n",
        "    y_test_pred = model.predict_proba(X_test)[:, 1]\n",
        "\n",
        "    train_roc = roc_curve(y_train, y_train_pred)\n",
        "    test_roc = roc_curve(y_test, y_test_pred)\n",
        "\n",
        "    train_auc = roc_auc_score(y_train, y_train_pred)\n",
        "    test_auc = roc_auc_score(y_test, y_test_pred)\n",
        "\n",
        "    draw_roc_curve(train_roc, test_roc, train_auc, test_auc, name)"
      ],
      "metadata": {
        "colab": {
          "base_uri": "https://localhost:8080/",
          "height": 295
        },
        "id": "oLASVdaQgera",
        "outputId": "d3174bbb-9e8d-443b-ddeb-e65dded1f0d5"
      },
      "execution_count": null,
      "outputs": [
        {
          "output_type": "display_data",
          "data": {
            "text/plain": [
              "<Figure size 432x288 with 1 Axes>"
            ],
            "image/png": "[encoded data removed]"
          },
          "metadata": {
            "needs_background": "light"
          }
        }
      ]
    },
    {
      "cell_type": "code",
      "source": [
        "ratio = float(np.sum(y == 0)) / np.sum(y == 1)\n",
        "ratio"
      ],
      "metadata": {
        "colab": {
          "base_uri": "https://localhost:8080/"
        },
        "id": "uFvQhvRz1o9v",
        "outputId": "81ab2735-bb2c-4239-8c34-f5968d0f9fca"
      },
      "execution_count": null,
      "outputs": [
        {
          "output_type": "execute_result",
          "data": {
            "text/plain": [
              "5.904198684069882"
            ]
          },
          "metadata": {},
          "execution_count": 29
        }
      ]
    },
    {
      "cell_type": "code",
      "source": [
        "# Set parameters 1: scale_pos_weight = ratio\n",
        "\n",
        "model1 = xgb.XGBClassifier(scale_pos_weight=ratio)\n",
        "\n",
        "\n",
        "# model.fit(X_train, y_train, early_stopping_rounds=20, eval_metric=[\"logloss\",\"auc\"],\n",
        "#         eval_set=[(X_train, y_train), (X_test, y_test)])\n",
        "\n",
        "model1.fit(X_train, y_train)\n"
      ],
      "metadata": {
        "colab": {
          "base_uri": "https://localhost:8080/"
        },
        "id": "yWb4fcwhayqb",
        "outputId": "90b24ee1-939d-4855-af0b-4b1bb9f11775"
      },
      "execution_count": null,
      "outputs": [
        {
          "output_type": "execute_result",
          "data": {
            "text/plain": [
              "XGBClassifier(scale_pos_weight=5.904198684069882)"
            ]
          },
          "metadata": {},
          "execution_count": 30
        }
      ]
    },
    {
      "cell_type": "code",
      "source": [
        "# apply the model to the training dataset\n",
        "y_train_pred1 = model1.predict(X_train)\n",
        "# apply the model to the validation dataset\n",
        "y_test_pred1 = model1.predict(X_test) \n",
        "train_accuracy1 = accuracy_score(y_train,y_train_pred1)\n",
        "test_accuracy1 = accuracy_score(y_test,y_test_pred1)\n",
        "y_train_prob1 = model1.predict_proba(X_train)[:, 1]\n",
        "y_test_prob1 = model1.predict_proba(X_test)[:, 1]\n",
        "train_auc1 = roc_auc_score(y_train, y_train_prob1)\n",
        "test_auc1 = roc_auc_score(y_test, y_test_prob1)\n",
        "\n",
        "print('Training Accuracy:', train_accuracy1)\n",
        "print('\\nTest Accuracy:', test_accuracy1)\n",
        "print('\\nTraining Auc:', train_auc1)\n",
        "print('\\nTest Auc:', test_auc1)"
      ],
      "metadata": {
        "colab": {
          "base_uri": "https://localhost:8080/"
        },
        "id": "GcD7XDZtgnh_",
        "outputId": "db416260-b4b6-41d6-e66a-917d4aeb83dd"
      },
      "execution_count": null,
      "outputs": [
        {
          "output_type": "stream",
          "name": "stdout",
          "text": [
            "Training Accuracy: 0.608673388361411\n",
            "\n",
            "Test Accuracy: 0.6088738116262801\n",
            "\n",
            "Training Auc: 0.617238260939675\n",
            "\n",
            "Test Auc: 0.6174805045490175\n"
          ]
        }
      ]
    },
    {
      "cell_type": "code",
      "source": [
        "# Set parameters 1: scale_pos_weight = ratio\n",
        "\n",
        "param_t1 = {'max_depth': range(3,10,2),\n",
        "            'min_child_weight': range(1,6,2)\n",
        "}\n",
        "\n",
        "model1 = xgb.XGBClassifier(scale_pos_weight=ratio,\n",
        "            learning_rate=0.01,\n",
        "            n_estimators=100,\n",
        "            silent=1,       \n",
        "            gamma=0,\n",
        "            max_delta_step=0,\n",
        "            subsample=0.85,\n",
        "            colsample_bytree=0.7,\n",
        "            colsample_bylevel=1,\n",
        "            reg_alpha=0,\n",
        "            reg_lambda=1,\n",
        "            seed=0,\n",
        "            early_stopping_rounds=10, \n",
        "            missing=None)\n",
        "\n",
        "\n",
        "# fit_params={\"early_stopping_rounds\":20, \n",
        "#             \"eval_metric\" : \"auc\", \n",
        "#             \"eval_set\" : [[X_test, y_test]]}\n",
        "\n",
        "gsearch1 = GridSearchCV(model1, param_t1, scoring='roc_auc', verbose=1,    \n",
        "         cv=TimeSeriesSplit(n_splits=3).get_n_splits([X_train, y_train]))\n",
        "\n",
        "gsearch1.fit(X_train, y_train)\n",
        "best_max_depth, best_min_child_weight = gsearch1.best_params_['max_depth'], gsearch1.best_params_['min_child_weight']\n"
      ],
      "metadata": {
        "id": "nOal84skjq9Q",
        "colab": {
          "base_uri": "https://localhost:8080/"
        },
        "outputId": "e85d08d8-1db8-48f8-b53e-11a2be30cf97"
      },
      "execution_count": null,
      "outputs": [
        {
          "metadata": {
            "tags": null
          },
          "name": "stdout",
          "output_type": "stream",
          "text": [
            "Fitting 3 folds for each of 12 candidates, totalling 36 fits\n"
          ]
        },
        {
          "output_type": "execute_result",
          "data": {
            "text/plain": [
              "GridSearchCV(cv=3,\n",
              "             estimator=XGBClassifier(colsample_bytree=0.7,\n",
              "                                     early_stopping_rounds=10,\n",
              "                                     learning_rate=0.01,\n",
              "                                     scale_pos_weight=5.904198684069882, seed=0,\n",
              "                                     silent=1, subsample=0.85),\n",
              "             param_grid={'max_depth': range(3, 10, 2),\n",
              "                         'min_child_weight': range(1, 6, 2)},\n",
              "             scoring='roc_auc', verbose=1)"
            ]
          },
          "metadata": {},
          "execution_count": 32
        }
      ]
    },
    {
      "cell_type": "code",
      "source": [
        "print(\"\\nBest score: %0.3f\" % gsearch1.best_score_)\n",
        "print(\"\\nBest parameters set: %s\" % gsearch1.best_params_ )"
      ],
      "metadata": {
        "colab": {
          "base_uri": "https://localhost:8080/"
        },
        "id": "tbECmp2DYW7W",
        "outputId": "371fe80b-b2eb-434a-faa8-a50fcf5fb366"
      },
      "execution_count": null,
      "outputs": [
        {
          "output_type": "stream",
          "name": "stdout",
          "text": [
            "\n",
            "Best score: 0.619\n",
            "\n",
            "Best parameters set: {'max_depth': 9, 'min_child_weight': 1}\n"
          ]
        }
      ]
    },
    {
      "cell_type": "code",
      "source": [
        "### ---------------------------------------------------------------------------------------- ###\n",
        "# Set parameters 1: early stopping\n",
        "ratio = float(np.sum(y == 0)) / np.sum(y == 1)\n",
        "\n",
        "model1 = xgb.XGBClassifier(\n",
        "                max_depth = 3,\n",
        "                n_estimators=200,\n",
        "                gamma=0.1,\n",
        "                eta=0.1, \n",
        "                nthread=4,\n",
        "                subsample=0.7,\n",
        "                colsample_bytree=0.75,\n",
        "                min_child_weight = 1,\n",
        "                scale_pos_weight = ratio,\n",
        "                reg_alpha=0.03,\n",
        "                seed=100)\n",
        "\n",
        "model1.fit(X_train, y_train, early_stopping_rounds=20, eval_metric=[\"logloss\",\"auc\"],\n",
        "        eval_set=[(X_train, y_train), (X_test, y_test)])\n",
        "        \n",
        "print('\\nOverall AUC:', roc_auc_score(y, model1.predict_proba(X, ntree_limit=model1.best_iteration)[:,1]))\n"
      ],
      "metadata": {
        "colab": {
          "base_uri": "https://localhost:8080/"
        },
        "id": "MN7HOjMZRSwO",
        "outputId": "b9106625-cf0b-43a0-ed15-7bb37b743552"
      },
      "execution_count": null,
      "outputs": [
        {
          "output_type": "stream",
          "name": "stdout",
          "text": [
            "[0]\tvalidation_0-logloss:0.627687\tvalidation_0-auc:0.520912\tvalidation_1-logloss:0.62939\tvalidation_1-auc:0.520884\n",
            "Multiple eval metrics have been passed: 'validation_1-auc' will be used for early stopping.\n",
            "\n",
            "Will train until validation_1-auc hasn't improved in 20 rounds.\n",
            "[1]\tvalidation_0-logloss:0.581828\tvalidation_0-auc:0.52282\tvalidation_1-logloss:0.582145\tvalidation_1-auc:0.523198\n",
            "[2]\tvalidation_0-logloss:0.543647\tvalidation_0-auc:0.53129\tvalidation_1-logloss:0.542989\tvalidation_1-auc:0.5316\n",
            "[3]\tvalidation_0-logloss:0.507825\tvalidation_0-auc:0.531087\tvalidation_1-logloss:0.509167\tvalidation_1-auc:0.531395\n",
            "[4]\tvalidation_0-logloss:0.48886\tvalidation_0-auc:0.531754\tvalidation_1-logloss:0.487316\tvalidation_1-auc:0.531884\n",
            "[5]\tvalidation_0-logloss:0.468647\tvalidation_0-auc:0.531775\tvalidation_1-logloss:0.464332\tvalidation_1-auc:0.531932\n",
            "[6]\tvalidation_0-logloss:0.449527\tvalidation_0-auc:0.531421\tvalidation_1-logloss:0.449988\tvalidation_1-auc:0.531711\n",
            "[7]\tvalidation_0-logloss:0.440061\tvalidation_0-auc:0.531669\tvalidation_1-logloss:0.436851\tvalidation_1-auc:0.531796\n",
            "[8]\tvalidation_0-logloss:0.429902\tvalidation_0-auc:0.531692\tvalidation_1-logloss:0.427708\tvalidation_1-auc:0.531856\n",
            "[9]\tvalidation_0-logloss:0.421691\tvalidation_0-auc:0.532253\tvalidation_1-logloss:0.421639\tvalidation_1-auc:0.532564\n",
            "[10]\tvalidation_0-logloss:0.41596\tvalidation_0-auc:0.533896\tvalidation_1-logloss:0.418449\tvalidation_1-auc:0.534316\n",
            "[11]\tvalidation_0-logloss:0.416744\tvalidation_0-auc:0.533762\tvalidation_1-logloss:0.415109\tvalidation_1-auc:0.534197\n",
            "[12]\tvalidation_0-logloss:0.410702\tvalidation_0-auc:0.533627\tvalidation_1-logloss:0.412604\tvalidation_1-auc:0.53401\n",
            "[13]\tvalidation_0-logloss:0.415013\tvalidation_0-auc:0.533594\tvalidation_1-logloss:0.413727\tvalidation_1-auc:0.533964\n",
            "[14]\tvalidation_0-logloss:0.411886\tvalidation_0-auc:0.533461\tvalidation_1-logloss:0.41444\tvalidation_1-auc:0.533868\n",
            "[15]\tvalidation_0-logloss:0.413907\tvalidation_0-auc:0.533854\tvalidation_1-logloss:0.414026\tvalidation_1-auc:0.53415\n",
            "[16]\tvalidation_0-logloss:0.418926\tvalidation_0-auc:0.534032\tvalidation_1-logloss:0.416644\tvalidation_1-auc:0.534314\n",
            "[17]\tvalidation_0-logloss:0.419072\tvalidation_0-auc:0.533864\tvalidation_1-logloss:0.421432\tvalidation_1-auc:0.534222\n",
            "[18]\tvalidation_0-logloss:0.421919\tvalidation_0-auc:0.533927\tvalidation_1-logloss:0.422884\tvalidation_1-auc:0.534241\n",
            "[19]\tvalidation_0-logloss:0.429339\tvalidation_0-auc:0.534664\tvalidation_1-logloss:0.429018\tvalidation_1-auc:0.534944\n",
            "[20]\tvalidation_0-logloss:0.434579\tvalidation_0-auc:0.534572\tvalidation_1-logloss:0.432367\tvalidation_1-auc:0.534821\n",
            "[21]\tvalidation_0-logloss:0.439745\tvalidation_0-auc:0.534651\tvalidation_1-logloss:0.436158\tvalidation_1-auc:0.534949\n",
            "[22]\tvalidation_0-logloss:0.440526\tvalidation_0-auc:0.534692\tvalidation_1-logloss:0.443489\tvalidation_1-auc:0.534998\n",
            "[23]\tvalidation_0-logloss:0.444727\tvalidation_0-auc:0.534558\tvalidation_1-logloss:0.446606\tvalidation_1-auc:0.534856\n",
            "[24]\tvalidation_0-logloss:0.450085\tvalidation_0-auc:0.534555\tvalidation_1-logloss:0.450499\tvalidation_1-auc:0.534848\n",
            "[25]\tvalidation_0-logloss:0.457144\tvalidation_0-auc:0.534732\tvalidation_1-logloss:0.457013\tvalidation_1-auc:0.53501\n",
            "[26]\tvalidation_0-logloss:0.463847\tvalidation_0-auc:0.534665\tvalidation_1-logloss:0.462976\tvalidation_1-auc:0.534923\n",
            "[27]\tvalidation_0-logloss:0.469911\tvalidation_0-auc:0.534786\tvalidation_1-logloss:0.46817\tvalidation_1-auc:0.535032\n",
            "[28]\tvalidation_0-logloss:0.473516\tvalidation_0-auc:0.53484\tvalidation_1-logloss:0.470201\tvalidation_1-auc:0.535066\n",
            "[29]\tvalidation_0-logloss:0.478555\tvalidation_0-auc:0.534769\tvalidation_1-logloss:0.474897\tvalidation_1-auc:0.535032\n",
            "[30]\tvalidation_0-logloss:0.483298\tvalidation_0-auc:0.534716\tvalidation_1-logloss:0.480034\tvalidation_1-auc:0.53497\n",
            "[31]\tvalidation_0-logloss:0.483797\tvalidation_0-auc:0.534749\tvalidation_1-logloss:0.484655\tvalidation_1-auc:0.534946\n",
            "[32]\tvalidation_0-logloss:0.486405\tvalidation_0-auc:0.535292\tvalidation_1-logloss:0.489104\tvalidation_1-auc:0.535501\n",
            "[33]\tvalidation_0-logloss:0.490345\tvalidation_0-auc:0.535315\tvalidation_1-logloss:0.492947\tvalidation_1-auc:0.535463\n",
            "[34]\tvalidation_0-logloss:0.494292\tvalidation_0-auc:0.535268\tvalidation_1-logloss:0.496762\tvalidation_1-auc:0.535417\n",
            "[35]\tvalidation_0-logloss:0.497682\tvalidation_0-auc:0.535185\tvalidation_1-logloss:0.499675\tvalidation_1-auc:0.535374\n",
            "[36]\tvalidation_0-logloss:0.500444\tvalidation_0-auc:0.535366\tvalidation_1-logloss:0.50172\tvalidation_1-auc:0.535528\n",
            "[37]\tvalidation_0-logloss:0.503316\tvalidation_0-auc:0.535677\tvalidation_1-logloss:0.504251\tvalidation_1-auc:0.535938\n",
            "[38]\tvalidation_0-logloss:0.506349\tvalidation_0-auc:0.53583\tvalidation_1-logloss:0.50701\tvalidation_1-auc:0.536178\n",
            "[39]\tvalidation_0-logloss:0.50925\tvalidation_0-auc:0.535901\tvalidation_1-logloss:0.5097\tvalidation_1-auc:0.536276\n",
            "[40]\tvalidation_0-logloss:0.512085\tvalidation_0-auc:0.536119\tvalidation_1-logloss:0.512268\tvalidation_1-auc:0.536536\n",
            "[41]\tvalidation_0-logloss:0.514809\tvalidation_0-auc:0.536295\tvalidation_1-logloss:0.514798\tvalidation_1-auc:0.536655\n",
            "[42]\tvalidation_0-logloss:0.517041\tvalidation_0-auc:0.536255\tvalidation_1-logloss:0.517031\tvalidation_1-auc:0.536614\n",
            "[43]\tvalidation_0-logloss:0.51937\tvalidation_0-auc:0.536329\tvalidation_1-logloss:0.519192\tvalidation_1-auc:0.536612\n",
            "[44]\tvalidation_0-logloss:0.521562\tvalidation_0-auc:0.536417\tvalidation_1-logloss:0.521303\tvalidation_1-auc:0.536689\n",
            "[45]\tvalidation_0-logloss:0.523459\tvalidation_0-auc:0.536484\tvalidation_1-logloss:0.523197\tvalidation_1-auc:0.53674\n",
            "[46]\tvalidation_0-logloss:0.525269\tvalidation_0-auc:0.536497\tvalidation_1-logloss:0.524985\tvalidation_1-auc:0.536775\n",
            "[47]\tvalidation_0-logloss:0.526803\tvalidation_0-auc:0.536667\tvalidation_1-logloss:0.526589\tvalidation_1-auc:0.536877\n",
            "[48]\tvalidation_0-logloss:0.528381\tvalidation_0-auc:0.53669\tvalidation_1-logloss:0.528024\tvalidation_1-auc:0.536917\n",
            "[49]\tvalidation_0-logloss:0.529728\tvalidation_0-auc:0.536798\tvalidation_1-logloss:0.529332\tvalidation_1-auc:0.536971\n",
            "[50]\tvalidation_0-logloss:0.530774\tvalidation_0-auc:0.536956\tvalidation_1-logloss:0.53044\tvalidation_1-auc:0.537145\n",
            "[51]\tvalidation_0-logloss:0.532037\tvalidation_0-auc:0.537132\tvalidation_1-logloss:0.531584\tvalidation_1-auc:0.537293\n",
            "[52]\tvalidation_0-logloss:0.533036\tvalidation_0-auc:0.537398\tvalidation_1-logloss:0.532494\tvalidation_1-auc:0.537498\n",
            "[53]\tvalidation_0-logloss:0.533882\tvalidation_0-auc:0.537472\tvalidation_1-logloss:0.533391\tvalidation_1-auc:0.537579\n",
            "[54]\tvalidation_0-logloss:0.534596\tvalidation_0-auc:0.537833\tvalidation_1-logloss:0.534179\tvalidation_1-auc:0.537911\n",
            "[55]\tvalidation_0-logloss:0.535286\tvalidation_0-auc:0.537894\tvalidation_1-logloss:0.534825\tvalidation_1-auc:0.53795\n",
            "[56]\tvalidation_0-logloss:0.536112\tvalidation_0-auc:0.537951\tvalidation_1-logloss:0.53551\tvalidation_1-auc:0.537998\n",
            "[57]\tvalidation_0-logloss:0.536717\tvalidation_0-auc:0.538003\tvalidation_1-logloss:0.536081\tvalidation_1-auc:0.538039\n",
            "[58]\tvalidation_0-logloss:0.537324\tvalidation_0-auc:0.538105\tvalidation_1-logloss:0.536643\tvalidation_1-auc:0.538129\n",
            "[59]\tvalidation_0-logloss:0.537708\tvalidation_0-auc:0.538146\tvalidation_1-logloss:0.537068\tvalidation_1-auc:0.53817\n",
            "[60]\tvalidation_0-logloss:0.538095\tvalidation_0-auc:0.538228\tvalidation_1-logloss:0.537455\tvalidation_1-auc:0.538198\n",
            "[61]\tvalidation_0-logloss:0.5385\tvalidation_0-auc:0.538306\tvalidation_1-logloss:0.537847\tvalidation_1-auc:0.538271\n",
            "[62]\tvalidation_0-logloss:0.538871\tvalidation_0-auc:0.538374\tvalidation_1-logloss:0.538204\tvalidation_1-auc:0.538321\n",
            "[63]\tvalidation_0-logloss:0.539188\tvalidation_0-auc:0.538394\tvalidation_1-logloss:0.538514\tvalidation_1-auc:0.538317\n",
            "[64]\tvalidation_0-logloss:0.539436\tvalidation_0-auc:0.538417\tvalidation_1-logloss:0.538757\tvalidation_1-auc:0.538324\n",
            "[65]\tvalidation_0-logloss:0.539821\tvalidation_0-auc:0.538476\tvalidation_1-logloss:0.539055\tvalidation_1-auc:0.538349\n",
            "[66]\tvalidation_0-logloss:0.54007\tvalidation_0-auc:0.538523\tvalidation_1-logloss:0.539324\tvalidation_1-auc:0.53836\n",
            "[67]\tvalidation_0-logloss:0.540225\tvalidation_0-auc:0.538505\tvalidation_1-logloss:0.539477\tvalidation_1-auc:0.538355\n",
            "[68]\tvalidation_0-logloss:0.54034\tvalidation_0-auc:0.538566\tvalidation_1-logloss:0.539549\tvalidation_1-auc:0.538382\n",
            "[69]\tvalidation_0-logloss:0.540502\tvalidation_0-auc:0.538575\tvalidation_1-logloss:0.539749\tvalidation_1-auc:0.538382\n",
            "[70]\tvalidation_0-logloss:0.540624\tvalidation_0-auc:0.538719\tvalidation_1-logloss:0.539886\tvalidation_1-auc:0.538537\n",
            "[71]\tvalidation_0-logloss:0.540747\tvalidation_0-auc:0.538765\tvalidation_1-logloss:0.540012\tvalidation_1-auc:0.538539\n",
            "[72]\tvalidation_0-logloss:0.540921\tvalidation_0-auc:0.538811\tvalidation_1-logloss:0.540144\tvalidation_1-auc:0.538597\n",
            "[73]\tvalidation_0-logloss:0.541013\tvalidation_0-auc:0.538898\tvalidation_1-logloss:0.540239\tvalidation_1-auc:0.538692\n",
            "[74]\tvalidation_0-logloss:0.541098\tvalidation_0-auc:0.538942\tvalidation_1-logloss:0.540332\tvalidation_1-auc:0.53869\n",
            "[75]\tvalidation_0-logloss:0.541171\tvalidation_0-auc:0.538981\tvalidation_1-logloss:0.540386\tvalidation_1-auc:0.538708\n",
            "[76]\tvalidation_0-logloss:0.54123\tvalidation_0-auc:0.539019\tvalidation_1-logloss:0.540443\tvalidation_1-auc:0.538742\n",
            "[77]\tvalidation_0-logloss:0.541288\tvalidation_0-auc:0.539142\tvalidation_1-logloss:0.540498\tvalidation_1-auc:0.538846\n",
            "[78]\tvalidation_0-logloss:0.541353\tvalidation_0-auc:0.53924\tvalidation_1-logloss:0.540554\tvalidation_1-auc:0.538884\n",
            "[79]\tvalidation_0-logloss:0.541414\tvalidation_0-auc:0.539288\tvalidation_1-logloss:0.540601\tvalidation_1-auc:0.538896\n",
            "[80]\tvalidation_0-logloss:0.54146\tvalidation_0-auc:0.539339\tvalidation_1-logloss:0.54065\tvalidation_1-auc:0.53893\n",
            "[81]\tvalidation_0-logloss:0.541497\tvalidation_0-auc:0.539388\tvalidation_1-logloss:0.540688\tvalidation_1-auc:0.538945\n",
            "[82]\tvalidation_0-logloss:0.541517\tvalidation_0-auc:0.539437\tvalidation_1-logloss:0.540709\tvalidation_1-auc:0.538984\n",
            "[83]\tvalidation_0-logloss:0.541563\tvalidation_0-auc:0.539464\tvalidation_1-logloss:0.540757\tvalidation_1-auc:0.538999\n",
            "[84]\tvalidation_0-logloss:0.541602\tvalidation_0-auc:0.539487\tvalidation_1-logloss:0.540789\tvalidation_1-auc:0.539018\n",
            "[85]\tvalidation_0-logloss:0.54162\tvalidation_0-auc:0.539539\tvalidation_1-logloss:0.540818\tvalidation_1-auc:0.539049\n",
            "[86]\tvalidation_0-logloss:0.5416\tvalidation_0-auc:0.539579\tvalidation_1-logloss:0.540802\tvalidation_1-auc:0.539068\n",
            "[87]\tvalidation_0-logloss:0.541626\tvalidation_0-auc:0.539594\tvalidation_1-logloss:0.540828\tvalidation_1-auc:0.53906\n",
            "[88]\tvalidation_0-logloss:0.541656\tvalidation_0-auc:0.539631\tvalidation_1-logloss:0.540852\tvalidation_1-auc:0.539068\n",
            "[89]\tvalidation_0-logloss:0.54172\tvalidation_0-auc:0.539666\tvalidation_1-logloss:0.540898\tvalidation_1-auc:0.539077\n",
            "[90]\tvalidation_0-logloss:0.541728\tvalidation_0-auc:0.539714\tvalidation_1-logloss:0.540905\tvalidation_1-auc:0.539081\n",
            "[91]\tvalidation_0-logloss:0.541748\tvalidation_0-auc:0.539739\tvalidation_1-logloss:0.540934\tvalidation_1-auc:0.53907\n",
            "[92]\tvalidation_0-logloss:0.541758\tvalidation_0-auc:0.539787\tvalidation_1-logloss:0.540935\tvalidation_1-auc:0.539059\n",
            "[93]\tvalidation_0-logloss:0.541777\tvalidation_0-auc:0.539825\tvalidation_1-logloss:0.540959\tvalidation_1-auc:0.539053\n",
            "[94]\tvalidation_0-logloss:0.541757\tvalidation_0-auc:0.539883\tvalidation_1-logloss:0.540938\tvalidation_1-auc:0.539055\n",
            "[95]\tvalidation_0-logloss:0.541795\tvalidation_0-auc:0.539918\tvalidation_1-logloss:0.540967\tvalidation_1-auc:0.539081\n",
            "[96]\tvalidation_0-logloss:0.54186\tvalidation_0-auc:0.539924\tvalidation_1-logloss:0.541033\tvalidation_1-auc:0.539084\n",
            "[97]\tvalidation_0-logloss:0.541816\tvalidation_0-auc:0.539975\tvalidation_1-logloss:0.54099\tvalidation_1-auc:0.539109\n",
            "[98]\tvalidation_0-logloss:0.541843\tvalidation_0-auc:0.54006\tvalidation_1-logloss:0.541027\tvalidation_1-auc:0.539175\n",
            "[99]\tvalidation_0-logloss:0.541895\tvalidation_0-auc:0.540089\tvalidation_1-logloss:0.541068\tvalidation_1-auc:0.539208\n",
            "[100]\tvalidation_0-logloss:0.54187\tvalidation_0-auc:0.540107\tvalidation_1-logloss:0.541042\tvalidation_1-auc:0.539228\n",
            "[101]\tvalidation_0-logloss:0.541862\tvalidation_0-auc:0.54023\tvalidation_1-logloss:0.541029\tvalidation_1-auc:0.53932\n",
            "[102]\tvalidation_0-logloss:0.541885\tvalidation_0-auc:0.540241\tvalidation_1-logloss:0.54106\tvalidation_1-auc:0.539312\n",
            "[103]\tvalidation_0-logloss:0.541875\tvalidation_0-auc:0.540308\tvalidation_1-logloss:0.541046\tvalidation_1-auc:0.539323\n",
            "[104]\tvalidation_0-logloss:0.541867\tvalidation_0-auc:0.540333\tvalidation_1-logloss:0.541043\tvalidation_1-auc:0.539313\n",
            "[105]\tvalidation_0-logloss:0.541877\tvalidation_0-auc:0.540359\tvalidation_1-logloss:0.541055\tvalidation_1-auc:0.539322\n",
            "[106]\tvalidation_0-logloss:0.541901\tvalidation_0-auc:0.540384\tvalidation_1-logloss:0.541076\tvalidation_1-auc:0.539344\n",
            "[107]\tvalidation_0-logloss:0.541921\tvalidation_0-auc:0.540461\tvalidation_1-logloss:0.5411\tvalidation_1-auc:0.539384\n",
            "[108]\tvalidation_0-logloss:0.541901\tvalidation_0-auc:0.540508\tvalidation_1-logloss:0.541085\tvalidation_1-auc:0.53937\n",
            "[109]\tvalidation_0-logloss:0.541894\tvalidation_0-auc:0.540536\tvalidation_1-logloss:0.541078\tvalidation_1-auc:0.539398\n",
            "[110]\tvalidation_0-logloss:0.541897\tvalidation_0-auc:0.540554\tvalidation_1-logloss:0.541085\tvalidation_1-auc:0.539417\n",
            "[111]\tvalidation_0-logloss:0.541887\tvalidation_0-auc:0.540587\tvalidation_1-logloss:0.541075\tvalidation_1-auc:0.539426\n",
            "[112]\tvalidation_0-logloss:0.541864\tvalidation_0-auc:0.540598\tvalidation_1-logloss:0.541052\tvalidation_1-auc:0.539427\n",
            "[113]\tvalidation_0-logloss:0.541842\tvalidation_0-auc:0.54063\tvalidation_1-logloss:0.541032\tvalidation_1-auc:0.539446\n",
            "[114]\tvalidation_0-logloss:0.541837\tvalidation_0-auc:0.540671\tvalidation_1-logloss:0.54103\tvalidation_1-auc:0.539442\n",
            "[115]\tvalidation_0-logloss:0.541817\tvalidation_0-auc:0.540706\tvalidation_1-logloss:0.541008\tvalidation_1-auc:0.539459\n",
            "[116]\tvalidation_0-logloss:0.5418\tvalidation_0-auc:0.540737\tvalidation_1-logloss:0.540997\tvalidation_1-auc:0.53945\n",
            "[117]\tvalidation_0-logloss:0.541811\tvalidation_0-auc:0.540802\tvalidation_1-logloss:0.541007\tvalidation_1-auc:0.539452\n",
            "[118]\tvalidation_0-logloss:0.541804\tvalidation_0-auc:0.540832\tvalidation_1-logloss:0.541005\tvalidation_1-auc:0.539459\n",
            "[119]\tvalidation_0-logloss:0.541823\tvalidation_0-auc:0.540847\tvalidation_1-logloss:0.541023\tvalidation_1-auc:0.539458\n",
            "[120]\tvalidation_0-logloss:0.541821\tvalidation_0-auc:0.540863\tvalidation_1-logloss:0.541025\tvalidation_1-auc:0.53945\n",
            "[121]\tvalidation_0-logloss:0.54181\tvalidation_0-auc:0.540919\tvalidation_1-logloss:0.541016\tvalidation_1-auc:0.539468\n",
            "[122]\tvalidation_0-logloss:0.541824\tvalidation_0-auc:0.540942\tvalidation_1-logloss:0.541028\tvalidation_1-auc:0.539467\n",
            "[123]\tvalidation_0-logloss:0.541852\tvalidation_0-auc:0.540948\tvalidation_1-logloss:0.541064\tvalidation_1-auc:0.539459\n",
            "[124]\tvalidation_0-logloss:0.541867\tvalidation_0-auc:0.540976\tvalidation_1-logloss:0.541082\tvalidation_1-auc:0.539449\n",
            "[125]\tvalidation_0-logloss:0.541886\tvalidation_0-auc:0.541006\tvalidation_1-logloss:0.541098\tvalidation_1-auc:0.539444\n",
            "[126]\tvalidation_0-logloss:0.541895\tvalidation_0-auc:0.541012\tvalidation_1-logloss:0.54111\tvalidation_1-auc:0.539461\n",
            "[127]\tvalidation_0-logloss:0.541897\tvalidation_0-auc:0.541039\tvalidation_1-logloss:0.54111\tvalidation_1-auc:0.539497\n",
            "[128]\tvalidation_0-logloss:0.541899\tvalidation_0-auc:0.54107\tvalidation_1-logloss:0.541115\tvalidation_1-auc:0.539494\n",
            "[129]\tvalidation_0-logloss:0.541887\tvalidation_0-auc:0.54109\tvalidation_1-logloss:0.541103\tvalidation_1-auc:0.539479\n",
            "[130]\tvalidation_0-logloss:0.54188\tvalidation_0-auc:0.54111\tvalidation_1-logloss:0.541098\tvalidation_1-auc:0.539483\n",
            "[131]\tvalidation_0-logloss:0.541877\tvalidation_0-auc:0.541153\tvalidation_1-logloss:0.541096\tvalidation_1-auc:0.539492\n",
            "[132]\tvalidation_0-logloss:0.541877\tvalidation_0-auc:0.541187\tvalidation_1-logloss:0.541098\tvalidation_1-auc:0.539466\n",
            "[133]\tvalidation_0-logloss:0.541866\tvalidation_0-auc:0.541221\tvalidation_1-logloss:0.541088\tvalidation_1-auc:0.539458\n",
            "[134]\tvalidation_0-logloss:0.541865\tvalidation_0-auc:0.541241\tvalidation_1-logloss:0.541088\tvalidation_1-auc:0.539464\n",
            "[135]\tvalidation_0-logloss:0.541844\tvalidation_0-auc:0.541242\tvalidation_1-logloss:0.541068\tvalidation_1-auc:0.539463\n",
            "[136]\tvalidation_0-logloss:0.541838\tvalidation_0-auc:0.541285\tvalidation_1-logloss:0.541059\tvalidation_1-auc:0.539521\n",
            "[137]\tvalidation_0-logloss:0.541847\tvalidation_0-auc:0.541294\tvalidation_1-logloss:0.541068\tvalidation_1-auc:0.539531\n",
            "[138]\tvalidation_0-logloss:0.541843\tvalidation_0-auc:0.541308\tvalidation_1-logloss:0.54107\tvalidation_1-auc:0.539536\n",
            "[139]\tvalidation_0-logloss:0.541841\tvalidation_0-auc:0.541384\tvalidation_1-logloss:0.541072\tvalidation_1-auc:0.539603\n",
            "[140]\tvalidation_0-logloss:0.54185\tvalidation_0-auc:0.541405\tvalidation_1-logloss:0.54108\tvalidation_1-auc:0.539609\n",
            "[141]\tvalidation_0-logloss:0.541848\tvalidation_0-auc:0.541416\tvalidation_1-logloss:0.541082\tvalidation_1-auc:0.539617\n",
            "[142]\tvalidation_0-logloss:0.541828\tvalidation_0-auc:0.541465\tvalidation_1-logloss:0.541061\tvalidation_1-auc:0.539648\n",
            "[143]\tvalidation_0-logloss:0.541818\tvalidation_0-auc:0.541484\tvalidation_1-logloss:0.541053\tvalidation_1-auc:0.539651\n",
            "[144]\tvalidation_0-logloss:0.541811\tvalidation_0-auc:0.541514\tvalidation_1-logloss:0.541048\tvalidation_1-auc:0.53965\n",
            "[145]\tvalidation_0-logloss:0.541823\tvalidation_0-auc:0.541557\tvalidation_1-logloss:0.541061\tvalidation_1-auc:0.539661\n",
            "[146]\tvalidation_0-logloss:0.541814\tvalidation_0-auc:0.54156\tvalidation_1-logloss:0.541038\tvalidation_1-auc:0.539671\n",
            "[147]\tvalidation_0-logloss:0.541811\tvalidation_0-auc:0.541597\tvalidation_1-logloss:0.541037\tvalidation_1-auc:0.539676\n",
            "[148]\tvalidation_0-logloss:0.541783\tvalidation_0-auc:0.541609\tvalidation_1-logloss:0.540995\tvalidation_1-auc:0.53968\n",
            "[149]\tvalidation_0-logloss:0.541778\tvalidation_0-auc:0.541655\tvalidation_1-logloss:0.540991\tvalidation_1-auc:0.539709\n",
            "[150]\tvalidation_0-logloss:0.541774\tvalidation_0-auc:0.54168\tvalidation_1-logloss:0.540999\tvalidation_1-auc:0.539697\n",
            "[151]\tvalidation_0-logloss:0.541796\tvalidation_0-auc:0.541696\tvalidation_1-logloss:0.541022\tvalidation_1-auc:0.539714\n",
            "[152]\tvalidation_0-logloss:0.541807\tvalidation_0-auc:0.541734\tvalidation_1-logloss:0.541032\tvalidation_1-auc:0.53973\n",
            "[153]\tvalidation_0-logloss:0.541821\tvalidation_0-auc:0.541756\tvalidation_1-logloss:0.541046\tvalidation_1-auc:0.53974\n",
            "[154]\tvalidation_0-logloss:0.541848\tvalidation_0-auc:0.541787\tvalidation_1-logloss:0.541083\tvalidation_1-auc:0.539719\n",
            "[155]\tvalidation_0-logloss:0.541844\tvalidation_0-auc:0.541822\tvalidation_1-logloss:0.54108\tvalidation_1-auc:0.539734\n",
            "[156]\tvalidation_0-logloss:0.541839\tvalidation_0-auc:0.541867\tvalidation_1-logloss:0.541067\tvalidation_1-auc:0.539711\n",
            "[157]\tvalidation_0-logloss:0.541829\tvalidation_0-auc:0.54189\tvalidation_1-logloss:0.541056\tvalidation_1-auc:0.539697\n",
            "[158]\tvalidation_0-logloss:0.541835\tvalidation_0-auc:0.541946\tvalidation_1-logloss:0.541062\tvalidation_1-auc:0.539747\n",
            "[159]\tvalidation_0-logloss:0.541827\tvalidation_0-auc:0.541947\tvalidation_1-logloss:0.541067\tvalidation_1-auc:0.539742\n",
            "[160]\tvalidation_0-logloss:0.541796\tvalidation_0-auc:0.541969\tvalidation_1-logloss:0.541037\tvalidation_1-auc:0.539734\n",
            "[161]\tvalidation_0-logloss:0.541787\tvalidation_0-auc:0.542005\tvalidation_1-logloss:0.54103\tvalidation_1-auc:0.53972\n",
            "[162]\tvalidation_0-logloss:0.541773\tvalidation_0-auc:0.542032\tvalidation_1-logloss:0.541019\tvalidation_1-auc:0.539719\n",
            "[163]\tvalidation_0-logloss:0.541777\tvalidation_0-auc:0.542051\tvalidation_1-logloss:0.541024\tvalidation_1-auc:0.539716\n",
            "[164]\tvalidation_0-logloss:0.54178\tvalidation_0-auc:0.542061\tvalidation_1-logloss:0.541028\tvalidation_1-auc:0.539718\n",
            "[165]\tvalidation_0-logloss:0.541765\tvalidation_0-auc:0.542076\tvalidation_1-logloss:0.541015\tvalidation_1-auc:0.539715\n",
            "[166]\tvalidation_0-logloss:0.541764\tvalidation_0-auc:0.542146\tvalidation_1-logloss:0.541013\tvalidation_1-auc:0.53977\n",
            "[167]\tvalidation_0-logloss:0.541762\tvalidation_0-auc:0.542181\tvalidation_1-logloss:0.541018\tvalidation_1-auc:0.539797\n",
            "[168]\tvalidation_0-logloss:0.541746\tvalidation_0-auc:0.542195\tvalidation_1-logloss:0.541005\tvalidation_1-auc:0.539786\n",
            "[169]\tvalidation_0-logloss:0.541743\tvalidation_0-auc:0.54221\tvalidation_1-logloss:0.540991\tvalidation_1-auc:0.539774\n",
            "[170]\tvalidation_0-logloss:0.541732\tvalidation_0-auc:0.542228\tvalidation_1-logloss:0.540978\tvalidation_1-auc:0.539764\n",
            "[171]\tvalidation_0-logloss:0.54171\tvalidation_0-auc:0.542224\tvalidation_1-logloss:0.540952\tvalidation_1-auc:0.539756\n",
            "[172]\tvalidation_0-logloss:0.541707\tvalidation_0-auc:0.542248\tvalidation_1-logloss:0.540951\tvalidation_1-auc:0.539756\n",
            "[173]\tvalidation_0-logloss:0.54171\tvalidation_0-auc:0.542266\tvalidation_1-logloss:0.540959\tvalidation_1-auc:0.539744\n",
            "[174]\tvalidation_0-logloss:0.541716\tvalidation_0-auc:0.542278\tvalidation_1-logloss:0.540965\tvalidation_1-auc:0.539749\n",
            "[175]\tvalidation_0-logloss:0.541714\tvalidation_0-auc:0.542299\tvalidation_1-logloss:0.540964\tvalidation_1-auc:0.53975\n",
            "[176]\tvalidation_0-logloss:0.54173\tvalidation_0-auc:0.54232\tvalidation_1-logloss:0.540977\tvalidation_1-auc:0.539754\n",
            "[177]\tvalidation_0-logloss:0.541735\tvalidation_0-auc:0.542351\tvalidation_1-logloss:0.540989\tvalidation_1-auc:0.53975\n",
            "[178]\tvalidation_0-logloss:0.541738\tvalidation_0-auc:0.542371\tvalidation_1-logloss:0.540988\tvalidation_1-auc:0.539753\n",
            "[179]\tvalidation_0-logloss:0.541743\tvalidation_0-auc:0.542388\tvalidation_1-logloss:0.540994\tvalidation_1-auc:0.539744\n",
            "[180]\tvalidation_0-logloss:0.541737\tvalidation_0-auc:0.54241\tvalidation_1-logloss:0.540989\tvalidation_1-auc:0.539727\n",
            "[181]\tvalidation_0-logloss:0.541747\tvalidation_0-auc:0.542422\tvalidation_1-logloss:0.541\tvalidation_1-auc:0.539721\n",
            "[182]\tvalidation_0-logloss:0.54175\tvalidation_0-auc:0.542438\tvalidation_1-logloss:0.541004\tvalidation_1-auc:0.539734\n",
            "[183]\tvalidation_0-logloss:0.541755\tvalidation_0-auc:0.542482\tvalidation_1-logloss:0.541009\tvalidation_1-auc:0.539751\n",
            "[184]\tvalidation_0-logloss:0.541744\tvalidation_0-auc:0.542509\tvalidation_1-logloss:0.541\tvalidation_1-auc:0.539734\n",
            "[185]\tvalidation_0-logloss:0.54176\tvalidation_0-auc:0.542516\tvalidation_1-logloss:0.541016\tvalidation_1-auc:0.539733\n",
            "[186]\tvalidation_0-logloss:0.541762\tvalidation_0-auc:0.542535\tvalidation_1-logloss:0.541019\tvalidation_1-auc:0.539735\n",
            "[187]\tvalidation_0-logloss:0.541753\tvalidation_0-auc:0.542571\tvalidation_1-logloss:0.541012\tvalidation_1-auc:0.539741\n",
            "Stopping. Best iteration:\n",
            "[167]\tvalidation_0-logloss:0.541762\tvalidation_0-auc:0.542181\tvalidation_1-logloss:0.541018\tvalidation_1-auc:0.539797\n",
            "\n"
          ]
        },
        {
          "output_type": "execute_result",
          "data": {
            "text/plain": [
              "XGBClassifier(colsample_bytree=0.75, eta=0.1, gamma=0.1, max_depth=4,\n",
              "              min_child_weight=3, n_estimators=200, nthread=4, reg_alpha=0.03,\n",
              "              scale_pos_weight=0.16849583892492828, seed=100, subsample=0.7)"
            ]
          },
          "metadata": {},
          "execution_count": 17
        },
        {
          "output_type": "stream",
          "name": "stdout",
          "text": [
            "\n",
            "Overall AUC: 0.5411956340670615\n"
          ]
        }
      ]
    },
    {
      "cell_type": "code",
      "source": [
        "results = model1.evals_result()\n",
        "epochs = len(results['validation_0']['auc'])\n",
        "x_axis = range(0, epochs)\n",
        "\n",
        "# plot log loss\n",
        "fig, ax = pyplot.subplots()\n",
        "ax.plot(x_axis, results['validation_0']['auc'], label='Train')\n",
        "ax.plot(x_axis, results['validation_1']['auc'], label='Test')\n",
        "plt.axvline(167, color=\"gray\", label=\"Optimal tree number\")\n",
        "ax.legend()\n",
        "pyplot.xlabel(\"Number of trees\")\n",
        "pyplot.ylabel('AUC')\n",
        "pyplot.title('XGBoost AUC')\n",
        "pyplot.show()\n",
        "\n",
        "# plot classification error\n",
        "fig, ax = pyplot.subplots()\n",
        "ax.plot(x_axis, results['validation_0']['logloss'], label='Train')\n",
        "ax.plot(x_axis, results['validation_1']['logloss'], label='Test')\n",
        "plt.axvline(167, color=\"gray\", label=\"Optimal tree number\")\n",
        "ax.legend()\n",
        "pyplot.xlabel(\"Number of trees\")\n",
        "pyplot.ylabel('Classification Logloss')\n",
        "pyplot.title('XGBoost Classification Logloss')\n",
        "pyplot.show()"
      ],
      "metadata": {
        "colab": {
          "base_uri": "https://localhost:8080/",
          "height": 664
        },
        "id": "O1R811etQiN_",
        "outputId": "dea6694b-4de8-4c9b-ec47-091117dc5e8d"
      },
      "execution_count": null,
      "outputs": [
        {
          "output_type": "execute_result",
          "data": {
            "text/plain": [
              "[<matplotlib.lines.Line2D at 0x7f80ca3a8e10>]"
            ]
          },
          "metadata": {},
          "execution_count": 18
        },
        {
          "output_type": "execute_result",
          "data": {
            "text/plain": [
              "[<matplotlib.lines.Line2D at 0x7f80ca3b4550>]"
            ]
          },
          "metadata": {},
          "execution_count": 18
        },
        {
          "output_type": "execute_result",
          "data": {
            "text/plain": [
              "<matplotlib.lines.Line2D at 0x7f80ca3e4510>"
            ]
          },
          "metadata": {},
          "execution_count": 18
        },
        {
          "output_type": "execute_result",
          "data": {
            "text/plain": [
              "<matplotlib.legend.Legend at 0x7f80ca4e3990>"
            ]
          },
          "metadata": {},
          "execution_count": 18
        },
        {
          "output_type": "execute_result",
          "data": {
            "text/plain": [
              "Text(0.5, 0, 'Number of trees')"
            ]
          },
          "metadata": {},
          "execution_count": 18
        },
        {
          "output_type": "execute_result",
          "data": {
            "text/plain": [
              "Text(0, 0.5, 'AUC')"
            ]
          },
          "metadata": {},
          "execution_count": 18
        },
        {
          "output_type": "execute_result",
          "data": {
            "text/plain": [
              "Text(0.5, 1.0, 'XGBoost AUC')"
            ]
          },
          "metadata": {},
          "execution_count": 18
        },
        {
          "output_type": "display_data",
          "data": {
            "text/plain": [
              "<Figure size 432x288 with 1 Axes>"
            ],
            "image/png": "[encoded data removed]"
          },
          "metadata": {
            "needs_background": "light"
          }
        },
        {
          "output_type": "execute_result",
          "data": {
            "text/plain": [
              "[<matplotlib.lines.Line2D at 0x7f80ca32d710>]"
            ]
          },
          "metadata": {},
          "execution_count": 18
        },
        {
          "output_type": "execute_result",
          "data": {
            "text/plain": [
              "[<matplotlib.lines.Line2D at 0x7f80ca32dc50>]"
            ]
          },
          "metadata": {},
          "execution_count": 18
        },
        {
          "output_type": "execute_result",
          "data": {
            "text/plain": [
              "<matplotlib.lines.Line2D at 0x7f80cdb06d50>"
            ]
          },
          "metadata": {},
          "execution_count": 18
        },
        {
          "output_type": "execute_result",
          "data": {
            "text/plain": [
              "<matplotlib.legend.Legend at 0x7f80ca348d10>"
            ]
          },
          "metadata": {},
          "execution_count": 18
        },
        {
          "output_type": "execute_result",
          "data": {
            "text/plain": [
              "Text(0.5, 0, 'Number of trees')"
            ]
          },
          "metadata": {},
          "execution_count": 18
        },
        {
          "output_type": "execute_result",
          "data": {
            "text/plain": [
              "Text(0, 0.5, 'Classification Logloss')"
            ]
          },
          "metadata": {},
          "execution_count": 18
        },
        {
          "output_type": "execute_result",
          "data": {
            "text/plain": [
              "Text(0.5, 1.0, 'XGBoost Classification Logloss')"
            ]
          },
          "metadata": {},
          "execution_count": 18
        },
        {
          "output_type": "display_data",
          "data": {
            "text/plain": [
              "<Figure size 432x288 with 1 Axes>"
            ],
            "image/png": "[encoded data removed]"
          },
          "metadata": {
            "needs_background": "light"
          }
        }
      ]
    },
    {
      "cell_type": "code",
      "source": [
        "# Set parameters 2: scale_pos_weight = 6.5\n",
        "model2 = xgb.XGBClassifier(\n",
        "                max_depth = 3,\n",
        "                n_estimators=200,\n",
        "                gamma=0.1,\n",
        "                eta=0.1, \n",
        "                nthread=4,\n",
        "                subsample=0.7,\n",
        "                colsample_bytree=0.75,\n",
        "                min_child_weight = 1,\n",
        "                scale_pos_weight = 6.5,\n",
        "                reg_alpha=0.03,\n",
        "                seed=100)\n",
        "\n",
        "model2.fit(X_train, y_train)\n"
      ],
      "metadata": {
        "colab": {
          "base_uri": "https://localhost:8080/"
        },
        "id": "I6Yz2Mi-PiJS",
        "outputId": "59e87e0b-e1a8-487f-c1bb-2efa361aa0a7"
      },
      "execution_count": null,
      "outputs": [
        {
          "output_type": "execute_result",
          "data": {
            "text/plain": [
              "XGBClassifier(colsample_bytree=0.75, eta=0.1, gamma=0.1, n_estimators=200,\n",
              "              nthread=4, reg_alpha=0.03, scale_pos_weight=6.5, seed=100,\n",
              "              subsample=0.7)"
            ]
          },
          "metadata": {},
          "execution_count": 20
        }
      ]
    },
    {
      "cell_type": "code",
      "execution_count": null,
      "metadata": {
        "id": "-gl0tz6mDZDI"
      },
      "outputs": [],
      "source": [
        "# apply the model to the training dataset\n",
        "y_train_pred = model.predict(X_train)\n",
        "# apply the model to the validation dataset\n",
        "y_test_pred = model.predict(X_test) \n"
      ]
    },
    {
      "cell_type": "code",
      "source": [
        "# accuracy\n",
        "train_accuracy = accuracy_score(y_train,y_train_pred)\n",
        "test_accuracy = accuracy_score(y_test,y_test_pred)\n",
        "# calculate the area under the curve of predicted probabilities rather than the predicted value 0 or 1\n",
        "y_train_prob = model.predict_proba(X_train)[:, 1]\n",
        "y_test_prob = model.predict_proba(X_test)[:, 1]\n",
        "# auc\n",
        "train_auc = roc_auc_score(y_train, y_train_prob)\n",
        "test_auc = roc_auc_score(y_test, y_test_prob)\n",
        "# roc curve\n",
        "train_roc = roc_curve(y_train, y_train_prob)\n",
        "test_roc = roc_curve(y_test, y_test_prob)"
      ],
      "metadata": {
        "id": "PD53wcED2nv7"
      },
      "execution_count": null,
      "outputs": []
    },
    {
      "cell_type": "code",
      "source": [
        "pd.DataFrame(np.array(\n",
        "        [train_accuracy, train_auc, test_accuracy, test_auc]).reshape(2, -1),\n",
        "        index=['train', 'test'],\n",
        "        columns=['Accuracy', 'AUC-Score'])"
      ],
      "metadata": {
        "colab": {
          "base_uri": "https://localhost:8080/",
          "height": 112
        },
        "id": "KDAXCuIADwYg",
        "outputId": "15aaf50f-fc36-4e55-f2ff-940e32cb8f1a"
      },
      "execution_count": null,
      "outputs": [
        {
          "output_type": "execute_result",
          "data": {
            "text/plain": [
              "       Accuracy  AUC-Score\n",
              "train  0.358352   0.545404\n",
              "test   0.355547   0.543235"
            ],
            "text/html": [
              "\n",
              "  <div id=\"df-01837d6e-cdad-4c53-95b3-0cad5690be2b\">\n",
              "    <div class=\"colab-df-container\">\n",
              "      <div>\n",
              "<style scoped>\n",
              "    .dataframe tbody tr th:only-of-type {\n",
              "        vertical-align: middle;\n",
              "    }\n",
              "\n",
              "    .dataframe tbody tr th {\n",
              "        vertical-align: top;\n",
              "    }\n",
              "\n",
              "    .dataframe thead th {\n",
              "        text-align: right;\n",
              "    }\n",
              "</style>\n",
              "<table border=\"1\" class=\"dataframe\">\n",
              "  <thead>\n",
              "    <tr style=\"text-align: right;\">\n",
              "      <th></th>\n",
              "      <th>Accuracy</th>\n",
              "      <th>AUC-Score</th>\n",
              "    </tr>\n",
              "  </thead>\n",
              "  <tbody>\n",
              "    <tr>\n",
              "      <th>train</th>\n",
              "      <td>0.358352</td>\n",
              "      <td>0.545404</td>\n",
              "    </tr>\n",
              "    <tr>\n",
              "      <th>test</th>\n",
              "      <td>0.355547</td>\n",
              "      <td>0.543235</td>\n",
              "    </tr>\n",
              "  </tbody>\n",
              "</table>\n",
              "</div>\n",
              "      <button class=\"colab-df-convert\" onclick=\"convertToInteractive('df-01837d6e-cdad-4c53-95b3-0cad5690be2b')\"\n",
              "              title=\"Convert this dataframe to an interactive table.\"\n",
              "              style=\"display:none;\">\n",
              "        \n",
              "  <svg xmlns=\"http://www.w3.org/2000/svg\" height=\"24px\"viewBox=\"0 0 24 24\"\n",
              "       width=\"24px\">\n",
              "    <path d=\"M0 0h24v24H0V0z\" fill=\"none\"/>\n",
              "    <path d=\"M18.56 5.44l.94 2.06.94-2.06 2.06-.94-2.06-.94-.94-2.06-.94 2.06-2.06.94zm-11 1L8.5 8.5l.94-2.06 2.06-.94-2.06-.94L8.5 2.5l-.94 2.06-2.06.94zm10 10l.94 2.06.94-2.06 2.06-.94-2.06-.94-.94-2.06-.94 2.06-2.06.94z\"/><path d=\"M17.41 7.96l-1.37-1.37c-.4-.4-.92-.59-1.43-.59-.52 0-1.04.2-1.43.59L10.3 9.45l-7.72 7.72c-.78.78-.78 2.05 0 2.83L4 21.41c.39.39.9.59 1.41.59.51 0 1.02-.2 1.41-.59l7.78-7.78 2.81-2.81c.8-.78.8-2.07 0-2.86zM5.41 20L4 18.59l7.72-7.72 1.47 1.35L5.41 20z\"/>\n",
              "  </svg>\n",
              "      </button>\n",
              "      \n",
              "  <style>\n",
              "    .colab-df-container {\n",
              "      display:flex;\n",
              "      flex-wrap:wrap;\n",
              "      gap: 12px;\n",
              "    }\n",
              "\n",
              "    .colab-df-convert {\n",
              "      background-color: #E8F0FE;\n",
              "      border: none;\n",
              "      border-radius: 50%;\n",
              "      cursor: pointer;\n",
              "      display: none;\n",
              "      fill: #1967D2;\n",
              "      height: 32px;\n",
              "      padding: 0 0 0 0;\n",
              "      width: 32px;\n",
              "    }\n",
              "\n",
              "    .colab-df-convert:hover {\n",
              "      background-color: #E2EBFA;\n",
              "      box-shadow: 0px 1px 2px rgba(60, 64, 67, 0.3), 0px 1px 3px 1px rgba(60, 64, 67, 0.15);\n",
              "      fill: #174EA6;\n",
              "    }\n",
              "\n",
              "    [theme=dark] .colab-df-convert {\n",
              "      background-color: #3B4455;\n",
              "      fill: #D2E3FC;\n",
              "    }\n",
              "\n",
              "    [theme=dark] .colab-df-convert:hover {\n",
              "      background-color: #434B5C;\n",
              "      box-shadow: 0px 1px 3px 1px rgba(0, 0, 0, 0.15);\n",
              "      filter: drop-shadow(0px 1px 2px rgba(0, 0, 0, 0.3));\n",
              "      fill: #FFFFFF;\n",
              "    }\n",
              "  </style>\n",
              "\n",
              "      <script>\n",
              "        const buttonEl =\n",
              "          document.querySelector('#df-01837d6e-cdad-4c53-95b3-0cad5690be2b button.colab-df-convert');\n",
              "        buttonEl.style.display =\n",
              "          google.colab.kernel.accessAllowed ? 'block' : 'none';\n",
              "\n",
              "        async function convertToInteractive(key) {\n",
              "          const element = document.querySelector('#df-01837d6e-cdad-4c53-95b3-0cad5690be2b');\n",
              "          const dataTable =\n",
              "            await google.colab.kernel.invokeFunction('convertToInteractive',\n",
              "                                                     [key], {});\n",
              "          if (!dataTable) return;\n",
              "\n",
              "          const docLinkHtml = 'Like what you see? Visit the ' +\n",
              "            '<a target=\"_blank\" href=https://colab.research.google.com/notebooks/data_table.ipynb>data table notebook</a>'\n",
              "            + ' to learn more about interactive tables.';\n",
              "          element.innerHTML = '';\n",
              "          dataTable['output_type'] = 'display_data';\n",
              "          await google.colab.output.renderOutput(dataTable, element);\n",
              "          const docLink = document.createElement('div');\n",
              "          docLink.innerHTML = docLinkHtml;\n",
              "          element.appendChild(docLink);\n",
              "        }\n",
              "      </script>\n",
              "    </div>\n",
              "  </div>\n",
              "  "
            ]
          },
          "metadata": {},
          "execution_count": 23
        }
      ]
    },
    {
      "cell_type": "code",
      "source": [
        "# Set parameters 3: scale_pos_weight = 6~6.5 with step = 0.1\n",
        "param_t = {'scale_pos_weight': [x / 10.0 for x in range(60, 65, 1)]}\n",
        "\n",
        "xlf = xgb.XGBClassifier(\n",
        "            learning_rate=0.1,\n",
        "            max_depth=3,\n",
        "            min_child_weight=1,\n",
        "            silent=1,       \n",
        "            gamma=0,\n",
        "            max_delta_step=0,\n",
        "            subsample=0.85,\n",
        "            colsample_bytree=0.7,\n",
        "            colsample_bylevel=1,\n",
        "            reg_alpha=0,\n",
        "            reg_lambda=1,\n",
        "            seed=0,\n",
        "            missing=None)\n",
        "\n",
        "optimal_params = GridSearchCV(xlf, param_grid=param_t, scoring='accuracy', cv=3)\n",
        "optimal_params.fit(X_train, y_train)\n",
        "best_n_estimators = optimal_params.best_params_['scale_pos_weight']\n",
        "\n",
        "print(\"Best score: %0.3f\" % optimal_params.best_score_)\n",
        "print(\"\\nBest parameters set: %s\" % optimal_params.best_params_ )"
      ],
      "metadata": {
        "colab": {
          "base_uri": "https://localhost:8080/"
        },
        "id": "F4tH3J9s_GxU",
        "outputId": "7d6898e3-7fc7-4409-c22a-10a6fe2d3874"
      },
      "execution_count": null,
      "outputs": [
        {
          "output_type": "execute_result",
          "data": {
            "text/plain": [
              "GridSearchCV(cv=3,\n",
              "             estimator=XGBClassifier(colsample_bytree=0.7, seed=0, silent=1,\n",
              "                                     subsample=0.85),\n",
              "             param_grid={'scale_pos_weight': [6.0, 6.1, 6.2, 6.3, 6.4]},\n",
              "             scoring='accuracy')"
            ]
          },
          "metadata": {},
          "execution_count": 29
        },
        {
          "output_type": "stream",
          "name": "stdout",
          "text": [
            "Best score: 0.538\n",
            "\n",
            "Best parameters set: {'scale_pos_weight': 6.0}\n"
          ]
        }
      ]
    },
    {
      "cell_type": "code",
      "source": [
        "y_pred1 = model1.predict(X_test, ntree_limit=167)\n",
        "accuracy1 = accuracy_score(y_test,y_pred1)\n",
        "print(\"accuarcy: %.2f%%\" % (accuracy1*100.0))"
      ],
      "metadata": {
        "colab": {
          "base_uri": "https://localhost:8080/"
        },
        "id": "is3vwtsoPJaZ",
        "outputId": "16218178-ee9b-4e47-dd0d-e2aa0a63f93d"
      },
      "execution_count": null,
      "outputs": [
        {
          "output_type": "stream",
          "name": "stdout",
          "text": [
            "accuarcy: 85.59%\n"
          ]
        }
      ]
    },
    {
      "cell_type": "code",
      "source": [
        "eval_set = [(X_train, y_train), (X_test, y_test)]\n",
        "eval_metric = [\"auc\",\"error\"]\n",
        "#model1.fit(X_train, y_train, eval_metric=eval_metric, eval_set=eval_set, early_stopping_rounds=10, verbose=True)\n",
        "plst1 = params1.items()\n",
        "\n",
        " # xgboost模型训练\n",
        "y_pred1 = model1.predict(dtest)\n",
        "accuracy1 = accuracy_score(y_test,y_pred1)\n",
        "print(\"accuarcy: %.2f%%\" % (accuracy1*100.0))"
      ],
      "metadata": {
        "colab": {
          "base_uri": "https://localhost:8080/"
        },
        "id": "jEKSstqL8ni_",
        "outputId": "2874c1c2-626e-4eab-9ee7-de11bd3ee3ee"
      },
      "execution_count": null,
      "outputs": [
        {
          "output_type": "stream",
          "name": "stdout",
          "text": [
            "accuarcy: 85.58%\n"
          ]
        }
      ]
    },
    {
      "cell_type": "code",
      "source": [
        "def modelfit(alg, X_train, y_train, useTrainCV=True, cv_folds=3, early_stopping_rounds=10):\n",
        "\n",
        "    if useTrainCV:\n",
        "\n",
        "        xgb_param = alg.get_xgb_params()\n",
        "\n",
        "        dtrain = xgb.DMatrix(X_train, y_train) \n",
        "\n",
        "        cvresult = xgb.cv(xgb_param, dtrain, num_boost_round=alg.get_params()['n_estimators'], nfold=cv_folds,\n",
        "\n",
        "        metrics='auc', early_stopping_rounds=early_stopping_rounds, verbose_eval=4)\n",
        "\n",
        "        alg.set_params(n_estimators=cvresult.shape[0])\n",
        "\n",
        "        #Fit the algorithm on the data\n",
        "\n",
        "        alg.fit(X_train, y_train, eval_metric='auc')\n",
        "\n",
        "        #Predict training set:\n",
        "\n",
        "        dtrain_predictions = alg.predict(X_train)\n",
        "\n",
        "        dtrain_predprob = alg.predict_proba(X_train)[:,1]\n",
        "\n",
        "        #Print model report:\n",
        "\n",
        "        print(\"\\nModel Report\")\n",
        "\n",
        "        print(\"Accuracy : %.4g\" % metrics.accuracy_score(y_train.values, dtrain_predictions))\n",
        "\n",
        "        print(\"AUC Score (Train): %f\" % metrics.roc_auc_score(y_train, dtrain_predprob))\n"
      ],
      "metadata": {
        "id": "MWorBir5nVHm"
      },
      "execution_count": null,
      "outputs": []
    },
    {
      "cell_type": "code",
      "source": [
        "ratio = float(np.sum(y == 0)) / np.sum(y==1)\n",
        "ratio"
      ],
      "metadata": {
        "colab": {
          "base_uri": "https://localhost:8080/"
        },
        "id": "o0ASszjTUgwT",
        "outputId": "e657f246-a104-4f88-d18a-682f27b41515"
      },
      "execution_count": null,
      "outputs": [
        {
          "output_type": "execute_result",
          "data": {
            "text/plain": [
              "5.934864661230836"
            ]
          },
          "metadata": {},
          "execution_count": 12
        }
      ]
    },
    {
      "cell_type": "code",
      "source": [
        "xgb1 = XGBClassifier(\n",
        "\n",
        "          learning_rate =0.1,\n",
        "\n",
        "          n_estimators=200,\n",
        "\n",
        "          max_depth=5,\n",
        "\n",
        "          min_child_weight=1,\n",
        "\n",
        "          gamma=0,\n",
        "\n",
        "          subsample=0.8,\n",
        "\n",
        "          colsample_bytree=0.8,\n",
        "\n",
        "          objective= 'binary:logistic',\n",
        "\n",
        "          nthread=4,\n",
        "\n",
        "          scale_pos_weight=ratio,\n",
        "\n",
        "          seed=27)\n",
        "\n",
        "model1 = modelfit(xgb1, X_train, y_train)"
      ],
      "metadata": {
        "colab": {
          "base_uri": "https://localhost:8080/"
        },
        "id": "Yx5gNamsuF3e",
        "outputId": "c9f9d555-6ed3-4d95-c13e-5bd869f2a29e"
      },
      "execution_count": null,
      "outputs": [
        {
          "output_type": "stream",
          "name": "stdout",
          "text": [
            "[0]\ttrain-auc:0.529128+0.000465595\ttest-auc:0.528378+0.00142533\n",
            "[4]\ttrain-auc:0.534418+0.000789132\ttest-auc:0.53322+0.0012046\n",
            "[8]\ttrain-auc:0.53641+0.000785889\ttest-auc:0.535206+0.00108308\n",
            "[12]\ttrain-auc:0.53723+0.000614442\ttest-auc:0.535936+0.00104948\n",
            "[16]\ttrain-auc:0.537845+0.000515009\ttest-auc:0.536343+0.00106829\n",
            "[20]\ttrain-auc:0.538514+0.000652467\ttest-auc:0.536767+0.000906772\n",
            "[24]\ttrain-auc:0.539073+0.000571759\ttest-auc:0.537147+0.000852113\n",
            "[28]\ttrain-auc:0.539661+0.000616702\ttest-auc:0.537547+0.000882386\n",
            "[32]\ttrain-auc:0.540176+0.000402204\ttest-auc:0.537816+0.00098422\n",
            "[36]\ttrain-auc:0.5407+0.000405299\ttest-auc:0.538075+0.000930781\n",
            "[40]\ttrain-auc:0.54098+0.000438836\ttest-auc:0.538105+0.000877766\n",
            "[44]\ttrain-auc:0.541419+0.000491916\ttest-auc:0.538282+0.000835944\n",
            "[48]\ttrain-auc:0.541728+0.000546788\ttest-auc:0.538384+0.000802315\n",
            "[52]\ttrain-auc:0.542084+0.000420802\ttest-auc:0.5385+0.000887322\n",
            "[56]\ttrain-auc:0.542432+0.000411232\ttest-auc:0.538595+0.000878867\n",
            "[60]\ttrain-auc:0.54279+0.000412268\ttest-auc:0.538626+0.000885589\n",
            "[64]\ttrain-auc:0.543077+0.000368898\ttest-auc:0.538631+0.000870226\n",
            "[68]\ttrain-auc:0.543326+0.00035588\ttest-auc:0.538672+0.000890717\n",
            "[72]\ttrain-auc:0.543558+0.000345689\ttest-auc:0.538662+0.000898764\n",
            "[76]\ttrain-auc:0.543777+0.000388578\ttest-auc:0.538697+0.000888983\n",
            "[80]\ttrain-auc:0.543993+0.000359902\ttest-auc:0.538697+0.00086509\n",
            "[84]\ttrain-auc:0.544203+0.000375803\ttest-auc:0.53873+0.000818064\n",
            "[88]\ttrain-auc:0.544472+0.000374455\ttest-auc:0.538735+0.000792731\n",
            "[92]\ttrain-auc:0.544704+0.000392791\ttest-auc:0.538754+0.000802881\n",
            "[96]\ttrain-auc:0.544928+0.000353998\ttest-auc:0.538714+0.000806568\n",
            "[100]\ttrain-auc:0.545116+0.000357173\ttest-auc:0.538722+0.000798977\n",
            "\n",
            "Model Report\n",
            "Accuracy : 0.5688\n",
            "AUC Score (Train): 0.542999\n"
          ]
        }
      ]
    },
    {
      "cell_type": "code",
      "source": [
        "xgb2 = XGBClassifier(\n",
        "\n",
        "          learning_rate =0.1,\n",
        "\n",
        "          n_estimators=200,\n",
        "\n",
        "          max_depth=5,\n",
        "\n",
        "          min_child_weight=1,\n",
        "\n",
        "          gamma=0,\n",
        "\n",
        "          subsample=0.8,\n",
        "\n",
        "          colsample_bytree=0.8,\n",
        "\n",
        "          objective= 'binary:logistic',\n",
        "\n",
        "          nthread=4,\n",
        "\n",
        "          scale_pos_weight=1,\n",
        "\n",
        "          seed=27)\n",
        "\n",
        "model2 = modelfit(xgb2, X_train, y_train)"
      ],
      "metadata": {
        "colab": {
          "base_uri": "https://localhost:8080/"
        },
        "id": "bguUGfmsTK6b",
        "outputId": "ab20a0e4-93b3-4114-e676-21c500cd9017"
      },
      "execution_count": null,
      "outputs": [
        {
          "output_type": "stream",
          "name": "stdout",
          "text": [
            "[0]\ttrain-auc:0.529104+0.000476488\ttest-auc:0.528399+0.00144351\n",
            "[4]\ttrain-auc:0.534257+0.000439183\ttest-auc:0.533142+0.00141547\n",
            "[8]\ttrain-auc:0.535691+0.000509703\ttest-auc:0.534605+0.00117421\n",
            "[12]\ttrain-auc:0.536279+0.000474318\ttest-auc:0.53505+0.00127019\n",
            "[16]\ttrain-auc:0.536911+0.000408155\ttest-auc:0.535585+0.00114643\n",
            "[20]\ttrain-auc:0.537367+0.000580366\ttest-auc:0.535894+0.000970406\n",
            "[24]\ttrain-auc:0.537921+0.000503419\ttest-auc:0.536204+0.00105591\n",
            "[28]\ttrain-auc:0.538623+0.0006565\ttest-auc:0.536816+0.000921349\n",
            "[32]\ttrain-auc:0.539114+0.000608682\ttest-auc:0.537111+0.000944569\n",
            "[36]\ttrain-auc:0.539612+0.000509502\ttest-auc:0.537384+0.00099474\n",
            "[40]\ttrain-auc:0.539979+0.000512192\ttest-auc:0.537553+0.000924051\n",
            "[44]\ttrain-auc:0.540497+0.000441186\ttest-auc:0.537806+0.00101833\n",
            "[48]\ttrain-auc:0.540874+0.000505406\ttest-auc:0.537997+0.000876483\n",
            "[52]\ttrain-auc:0.541299+0.000479863\ttest-auc:0.538221+0.000875723\n",
            "[56]\ttrain-auc:0.541703+0.000448694\ttest-auc:0.538388+0.000904408\n",
            "[60]\ttrain-auc:0.542077+0.000410778\ttest-auc:0.53851+0.000920213\n",
            "[64]\ttrain-auc:0.54238+0.000389356\ttest-auc:0.538578+0.00097945\n",
            "[68]\ttrain-auc:0.542612+0.000395177\ttest-auc:0.538633+0.000957514\n",
            "[72]\ttrain-auc:0.542883+0.000389017\ttest-auc:0.538653+0.000936104\n",
            "[76]\ttrain-auc:0.543131+0.000455005\ttest-auc:0.538723+0.000874509\n",
            "[80]\ttrain-auc:0.543385+0.000393828\ttest-auc:0.538776+0.000873816\n",
            "[84]\ttrain-auc:0.543679+0.000388846\ttest-auc:0.538831+0.000878142\n",
            "[88]\ttrain-auc:0.543943+0.000409521\ttest-auc:0.538875+0.000852272\n",
            "[92]\ttrain-auc:0.544171+0.000412094\ttest-auc:0.538879+0.000854055\n",
            "[96]\ttrain-auc:0.544406+0.00037257\ttest-auc:0.538846+0.000823864\n",
            "[100]\ttrain-auc:0.544602+0.000360062\ttest-auc:0.53889+0.000810467\n",
            "[104]\ttrain-auc:0.544888+0.000371671\ttest-auc:0.538898+0.000850313\n",
            "[108]\ttrain-auc:0.545099+0.000391881\ttest-auc:0.5389+0.000819218\n",
            "\n",
            "Model Report\n",
            "Accuracy : 0.8557\n",
            "AUC Score (Train): 0.542984\n"
          ]
        }
      ]
    },
    {
      "cell_type": "code",
      "source": [
        "# Set parameters\n",
        "ratio = float(np.sum(y == 0)) / np.sum(y == 1)\n",
        "\n",
        "model1 = xgb.XGBClassifier(\n",
        "                max_depth = 3,\n",
        "                n_estimators=200,\n",
        "                gamma=0.1,\n",
        "                eta=0.1, \n",
        "                nthread=4,\n",
        "                subsample=0.7,\n",
        "                colsample_bytree=0.75,\n",
        "                min_child_weight = 1,\n",
        "                scale_pos_weight = ratio,\n",
        "                reg_alpha=0.03,\n",
        "                seed=100)\n",
        "\n",
        "model1.fit(X_train, y_train, early_stopping_rounds=10, eval_metric=[\"auc\"],\n",
        "        eval_set=[(X_train, y_train), (X_test, y_test)])\n",
        "        \n",
        "print('\\nOverall AUC:', roc_auc_score(y, model1.predict_proba(X, ntree_limit=model1.best_iteration)[:,1]))"
      ],
      "metadata": {
        "colab": {
          "base_uri": "https://localhost:8080/"
        },
        "id": "1-fkpZjfjsJi",
        "outputId": "4f01f475-41e5-452c-b42b-e19abc612938"
      },
      "execution_count": null,
      "outputs": [
        {
          "output_type": "stream",
          "name": "stdout",
          "text": [
            "[0]\tvalidation_0-auc:0.520875\tvalidation_1-auc:0.520779\n",
            "Multiple eval metrics have been passed: 'validation_1-auc' will be used for early stopping.\n",
            "\n",
            "Will train until validation_1-auc hasn't improved in 10 rounds.\n",
            "[1]\tvalidation_0-auc:0.521701\tvalidation_1-auc:0.521659\n",
            "[2]\tvalidation_0-auc:0.524516\tvalidation_1-auc:0.524673\n",
            "[3]\tvalidation_0-auc:0.525808\tvalidation_1-auc:0.525938\n",
            "[4]\tvalidation_0-auc:0.530034\tvalidation_1-auc:0.530402\n",
            "[5]\tvalidation_0-auc:0.53275\tvalidation_1-auc:0.533298\n",
            "[6]\tvalidation_0-auc:0.532284\tvalidation_1-auc:0.532919\n",
            "[7]\tvalidation_0-auc:0.532123\tvalidation_1-auc:0.532606\n",
            "[8]\tvalidation_0-auc:0.531903\tvalidation_1-auc:0.532443\n",
            "[9]\tvalidation_0-auc:0.531788\tvalidation_1-auc:0.532313\n",
            "[10]\tvalidation_0-auc:0.532433\tvalidation_1-auc:0.533007\n",
            "[11]\tvalidation_0-auc:0.533238\tvalidation_1-auc:0.533767\n",
            "[12]\tvalidation_0-auc:0.533676\tvalidation_1-auc:0.534313\n",
            "[13]\tvalidation_0-auc:0.533924\tvalidation_1-auc:0.534595\n",
            "[14]\tvalidation_0-auc:0.534325\tvalidation_1-auc:0.535052\n",
            "[15]\tvalidation_0-auc:0.534287\tvalidation_1-auc:0.534948\n",
            "[16]\tvalidation_0-auc:0.534722\tvalidation_1-auc:0.535398\n",
            "[17]\tvalidation_0-auc:0.534819\tvalidation_1-auc:0.535548\n",
            "[18]\tvalidation_0-auc:0.534938\tvalidation_1-auc:0.535818\n",
            "[19]\tvalidation_0-auc:0.535042\tvalidation_1-auc:0.535845\n",
            "[20]\tvalidation_0-auc:0.535473\tvalidation_1-auc:0.536258\n",
            "[21]\tvalidation_0-auc:0.535383\tvalidation_1-auc:0.53617\n",
            "[22]\tvalidation_0-auc:0.535413\tvalidation_1-auc:0.536167\n",
            "[23]\tvalidation_0-auc:0.535711\tvalidation_1-auc:0.536386\n",
            "[24]\tvalidation_0-auc:0.535785\tvalidation_1-auc:0.536435\n",
            "[25]\tvalidation_0-auc:0.535957\tvalidation_1-auc:0.536656\n",
            "[26]\tvalidation_0-auc:0.536077\tvalidation_1-auc:0.536833\n",
            "[27]\tvalidation_0-auc:0.536236\tvalidation_1-auc:0.537002\n",
            "[28]\tvalidation_0-auc:0.5365\tvalidation_1-auc:0.537258\n",
            "[29]\tvalidation_0-auc:0.536484\tvalidation_1-auc:0.537224\n",
            "[30]\tvalidation_0-auc:0.536525\tvalidation_1-auc:0.537233\n",
            "[31]\tvalidation_0-auc:0.536508\tvalidation_1-auc:0.537199\n",
            "[32]\tvalidation_0-auc:0.536744\tvalidation_1-auc:0.537441\n",
            "[33]\tvalidation_0-auc:0.536838\tvalidation_1-auc:0.537539\n",
            "[34]\tvalidation_0-auc:0.537161\tvalidation_1-auc:0.537877\n",
            "[35]\tvalidation_0-auc:0.53722\tvalidation_1-auc:0.537916\n",
            "[36]\tvalidation_0-auc:0.537316\tvalidation_1-auc:0.538016\n",
            "[37]\tvalidation_0-auc:0.537332\tvalidation_1-auc:0.538024\n",
            "[38]\tvalidation_0-auc:0.53735\tvalidation_1-auc:0.538017\n",
            "[39]\tvalidation_0-auc:0.537353\tvalidation_1-auc:0.538005\n",
            "[40]\tvalidation_0-auc:0.537394\tvalidation_1-auc:0.538013\n",
            "[41]\tvalidation_0-auc:0.537465\tvalidation_1-auc:0.538053\n",
            "[42]\tvalidation_0-auc:0.537494\tvalidation_1-auc:0.538089\n",
            "[43]\tvalidation_0-auc:0.537502\tvalidation_1-auc:0.538064\n",
            "[44]\tvalidation_0-auc:0.537556\tvalidation_1-auc:0.538105\n",
            "[45]\tvalidation_0-auc:0.537646\tvalidation_1-auc:0.538212\n",
            "[46]\tvalidation_0-auc:0.537683\tvalidation_1-auc:0.538253\n",
            "[47]\tvalidation_0-auc:0.537698\tvalidation_1-auc:0.538267\n",
            "[48]\tvalidation_0-auc:0.537762\tvalidation_1-auc:0.538297\n",
            "[49]\tvalidation_0-auc:0.537804\tvalidation_1-auc:0.538315\n",
            "[50]\tvalidation_0-auc:0.53792\tvalidation_1-auc:0.538422\n",
            "[51]\tvalidation_0-auc:0.538094\tvalidation_1-auc:0.538628\n",
            "[52]\tvalidation_0-auc:0.538096\tvalidation_1-auc:0.538658\n",
            "[53]\tvalidation_0-auc:0.538146\tvalidation_1-auc:0.538724\n",
            "[54]\tvalidation_0-auc:0.538186\tvalidation_1-auc:0.538749\n",
            "[55]\tvalidation_0-auc:0.538239\tvalidation_1-auc:0.53876\n",
            "[56]\tvalidation_0-auc:0.538267\tvalidation_1-auc:0.538787\n",
            "[57]\tvalidation_0-auc:0.538353\tvalidation_1-auc:0.538827\n",
            "[58]\tvalidation_0-auc:0.538378\tvalidation_1-auc:0.538866\n",
            "[59]\tvalidation_0-auc:0.538373\tvalidation_1-auc:0.538879\n",
            "[60]\tvalidation_0-auc:0.538459\tvalidation_1-auc:0.538911\n",
            "[61]\tvalidation_0-auc:0.538475\tvalidation_1-auc:0.538906\n",
            "[62]\tvalidation_0-auc:0.538492\tvalidation_1-auc:0.538919\n",
            "[63]\tvalidation_0-auc:0.538507\tvalidation_1-auc:0.538906\n",
            "[64]\tvalidation_0-auc:0.538511\tvalidation_1-auc:0.538927\n",
            "[65]\tvalidation_0-auc:0.538529\tvalidation_1-auc:0.53893\n",
            "[66]\tvalidation_0-auc:0.538629\tvalidation_1-auc:0.539027\n",
            "[67]\tvalidation_0-auc:0.538682\tvalidation_1-auc:0.539046\n",
            "[68]\tvalidation_0-auc:0.538713\tvalidation_1-auc:0.539091\n",
            "[69]\tvalidation_0-auc:0.538712\tvalidation_1-auc:0.539086\n",
            "[70]\tvalidation_0-auc:0.538778\tvalidation_1-auc:0.539164\n",
            "[71]\tvalidation_0-auc:0.538788\tvalidation_1-auc:0.539187\n",
            "[72]\tvalidation_0-auc:0.5388\tvalidation_1-auc:0.539187\n",
            "[73]\tvalidation_0-auc:0.538809\tvalidation_1-auc:0.539178\n",
            "[74]\tvalidation_0-auc:0.538829\tvalidation_1-auc:0.539176\n",
            "[75]\tvalidation_0-auc:0.538843\tvalidation_1-auc:0.539169\n",
            "[76]\tvalidation_0-auc:0.538863\tvalidation_1-auc:0.539188\n",
            "[77]\tvalidation_0-auc:0.538904\tvalidation_1-auc:0.539214\n",
            "[78]\tvalidation_0-auc:0.538933\tvalidation_1-auc:0.539235\n",
            "[79]\tvalidation_0-auc:0.538942\tvalidation_1-auc:0.539245\n",
            "[80]\tvalidation_0-auc:0.538984\tvalidation_1-auc:0.539247\n",
            "[81]\tvalidation_0-auc:0.538995\tvalidation_1-auc:0.539249\n",
            "[82]\tvalidation_0-auc:0.538998\tvalidation_1-auc:0.539233\n",
            "[83]\tvalidation_0-auc:0.539016\tvalidation_1-auc:0.539239\n",
            "[84]\tvalidation_0-auc:0.539056\tvalidation_1-auc:0.539243\n",
            "[85]\tvalidation_0-auc:0.53908\tvalidation_1-auc:0.539258\n",
            "[86]\tvalidation_0-auc:0.539089\tvalidation_1-auc:0.539258\n",
            "[87]\tvalidation_0-auc:0.539115\tvalidation_1-auc:0.539256\n",
            "[88]\tvalidation_0-auc:0.539117\tvalidation_1-auc:0.539252\n",
            "[89]\tvalidation_0-auc:0.539113\tvalidation_1-auc:0.539265\n",
            "[90]\tvalidation_0-auc:0.539172\tvalidation_1-auc:0.539336\n",
            "[91]\tvalidation_0-auc:0.539203\tvalidation_1-auc:0.539369\n",
            "[92]\tvalidation_0-auc:0.539225\tvalidation_1-auc:0.539371\n",
            "[93]\tvalidation_0-auc:0.539262\tvalidation_1-auc:0.539414\n",
            "[94]\tvalidation_0-auc:0.539421\tvalidation_1-auc:0.53957\n",
            "[95]\tvalidation_0-auc:0.539436\tvalidation_1-auc:0.539561\n",
            "[96]\tvalidation_0-auc:0.539458\tvalidation_1-auc:0.539563\n",
            "[97]\tvalidation_0-auc:0.539482\tvalidation_1-auc:0.539555\n",
            "[98]\tvalidation_0-auc:0.53948\tvalidation_1-auc:0.539547\n",
            "[99]\tvalidation_0-auc:0.539486\tvalidation_1-auc:0.539554\n",
            "[100]\tvalidation_0-auc:0.539496\tvalidation_1-auc:0.539553\n",
            "[101]\tvalidation_0-auc:0.539509\tvalidation_1-auc:0.539555\n",
            "[102]\tvalidation_0-auc:0.539525\tvalidation_1-auc:0.539562\n",
            "[103]\tvalidation_0-auc:0.539647\tvalidation_1-auc:0.539598\n",
            "[104]\tvalidation_0-auc:0.539652\tvalidation_1-auc:0.539602\n",
            "[105]\tvalidation_0-auc:0.539697\tvalidation_1-auc:0.539635\n",
            "[106]\tvalidation_0-auc:0.53971\tvalidation_1-auc:0.539645\n",
            "[107]\tvalidation_0-auc:0.539747\tvalidation_1-auc:0.539658\n",
            "[108]\tvalidation_0-auc:0.539778\tvalidation_1-auc:0.539686\n",
            "[109]\tvalidation_0-auc:0.539783\tvalidation_1-auc:0.539687\n",
            "[110]\tvalidation_0-auc:0.539792\tvalidation_1-auc:0.539674\n",
            "[111]\tvalidation_0-auc:0.539794\tvalidation_1-auc:0.53968\n",
            "[112]\tvalidation_0-auc:0.539813\tvalidation_1-auc:0.539701\n",
            "[113]\tvalidation_0-auc:0.539836\tvalidation_1-auc:0.539708\n",
            "[114]\tvalidation_0-auc:0.539855\tvalidation_1-auc:0.539698\n",
            "[115]\tvalidation_0-auc:0.539859\tvalidation_1-auc:0.539697\n",
            "[116]\tvalidation_0-auc:0.539869\tvalidation_1-auc:0.539719\n",
            "[117]\tvalidation_0-auc:0.539882\tvalidation_1-auc:0.539726\n",
            "[118]\tvalidation_0-auc:0.539897\tvalidation_1-auc:0.539702\n",
            "[119]\tvalidation_0-auc:0.539913\tvalidation_1-auc:0.539704\n",
            "[120]\tvalidation_0-auc:0.539926\tvalidation_1-auc:0.539701\n",
            "[121]\tvalidation_0-auc:0.539932\tvalidation_1-auc:0.5397\n",
            "[122]\tvalidation_0-auc:0.539931\tvalidation_1-auc:0.539706\n",
            "[123]\tvalidation_0-auc:0.539958\tvalidation_1-auc:0.539723\n",
            "[124]\tvalidation_0-auc:0.539996\tvalidation_1-auc:0.539736\n",
            "[125]\tvalidation_0-auc:0.540014\tvalidation_1-auc:0.539742\n",
            "[126]\tvalidation_0-auc:0.540023\tvalidation_1-auc:0.539739\n",
            "[127]\tvalidation_0-auc:0.54003\tvalidation_1-auc:0.539732\n",
            "[128]\tvalidation_0-auc:0.540041\tvalidation_1-auc:0.539742\n",
            "[129]\tvalidation_0-auc:0.540062\tvalidation_1-auc:0.53975\n",
            "[130]\tvalidation_0-auc:0.540074\tvalidation_1-auc:0.539749\n",
            "[131]\tvalidation_0-auc:0.540083\tvalidation_1-auc:0.539773\n",
            "[132]\tvalidation_0-auc:0.540104\tvalidation_1-auc:0.539786\n",
            "[133]\tvalidation_0-auc:0.540118\tvalidation_1-auc:0.539798\n",
            "[134]\tvalidation_0-auc:0.540143\tvalidation_1-auc:0.539821\n",
            "[135]\tvalidation_0-auc:0.540153\tvalidation_1-auc:0.539812\n",
            "[136]\tvalidation_0-auc:0.540222\tvalidation_1-auc:0.53988\n",
            "[137]\tvalidation_0-auc:0.540233\tvalidation_1-auc:0.539867\n",
            "[138]\tvalidation_0-auc:0.540251\tvalidation_1-auc:0.539875\n",
            "[139]\tvalidation_0-auc:0.540254\tvalidation_1-auc:0.539869\n",
            "[140]\tvalidation_0-auc:0.540274\tvalidation_1-auc:0.539868\n",
            "[141]\tvalidation_0-auc:0.54028\tvalidation_1-auc:0.539868\n",
            "[142]\tvalidation_0-auc:0.540295\tvalidation_1-auc:0.539874\n",
            "[143]\tvalidation_0-auc:0.540299\tvalidation_1-auc:0.539888\n",
            "[144]\tvalidation_0-auc:0.540317\tvalidation_1-auc:0.539885\n",
            "[145]\tvalidation_0-auc:0.54033\tvalidation_1-auc:0.539883\n",
            "[146]\tvalidation_0-auc:0.540339\tvalidation_1-auc:0.539868\n",
            "[147]\tvalidation_0-auc:0.540352\tvalidation_1-auc:0.539887\n",
            "[148]\tvalidation_0-auc:0.540366\tvalidation_1-auc:0.539898\n",
            "[149]\tvalidation_0-auc:0.540375\tvalidation_1-auc:0.53989\n",
            "[150]\tvalidation_0-auc:0.540394\tvalidation_1-auc:0.539894\n",
            "[151]\tvalidation_0-auc:0.540401\tvalidation_1-auc:0.539886\n",
            "[152]\tvalidation_0-auc:0.540408\tvalidation_1-auc:0.539876\n",
            "[153]\tvalidation_0-auc:0.540422\tvalidation_1-auc:0.539871\n",
            "[154]\tvalidation_0-auc:0.540424\tvalidation_1-auc:0.539874\n",
            "[155]\tvalidation_0-auc:0.540442\tvalidation_1-auc:0.539878\n",
            "[156]\tvalidation_0-auc:0.540439\tvalidation_1-auc:0.539879\n",
            "[157]\tvalidation_0-auc:0.540446\tvalidation_1-auc:0.539868\n",
            "[158]\tvalidation_0-auc:0.540456\tvalidation_1-auc:0.53986\n",
            "Stopping. Best iteration:\n",
            "[148]\tvalidation_0-auc:0.540366\tvalidation_1-auc:0.539898\n",
            "\n"
          ]
        },
        {
          "output_type": "execute_result",
          "data": {
            "text/plain": [
              "XGBClassifier(colsample_bytree=0.75, eta=0.1, gamma=0.1, min_child_weight=3,\n",
              "              n_estimators=200, nthread=4, reg_alpha=0.03,\n",
              "              scale_pos_weight=5.934864661230836, seed=100, subsample=0.7)"
            ]
          },
          "metadata": {},
          "execution_count": 36
        },
        {
          "output_type": "stream",
          "name": "stdout",
          "text": [
            "\n",
            "Overall AUC: 0.540212578479763\n"
          ]
        }
      ]
    },
    {
      "cell_type": "code",
      "source": [
        "param_t2 = {'n_estimators': range(100,500,100)\n",
        "}\n",
        "\n",
        "xlf = xgb.XGBClassifier(\n",
        "            learning_rate=0.1,\n",
        "            max_depth=best_max_depth,\n",
        "            min_child_weight=best_min_child_weight,\n",
        "            silent=1,\n",
        "            objective='multi:softmax',\n",
        "            num_class=2,          \n",
        "            gamma=0,\n",
        "            max_delta_step=0,\n",
        "            subsample=0.85,\n",
        "            colsample_bytree=0.7,\n",
        "            colsample_bylevel=1,\n",
        "            reg_alpha=0,\n",
        "            reg_lambda=1,\n",
        "            scale_pos_weight=1,\n",
        "            seed=0,\n",
        "            missing=None)\n",
        "\n",
        "optimal_params_2 = GridSearchCV(xlf, param_grid=param_t2, scoring='accuracy', cv=3)\n",
        "optimal_params_2.fit(X_train, y_train)\n",
        "best_n_estimators = optimal_params_2.best_params_['n_estimators']\n",
        "\n",
        "print(\"Best score: %0.3f\" % optimal_params_1.best_score_)\n",
        "print(\"Best parameters set: %s\" % optimal_params_1.best_params_ )"
      ],
      "metadata": {
        "colab": {
          "base_uri": "https://localhost:8080/"
        },
        "id": "JuJPOOYvEh01",
        "outputId": "d8e7cbcb-1cd1-426b-acad-72f6b2d1ee67"
      },
      "execution_count": null,
      "outputs": [
        {
          "output_type": "execute_result",
          "data": {
            "text/plain": [
              "GridSearchCV(cv=3,\n",
              "             estimator=XGBClassifier(colsample_bytree=0.7, num_class=2,\n",
              "                                     objective='multi:softmax', seed=0,\n",
              "                                     silent=1, subsample=0.85),\n",
              "             param_grid={'n_estimators': range(100, 500, 100)},\n",
              "             scoring='accuracy')"
            ]
          },
          "metadata": {},
          "execution_count": 15
        },
        {
          "output_type": "stream",
          "name": "stdout",
          "text": [
            "Best score: 0.500\n",
            "Best parameters set: {'max_depth': 3, 'min_child_weight': 1}\n"
          ]
        }
      ]
    },
    {
      "cell_type": "code",
      "source": [
        "print(\"Best parameters set: %s\" % optimal_params_2.best_params_ )"
      ],
      "metadata": {
        "colab": {
          "base_uri": "https://localhost:8080/"
        },
        "id": "b-RGPR09sQw-",
        "outputId": "8d903acf-4cb8-439e-dc23-74892e4ff039"
      },
      "execution_count": null,
      "outputs": [
        {
          "output_type": "stream",
          "name": "stdout",
          "text": [
            "Best parameters set: {'n_estimators': 100}\n"
          ]
        }
      ]
    },
    {
      "cell_type": "code",
      "source": [
        "print(\"Best score: %0.3f\" % optimal_params.best_score_)\n",
        "print(\"Best parameters set: %s\" % optimal_params.best_params_ )"
      ],
      "metadata": {
        "colab": {
          "base_uri": "https://localhost:8080/"
        },
        "id": "H6mA74nou-yO",
        "outputId": "25c04c24-2193-4939-b901-03ef0cdd59ba"
      },
      "execution_count": null,
      "outputs": [
        {
          "output_type": "stream",
          "name": "stdout",
          "text": [
            "Best score: 0.856\n",
            "Best parameters set: {'max_depth': 4, 'n_estimators': 5}\n"
          ]
        }
      ]
    },
    {
      "cell_type": "code",
      "source": [
        "# parameters\n",
        "from sklearn.model_selection import GridSearchCV\n",
        "\n",
        "parameters = {\n",
        "              'max_depth': [5, 10, 15, 20, 25],\n",
        "              'learning_rate': [0.01, 0.02, 0.05, 0.1, 0.15],\n",
        "              'n_estimators': [500, 1000, 2000, 3000, 5000],\n",
        "              'min_child_weight': [0, 2, 5, 10, 20],\n",
        "              'max_delta_step': [0, 0.2, 0.6, 1, 2],\n",
        "              'subsample': [0.6, 0.7, 0.8, 0.85, 0.95],\n",
        "              'colsample_bytree': [0.5, 0.6, 0.7, 0.8, 0.9],\n",
        "              'reg_alpha': [0, 0.25, 0.5, 0.75, 1],\n",
        "              'reg_lambda': [0.2, 0.4, 0.6, 0.8, 1],\n",
        "              'scale_pos_weight': [0.2, 0.4, 0.6, 0.8, 1]\n",
        "\n",
        "}\n",
        "\n",
        "xlf = xgb.XGBClassifier(max_depth=10,\n",
        "            learning_rate=0.01,\n",
        "            n_estimators=2000,\n",
        "            silent=True,\n",
        "            objective='multi:softmax',\n",
        "            num_class=2,          \n",
        "            nthread=-1,\n",
        "            gamma=0,\n",
        "            min_child_weight=1,\n",
        "            max_delta_step=0,\n",
        "            subsample=0.85,\n",
        "            colsample_bytree=0.7,\n",
        "            colsample_bylevel=1,\n",
        "            reg_alpha=0,\n",
        "            reg_lambda=1,\n",
        "            scale_pos_weight=1,\n",
        "            seed=0,\n",
        "            missing=None)\n",
        "\n",
        "optimal_params = GridSearchCV(xlf, param_grid=parameters, scoring='accuracy', cv=3)\n",
        "optimal_params.fit(X_train, y_train)\n",
        "\n",
        "print(\"Best score: %0.3f\" % optimal_params.best_score_)\n",
        "print(\"Best parameters set: %s\" % optimal_params.best_params_ )"
      ],
      "metadata": {
        "colab": {
          "base_uri": "https://localhost:8080/",
          "height": 393
        },
        "id": "QgZEJg7pP8ch",
        "outputId": "681f8414-c886-4050-e249-1a042b73178a"
      },
      "execution_count": null,
      "outputs": [
        {
          "output_type": "error",
          "ename": "KeyboardInterrupt",
          "evalue": "ignored",
          "traceback": [
            "\u001b[0;31m---------------------------------------------------------------------------\u001b[0m",
            "\u001b[0;31mKeyboardInterrupt\u001b[0m                         Traceback (most recent call last)",
            "\u001b[0;32m<ipython-input-45-4e034e59949f>\u001b[0m in \u001b[0;36m<module>\u001b[0;34m()\u001b[0m\n\u001b[1;32m     36\u001b[0m \u001b[0;34m\u001b[0m\u001b[0m\n\u001b[1;32m     37\u001b[0m \u001b[0moptimal_params\u001b[0m \u001b[0;34m=\u001b[0m \u001b[0mGridSearchCV\u001b[0m\u001b[0;34m(\u001b[0m\u001b[0mxlf\u001b[0m\u001b[0;34m,\u001b[0m \u001b[0mparam_grid\u001b[0m\u001b[0;34m=\u001b[0m\u001b[0mparameters\u001b[0m\u001b[0;34m,\u001b[0m \u001b[0mscoring\u001b[0m\u001b[0;34m=\u001b[0m\u001b[0;34m'accuracy'\u001b[0m\u001b[0;34m,\u001b[0m \u001b[0mcv\u001b[0m\u001b[0;34m=\u001b[0m\u001b[0;36m3\u001b[0m\u001b[0;34m)\u001b[0m\u001b[0;34m\u001b[0m\u001b[0;34m\u001b[0m\u001b[0m\n\u001b[0;32m---> 38\u001b[0;31m \u001b[0moptimal_params\u001b[0m\u001b[0;34m.\u001b[0m\u001b[0mfit\u001b[0m\u001b[0;34m(\u001b[0m\u001b[0mX_train\u001b[0m\u001b[0;34m,\u001b[0m \u001b[0my_train\u001b[0m\u001b[0;34m)\u001b[0m\u001b[0;34m\u001b[0m\u001b[0;34m\u001b[0m\u001b[0m\n\u001b[0m\u001b[1;32m     39\u001b[0m \u001b[0;34m\u001b[0m\u001b[0m\n\u001b[1;32m     40\u001b[0m \u001b[0mprint\u001b[0m\u001b[0;34m(\u001b[0m\u001b[0;34m\"Best score: %0.3f\"\u001b[0m \u001b[0;34m%\u001b[0m \u001b[0moptimal_params\u001b[0m\u001b[0;34m.\u001b[0m\u001b[0mbest_score_\u001b[0m\u001b[0;34m)\u001b[0m\u001b[0;34m\u001b[0m\u001b[0;34m\u001b[0m\u001b[0m\n",
            "\u001b[0;32m/usr/local/lib/python3.7/dist-packages/sklearn/model_selection/_search.py\u001b[0m in \u001b[0;36mfit\u001b[0;34m(self, X, y, groups, **fit_params)\u001b[0m\n\u001b[1;32m    889\u001b[0m                 \u001b[0;32mreturn\u001b[0m \u001b[0mresults\u001b[0m\u001b[0;34m\u001b[0m\u001b[0;34m\u001b[0m\u001b[0m\n\u001b[1;32m    890\u001b[0m \u001b[0;34m\u001b[0m\u001b[0m\n\u001b[0;32m--> 891\u001b[0;31m             \u001b[0mself\u001b[0m\u001b[0;34m.\u001b[0m\u001b[0m_run_search\u001b[0m\u001b[0;34m(\u001b[0m\u001b[0mevaluate_candidates\u001b[0m\u001b[0;34m)\u001b[0m\u001b[0;34m\u001b[0m\u001b[0;34m\u001b[0m\u001b[0m\n\u001b[0m\u001b[1;32m    892\u001b[0m \u001b[0;34m\u001b[0m\u001b[0m\n\u001b[1;32m    893\u001b[0m             \u001b[0;31m# multimetric is determined here because in the case of a callable\u001b[0m\u001b[0;34m\u001b[0m\u001b[0;34m\u001b[0m\u001b[0;34m\u001b[0m\u001b[0m\n",
            "\u001b[0;32m/usr/local/lib/python3.7/dist-packages/sklearn/model_selection/_search.py\u001b[0m in \u001b[0;36m_run_search\u001b[0;34m(self, evaluate_candidates)\u001b[0m\n\u001b[1;32m   1390\u001b[0m     \u001b[0;32mdef\u001b[0m \u001b[0m_run_search\u001b[0m\u001b[0;34m(\u001b[0m\u001b[0mself\u001b[0m\u001b[0;34m,\u001b[0m \u001b[0mevaluate_candidates\u001b[0m\u001b[0;34m)\u001b[0m\u001b[0;34m:\u001b[0m\u001b[0;34m\u001b[0m\u001b[0;34m\u001b[0m\u001b[0m\n\u001b[1;32m   1391\u001b[0m         \u001b[0;34m\"\"\"Search all candidates in param_grid\"\"\"\u001b[0m\u001b[0;34m\u001b[0m\u001b[0;34m\u001b[0m\u001b[0m\n\u001b[0;32m-> 1392\u001b[0;31m         \u001b[0mevaluate_candidates\u001b[0m\u001b[0;34m(\u001b[0m\u001b[0mParameterGrid\u001b[0m\u001b[0;34m(\u001b[0m\u001b[0mself\u001b[0m\u001b[0;34m.\u001b[0m\u001b[0mparam_grid\u001b[0m\u001b[0;34m)\u001b[0m\u001b[0;34m)\u001b[0m\u001b[0;34m\u001b[0m\u001b[0;34m\u001b[0m\u001b[0m\n\u001b[0m\u001b[1;32m   1393\u001b[0m \u001b[0;34m\u001b[0m\u001b[0m\n\u001b[1;32m   1394\u001b[0m \u001b[0;34m\u001b[0m\u001b[0m\n",
            "\u001b[0;32m/usr/local/lib/python3.7/dist-packages/sklearn/model_selection/_search.py\u001b[0m in \u001b[0;36mevaluate_candidates\u001b[0;34m(candidate_params, cv, more_results)\u001b[0m\n\u001b[1;32m    849\u001b[0m                     )\n\u001b[1;32m    850\u001b[0m                     for (cand_idx, parameters), (split_idx, (train, test)) in product(\n\u001b[0;32m--> 851\u001b[0;31m                         \u001b[0menumerate\u001b[0m\u001b[0;34m(\u001b[0m\u001b[0mcandidate_params\u001b[0m\u001b[0;34m)\u001b[0m\u001b[0;34m,\u001b[0m \u001b[0menumerate\u001b[0m\u001b[0;34m(\u001b[0m\u001b[0mcv\u001b[0m\u001b[0;34m.\u001b[0m\u001b[0msplit\u001b[0m\u001b[0;34m(\u001b[0m\u001b[0mX\u001b[0m\u001b[0;34m,\u001b[0m \u001b[0my\u001b[0m\u001b[0;34m,\u001b[0m \u001b[0mgroups\u001b[0m\u001b[0;34m)\u001b[0m\u001b[0;34m)\u001b[0m\u001b[0;34m\u001b[0m\u001b[0;34m\u001b[0m\u001b[0m\n\u001b[0m\u001b[1;32m    852\u001b[0m                     )\n\u001b[1;32m    853\u001b[0m                 )\n",
            "\u001b[0;32m/usr/local/lib/python3.7/dist-packages/joblib/parallel.py\u001b[0m in \u001b[0;36m__call__\u001b[0;34m(self, iterable)\u001b[0m\n\u001b[1;32m   1044\u001b[0m                 \u001b[0mself\u001b[0m\u001b[0;34m.\u001b[0m\u001b[0m_iterating\u001b[0m \u001b[0;34m=\u001b[0m \u001b[0mself\u001b[0m\u001b[0;34m.\u001b[0m\u001b[0m_original_iterator\u001b[0m \u001b[0;32mis\u001b[0m \u001b[0;32mnot\u001b[0m \u001b[0;32mNone\u001b[0m\u001b[0;34m\u001b[0m\u001b[0;34m\u001b[0m\u001b[0m\n\u001b[1;32m   1045\u001b[0m \u001b[0;34m\u001b[0m\u001b[0m\n\u001b[0;32m-> 1046\u001b[0;31m             \u001b[0;32mwhile\u001b[0m \u001b[0mself\u001b[0m\u001b[0;34m.\u001b[0m\u001b[0mdispatch_one_batch\u001b[0m\u001b[0;34m(\u001b[0m\u001b[0miterator\u001b[0m\u001b[0;34m)\u001b[0m\u001b[0;34m:\u001b[0m\u001b[0;34m\u001b[0m\u001b[0;34m\u001b[0m\u001b[0m\n\u001b[0m\u001b[1;32m   1047\u001b[0m                 \u001b[0;32mpass\u001b[0m\u001b[0;34m\u001b[0m\u001b[0;34m\u001b[0m\u001b[0m\n\u001b[1;32m   1048\u001b[0m \u001b[0;34m\u001b[0m\u001b[0m\n",
            "\u001b[0;32m/usr/local/lib/python3.7/dist-packages/joblib/parallel.py\u001b[0m in \u001b[0;36mdispatch_one_batch\u001b[0;34m(self, iterator)\u001b[0m\n\u001b[1;32m    859\u001b[0m                 \u001b[0;32mreturn\u001b[0m \u001b[0;32mFalse\u001b[0m\u001b[0;34m\u001b[0m\u001b[0;34m\u001b[0m\u001b[0m\n\u001b[1;32m    860\u001b[0m             \u001b[0;32melse\u001b[0m\u001b[0;34m:\u001b[0m\u001b[0;34m\u001b[0m\u001b[0;34m\u001b[0m\u001b[0m\n\u001b[0;32m--> 861\u001b[0;31m                 \u001b[0mself\u001b[0m\u001b[0;34m.\u001b[0m\u001b[0m_dispatch\u001b[0m\u001b[0;34m(\u001b[0m\u001b[0mtasks\u001b[0m\u001b[0;34m)\u001b[0m\u001b[0;34m\u001b[0m\u001b[0;34m\u001b[0m\u001b[0m\n\u001b[0m\u001b[1;32m    862\u001b[0m                 \u001b[0;32mreturn\u001b[0m \u001b[0;32mTrue\u001b[0m\u001b[0;34m\u001b[0m\u001b[0;34m\u001b[0m\u001b[0m\n\u001b[1;32m    863\u001b[0m \u001b[0;34m\u001b[0m\u001b[0m\n",
            "\u001b[0;32m/usr/local/lib/python3.7/dist-packages/joblib/parallel.py\u001b[0m in \u001b[0;36m_dispatch\u001b[0;34m(self, batch)\u001b[0m\n\u001b[1;32m    777\u001b[0m         \u001b[0;32mwith\u001b[0m \u001b[0mself\u001b[0m\u001b[0;34m.\u001b[0m\u001b[0m_lock\u001b[0m\u001b[0;34m:\u001b[0m\u001b[0;34m\u001b[0m\u001b[0;34m\u001b[0m\u001b[0m\n\u001b[1;32m    778\u001b[0m             \u001b[0mjob_idx\u001b[0m \u001b[0;34m=\u001b[0m \u001b[0mlen\u001b[0m\u001b[0;34m(\u001b[0m\u001b[0mself\u001b[0m\u001b[0;34m.\u001b[0m\u001b[0m_jobs\u001b[0m\u001b[0;34m)\u001b[0m\u001b[0;34m\u001b[0m\u001b[0;34m\u001b[0m\u001b[0m\n\u001b[0;32m--> 779\u001b[0;31m             \u001b[0mjob\u001b[0m \u001b[0;34m=\u001b[0m \u001b[0mself\u001b[0m\u001b[0;34m.\u001b[0m\u001b[0m_backend\u001b[0m\u001b[0;34m.\u001b[0m\u001b[0mapply_async\u001b[0m\u001b[0;34m(\u001b[0m\u001b[0mbatch\u001b[0m\u001b[0;34m,\u001b[0m \u001b[0mcallback\u001b[0m\u001b[0;34m=\u001b[0m\u001b[0mcb\u001b[0m\u001b[0;34m)\u001b[0m\u001b[0;34m\u001b[0m\u001b[0;34m\u001b[0m\u001b[0m\n\u001b[0m\u001b[1;32m    780\u001b[0m             \u001b[0;31m# A job can complete so quickly than its callback is\u001b[0m\u001b[0;34m\u001b[0m\u001b[0;34m\u001b[0m\u001b[0;34m\u001b[0m\u001b[0m\n\u001b[1;32m    781\u001b[0m             \u001b[0;31m# called before we get here, causing self._jobs to\u001b[0m\u001b[0;34m\u001b[0m\u001b[0;34m\u001b[0m\u001b[0;34m\u001b[0m\u001b[0m\n",
            "\u001b[0;32m/usr/local/lib/python3.7/dist-packages/joblib/_parallel_backends.py\u001b[0m in \u001b[0;36mapply_async\u001b[0;34m(self, func, callback)\u001b[0m\n\u001b[1;32m    206\u001b[0m     \u001b[0;32mdef\u001b[0m \u001b[0mapply_async\u001b[0m\u001b[0;34m(\u001b[0m\u001b[0mself\u001b[0m\u001b[0;34m,\u001b[0m \u001b[0mfunc\u001b[0m\u001b[0;34m,\u001b[0m \u001b[0mcallback\u001b[0m\u001b[0;34m=\u001b[0m\u001b[0;32mNone\u001b[0m\u001b[0;34m)\u001b[0m\u001b[0;34m:\u001b[0m\u001b[0;34m\u001b[0m\u001b[0;34m\u001b[0m\u001b[0m\n\u001b[1;32m    207\u001b[0m         \u001b[0;34m\"\"\"Schedule a func to be run\"\"\"\u001b[0m\u001b[0;34m\u001b[0m\u001b[0;34m\u001b[0m\u001b[0m\n\u001b[0;32m--> 208\u001b[0;31m         \u001b[0mresult\u001b[0m \u001b[0;34m=\u001b[0m \u001b[0mImmediateResult\u001b[0m\u001b[0;34m(\u001b[0m\u001b[0mfunc\u001b[0m\u001b[0;34m)\u001b[0m\u001b[0;34m\u001b[0m\u001b[0;34m\u001b[0m\u001b[0m\n\u001b[0m\u001b[1;32m    209\u001b[0m         \u001b[0;32mif\u001b[0m \u001b[0mcallback\u001b[0m\u001b[0;34m:\u001b[0m\u001b[0;34m\u001b[0m\u001b[0;34m\u001b[0m\u001b[0m\n\u001b[1;32m    210\u001b[0m             \u001b[0mcallback\u001b[0m\u001b[0;34m(\u001b[0m\u001b[0mresult\u001b[0m\u001b[0;34m)\u001b[0m\u001b[0;34m\u001b[0m\u001b[0;34m\u001b[0m\u001b[0m\n",
            "\u001b[0;32m/usr/local/lib/python3.7/dist-packages/joblib/_parallel_backends.py\u001b[0m in \u001b[0;36m__init__\u001b[0;34m(self, batch)\u001b[0m\n\u001b[1;32m    570\u001b[0m         \u001b[0;31m# Don't delay the application, to avoid keeping the input\u001b[0m\u001b[0;34m\u001b[0m\u001b[0;34m\u001b[0m\u001b[0;34m\u001b[0m\u001b[0m\n\u001b[1;32m    571\u001b[0m         \u001b[0;31m# arguments in memory\u001b[0m\u001b[0;34m\u001b[0m\u001b[0;34m\u001b[0m\u001b[0;34m\u001b[0m\u001b[0m\n\u001b[0;32m--> 572\u001b[0;31m         \u001b[0mself\u001b[0m\u001b[0;34m.\u001b[0m\u001b[0mresults\u001b[0m \u001b[0;34m=\u001b[0m \u001b[0mbatch\u001b[0m\u001b[0;34m(\u001b[0m\u001b[0;34m)\u001b[0m\u001b[0;34m\u001b[0m\u001b[0;34m\u001b[0m\u001b[0m\n\u001b[0m\u001b[1;32m    573\u001b[0m \u001b[0;34m\u001b[0m\u001b[0m\n\u001b[1;32m    574\u001b[0m     \u001b[0;32mdef\u001b[0m \u001b[0mget\u001b[0m\u001b[0;34m(\u001b[0m\u001b[0mself\u001b[0m\u001b[0;34m)\u001b[0m\u001b[0;34m:\u001b[0m\u001b[0;34m\u001b[0m\u001b[0;34m\u001b[0m\u001b[0m\n",
            "\u001b[0;32m/usr/local/lib/python3.7/dist-packages/joblib/parallel.py\u001b[0m in \u001b[0;36m__call__\u001b[0;34m(self)\u001b[0m\n\u001b[1;32m    261\u001b[0m         \u001b[0;32mwith\u001b[0m \u001b[0mparallel_backend\u001b[0m\u001b[0;34m(\u001b[0m\u001b[0mself\u001b[0m\u001b[0;34m.\u001b[0m\u001b[0m_backend\u001b[0m\u001b[0;34m,\u001b[0m \u001b[0mn_jobs\u001b[0m\u001b[0;34m=\u001b[0m\u001b[0mself\u001b[0m\u001b[0;34m.\u001b[0m\u001b[0m_n_jobs\u001b[0m\u001b[0;34m)\u001b[0m\u001b[0;34m:\u001b[0m\u001b[0;34m\u001b[0m\u001b[0;34m\u001b[0m\u001b[0m\n\u001b[1;32m    262\u001b[0m             return [func(*args, **kwargs)\n\u001b[0;32m--> 263\u001b[0;31m                     for func, args, kwargs in self.items]\n\u001b[0m\u001b[1;32m    264\u001b[0m \u001b[0;34m\u001b[0m\u001b[0m\n\u001b[1;32m    265\u001b[0m     \u001b[0;32mdef\u001b[0m \u001b[0m__reduce__\u001b[0m\u001b[0;34m(\u001b[0m\u001b[0mself\u001b[0m\u001b[0;34m)\u001b[0m\u001b[0;34m:\u001b[0m\u001b[0;34m\u001b[0m\u001b[0;34m\u001b[0m\u001b[0m\n",
            "\u001b[0;32m/usr/local/lib/python3.7/dist-packages/joblib/parallel.py\u001b[0m in \u001b[0;36m<listcomp>\u001b[0;34m(.0)\u001b[0m\n\u001b[1;32m    261\u001b[0m         \u001b[0;32mwith\u001b[0m \u001b[0mparallel_backend\u001b[0m\u001b[0;34m(\u001b[0m\u001b[0mself\u001b[0m\u001b[0;34m.\u001b[0m\u001b[0m_backend\u001b[0m\u001b[0;34m,\u001b[0m \u001b[0mn_jobs\u001b[0m\u001b[0;34m=\u001b[0m\u001b[0mself\u001b[0m\u001b[0;34m.\u001b[0m\u001b[0m_n_jobs\u001b[0m\u001b[0;34m)\u001b[0m\u001b[0;34m:\u001b[0m\u001b[0;34m\u001b[0m\u001b[0;34m\u001b[0m\u001b[0m\n\u001b[1;32m    262\u001b[0m             return [func(*args, **kwargs)\n\u001b[0;32m--> 263\u001b[0;31m                     for func, args, kwargs in self.items]\n\u001b[0m\u001b[1;32m    264\u001b[0m \u001b[0;34m\u001b[0m\u001b[0m\n\u001b[1;32m    265\u001b[0m     \u001b[0;32mdef\u001b[0m \u001b[0m__reduce__\u001b[0m\u001b[0;34m(\u001b[0m\u001b[0mself\u001b[0m\u001b[0;34m)\u001b[0m\u001b[0;34m:\u001b[0m\u001b[0;34m\u001b[0m\u001b[0;34m\u001b[0m\u001b[0m\n",
            "\u001b[0;32m/usr/local/lib/python3.7/dist-packages/sklearn/utils/fixes.py\u001b[0m in \u001b[0;36m__call__\u001b[0;34m(self, *args, **kwargs)\u001b[0m\n\u001b[1;32m    214\u001b[0m     \u001b[0;32mdef\u001b[0m \u001b[0m__call__\u001b[0m\u001b[0;34m(\u001b[0m\u001b[0mself\u001b[0m\u001b[0;34m,\u001b[0m \u001b[0;34m*\u001b[0m\u001b[0margs\u001b[0m\u001b[0;34m,\u001b[0m \u001b[0;34m**\u001b[0m\u001b[0mkwargs\u001b[0m\u001b[0;34m)\u001b[0m\u001b[0;34m:\u001b[0m\u001b[0;34m\u001b[0m\u001b[0;34m\u001b[0m\u001b[0m\n\u001b[1;32m    215\u001b[0m         \u001b[0;32mwith\u001b[0m \u001b[0mconfig_context\u001b[0m\u001b[0;34m(\u001b[0m\u001b[0;34m**\u001b[0m\u001b[0mself\u001b[0m\u001b[0;34m.\u001b[0m\u001b[0mconfig\u001b[0m\u001b[0;34m)\u001b[0m\u001b[0;34m:\u001b[0m\u001b[0;34m\u001b[0m\u001b[0;34m\u001b[0m\u001b[0m\n\u001b[0;32m--> 216\u001b[0;31m             \u001b[0;32mreturn\u001b[0m \u001b[0mself\u001b[0m\u001b[0;34m.\u001b[0m\u001b[0mfunction\u001b[0m\u001b[0;34m(\u001b[0m\u001b[0;34m*\u001b[0m\u001b[0margs\u001b[0m\u001b[0;34m,\u001b[0m \u001b[0;34m**\u001b[0m\u001b[0mkwargs\u001b[0m\u001b[0;34m)\u001b[0m\u001b[0;34m\u001b[0m\u001b[0;34m\u001b[0m\u001b[0m\n\u001b[0m\u001b[1;32m    217\u001b[0m \u001b[0;34m\u001b[0m\u001b[0m\n\u001b[1;32m    218\u001b[0m \u001b[0;34m\u001b[0m\u001b[0m\n",
            "\u001b[0;32m/usr/local/lib/python3.7/dist-packages/sklearn/model_selection/_validation.py\u001b[0m in \u001b[0;36m_fit_and_score\u001b[0;34m(estimator, X, y, scorer, train, test, verbose, parameters, fit_params, return_train_score, return_parameters, return_n_test_samples, return_times, return_estimator, split_progress, candidate_progress, error_score)\u001b[0m\n\u001b[1;32m    678\u001b[0m             \u001b[0mestimator\u001b[0m\u001b[0;34m.\u001b[0m\u001b[0mfit\u001b[0m\u001b[0;34m(\u001b[0m\u001b[0mX_train\u001b[0m\u001b[0;34m,\u001b[0m \u001b[0;34m**\u001b[0m\u001b[0mfit_params\u001b[0m\u001b[0;34m)\u001b[0m\u001b[0;34m\u001b[0m\u001b[0;34m\u001b[0m\u001b[0m\n\u001b[1;32m    679\u001b[0m         \u001b[0;32melse\u001b[0m\u001b[0;34m:\u001b[0m\u001b[0;34m\u001b[0m\u001b[0;34m\u001b[0m\u001b[0m\n\u001b[0;32m--> 680\u001b[0;31m             \u001b[0mestimator\u001b[0m\u001b[0;34m.\u001b[0m\u001b[0mfit\u001b[0m\u001b[0;34m(\u001b[0m\u001b[0mX_train\u001b[0m\u001b[0;34m,\u001b[0m \u001b[0my_train\u001b[0m\u001b[0;34m,\u001b[0m \u001b[0;34m**\u001b[0m\u001b[0mfit_params\u001b[0m\u001b[0;34m)\u001b[0m\u001b[0;34m\u001b[0m\u001b[0;34m\u001b[0m\u001b[0m\n\u001b[0m\u001b[1;32m    681\u001b[0m \u001b[0;34m\u001b[0m\u001b[0m\n\u001b[1;32m    682\u001b[0m     \u001b[0;32mexcept\u001b[0m \u001b[0mException\u001b[0m\u001b[0;34m:\u001b[0m\u001b[0;34m\u001b[0m\u001b[0;34m\u001b[0m\u001b[0m\n",
            "\u001b[0;32m/usr/local/lib/python3.7/dist-packages/xgboost/sklearn.py\u001b[0m in \u001b[0;36mfit\u001b[0;34m(self, X, y, sample_weight, eval_set, eval_metric, early_stopping_rounds, verbose, xgb_model, sample_weight_eval_set, callbacks)\u001b[0m\n\u001b[1;32m    730\u001b[0m                               \u001b[0mevals_result\u001b[0m\u001b[0;34m=\u001b[0m\u001b[0mevals_result\u001b[0m\u001b[0;34m,\u001b[0m \u001b[0mobj\u001b[0m\u001b[0;34m=\u001b[0m\u001b[0mobj\u001b[0m\u001b[0;34m,\u001b[0m \u001b[0mfeval\u001b[0m\u001b[0;34m=\u001b[0m\u001b[0mfeval\u001b[0m\u001b[0;34m,\u001b[0m\u001b[0;34m\u001b[0m\u001b[0;34m\u001b[0m\u001b[0m\n\u001b[1;32m    731\u001b[0m                               \u001b[0mverbose_eval\u001b[0m\u001b[0;34m=\u001b[0m\u001b[0mverbose\u001b[0m\u001b[0;34m,\u001b[0m \u001b[0mxgb_model\u001b[0m\u001b[0;34m=\u001b[0m\u001b[0mxgb_model\u001b[0m\u001b[0;34m,\u001b[0m\u001b[0;34m\u001b[0m\u001b[0;34m\u001b[0m\u001b[0m\n\u001b[0;32m--> 732\u001b[0;31m                               callbacks=callbacks)\n\u001b[0m\u001b[1;32m    733\u001b[0m \u001b[0;34m\u001b[0m\u001b[0m\n\u001b[1;32m    734\u001b[0m         \u001b[0mself\u001b[0m\u001b[0;34m.\u001b[0m\u001b[0mobjective\u001b[0m \u001b[0;34m=\u001b[0m \u001b[0mxgb_options\u001b[0m\u001b[0;34m[\u001b[0m\u001b[0;34m\"objective\"\u001b[0m\u001b[0;34m]\u001b[0m\u001b[0;34m\u001b[0m\u001b[0;34m\u001b[0m\u001b[0m\n",
            "\u001b[0;32m/usr/local/lib/python3.7/dist-packages/xgboost/training.py\u001b[0m in \u001b[0;36mtrain\u001b[0;34m(params, dtrain, num_boost_round, evals, obj, feval, maximize, early_stopping_rounds, evals_result, verbose_eval, xgb_model, callbacks, learning_rates)\u001b[0m\n\u001b[1;32m    214\u001b[0m                            \u001b[0mevals\u001b[0m\u001b[0;34m=\u001b[0m\u001b[0mevals\u001b[0m\u001b[0;34m,\u001b[0m\u001b[0;34m\u001b[0m\u001b[0;34m\u001b[0m\u001b[0m\n\u001b[1;32m    215\u001b[0m                            \u001b[0mobj\u001b[0m\u001b[0;34m=\u001b[0m\u001b[0mobj\u001b[0m\u001b[0;34m,\u001b[0m \u001b[0mfeval\u001b[0m\u001b[0;34m=\u001b[0m\u001b[0mfeval\u001b[0m\u001b[0;34m,\u001b[0m\u001b[0;34m\u001b[0m\u001b[0;34m\u001b[0m\u001b[0m\n\u001b[0;32m--> 216\u001b[0;31m                            xgb_model=xgb_model, callbacks=callbacks)\n\u001b[0m\u001b[1;32m    217\u001b[0m \u001b[0;34m\u001b[0m\u001b[0m\n\u001b[1;32m    218\u001b[0m \u001b[0;34m\u001b[0m\u001b[0m\n",
            "\u001b[0;32m/usr/local/lib/python3.7/dist-packages/xgboost/training.py\u001b[0m in \u001b[0;36m_train_internal\u001b[0;34m(params, dtrain, num_boost_round, evals, obj, feval, xgb_model, callbacks)\u001b[0m\n\u001b[1;32m     72\u001b[0m         \u001b[0;31m# Skip the first update if it is a recovery step.\u001b[0m\u001b[0;34m\u001b[0m\u001b[0;34m\u001b[0m\u001b[0;34m\u001b[0m\u001b[0m\n\u001b[1;32m     73\u001b[0m         \u001b[0;32mif\u001b[0m \u001b[0mversion\u001b[0m \u001b[0;34m%\u001b[0m \u001b[0;36m2\u001b[0m \u001b[0;34m==\u001b[0m \u001b[0;36m0\u001b[0m\u001b[0;34m:\u001b[0m\u001b[0;34m\u001b[0m\u001b[0;34m\u001b[0m\u001b[0m\n\u001b[0;32m---> 74\u001b[0;31m             \u001b[0mbst\u001b[0m\u001b[0;34m.\u001b[0m\u001b[0mupdate\u001b[0m\u001b[0;34m(\u001b[0m\u001b[0mdtrain\u001b[0m\u001b[0;34m,\u001b[0m \u001b[0mi\u001b[0m\u001b[0;34m,\u001b[0m \u001b[0mobj\u001b[0m\u001b[0;34m)\u001b[0m\u001b[0;34m\u001b[0m\u001b[0;34m\u001b[0m\u001b[0m\n\u001b[0m\u001b[1;32m     75\u001b[0m             \u001b[0mbst\u001b[0m\u001b[0;34m.\u001b[0m\u001b[0msave_rabit_checkpoint\u001b[0m\u001b[0;34m(\u001b[0m\u001b[0;34m)\u001b[0m\u001b[0;34m\u001b[0m\u001b[0;34m\u001b[0m\u001b[0m\n\u001b[1;32m     76\u001b[0m             \u001b[0mversion\u001b[0m \u001b[0;34m+=\u001b[0m \u001b[0;36m1\u001b[0m\u001b[0;34m\u001b[0m\u001b[0;34m\u001b[0m\u001b[0m\n",
            "\u001b[0;32m/usr/local/lib/python3.7/dist-packages/xgboost/core.py\u001b[0m in \u001b[0;36mupdate\u001b[0;34m(self, dtrain, iteration, fobj)\u001b[0m\n\u001b[1;32m   1107\u001b[0m         \u001b[0;32mif\u001b[0m \u001b[0mfobj\u001b[0m \u001b[0;32mis\u001b[0m \u001b[0;32mNone\u001b[0m\u001b[0;34m:\u001b[0m\u001b[0;34m\u001b[0m\u001b[0;34m\u001b[0m\u001b[0m\n\u001b[1;32m   1108\u001b[0m             _check_call(_LIB.XGBoosterUpdateOneIter(self.handle, ctypes.c_int(iteration),\n\u001b[0;32m-> 1109\u001b[0;31m                                                     dtrain.handle))\n\u001b[0m\u001b[1;32m   1110\u001b[0m         \u001b[0;32melse\u001b[0m\u001b[0;34m:\u001b[0m\u001b[0;34m\u001b[0m\u001b[0;34m\u001b[0m\u001b[0m\n\u001b[1;32m   1111\u001b[0m             \u001b[0mpred\u001b[0m \u001b[0;34m=\u001b[0m \u001b[0mself\u001b[0m\u001b[0;34m.\u001b[0m\u001b[0mpredict\u001b[0m\u001b[0;34m(\u001b[0m\u001b[0mdtrain\u001b[0m\u001b[0;34m)\u001b[0m\u001b[0;34m\u001b[0m\u001b[0;34m\u001b[0m\u001b[0m\n",
            "\u001b[0;31mKeyboardInterrupt\u001b[0m: "
          ]
        }
      ]
    }
  ],
  "metadata": {
    "colab": {
      "collapsed_sections": [
        "b1zfIZml6zW7",
        "Ugvro1g3_xb_"
      ],
      "machine_shape": "hm",
      "name": "Descriptive Analysis.ipynb",
      "provenance": [],
      "include_colab_link": true
    },
    "kernelspec": {
      "display_name": "Python 3",
      "language": "python",
      "name": "python3"
    },
    "language_info": {
      "codemirror_mode": {
        "name": "ipython",
        "version": 3
      },
      "file_extension": ".py",
      "mimetype": "text/x-python",
      "name": "python",
      "nbconvert_exporter": "python",
      "pygments_lexer": "ipython3",
      "version": "3.8.3"
    }
  },
  "nbformat": 4,
  "nbformat_minor": 0
}