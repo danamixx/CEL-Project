{
  "cells": [
    {
      "cell_type": "markdown",
      "metadata": {
        "id": "view-in-github",
        "colab_type": "text"
      },
      "source": [
        "<a href=\"https://colab.research.google.com/github/danamixx/CEL-Project/blob/main/CEL_project_New_Balance.ipynb\" target=\"_parent\"><img src=\"https://colab.research.google.com/assets/colab-badge.svg\" alt=\"Open In Colab\"/></a>"
      ]
    },
    {
      "cell_type": "code",
      "execution_count": 1,
      "metadata": {
        "colab": {
          "base_uri": "https://localhost:8080/"
        },
        "id": "6-Sfwdhz6-F6",
        "outputId": "1c63d950-62fa-48cf-d809-bcc7958658ec"
      },
      "outputs": [
        {
          "output_type": "stream",
          "name": "stdout",
          "text": [
            "Mounted at /content/drive\n"
          ]
        }
      ],
      "source": [
        "from google.colab import drive\n",
        "drive.mount('/content/drive')"
      ]
    },
    {
      "cell_type": "code",
      "execution_count": null,
      "metadata": {
        "id": "IGD5RBa76zW9"
      },
      "outputs": [],
      "source": [
        "from IPython.core.interactiveshell import InteractiveShell\n",
        "InteractiveShell.ast_node_interactivity = \"all\""
      ]
    },
    {
      "cell_type": "markdown",
      "metadata": {
        "id": "IkSw6YAO1VjB"
      },
      "source": [
        "## Predictive Analysis"
      ]
    },
    {
      "cell_type": "markdown",
      "metadata": {
        "id": "7RpBMRiE1O3Z"
      },
      "source": [
        "### Question 1: Return or Not (Classfication Model)"
      ]
    },
    {
      "cell_type": "markdown",
      "metadata": {
        "id": "Ugvro1g3_xb_"
      },
      "source": [
        "#### Create input and output variables"
      ]
    },
    {
      "cell_type": "code",
      "execution_count": null,
      "metadata": {
        "id": "WAcD6XGN1ug6"
      },
      "outputs": [],
      "source": [
        "import pandas as pd\n",
        "import numpy as np\n",
        "\n",
        "pd.set_option('display.max_columns', None)\n",
        "pd.set_option('display.max_rows', None)\n",
        "\n",
        "df = pd.read_csv(\"/content/drive/MyDrive/Colab Notebooks/Main Colab Files/CEL/NB_Cleaned.txt\")\n",
        "df = df.query(\"Class == 'FOOTWEAR'\")\n",
        "df.head(20)"
      ]
    },
    {
      "cell_type": "code",
      "execution_count": null,
      "metadata": {
        "colab": {
          "base_uri": "https://localhost:8080/"
        },
        "id": "lrkkFgGtqBqm",
        "outputId": "fd44de39-77ea-4581-fe32-22bdd520e0e5"
      },
      "outputs": [
        {
          "data": {
            "text/plain": [
              "(5789440, 34)"
            ]
          },
          "execution_count": 40,
          "metadata": {},
          "output_type": "execute_result"
        }
      ],
      "source": [
        "df.shape"
      ]
    },
    {
      "cell_type": "code",
      "execution_count": null,
      "metadata": {
        "id": "NgRsrS9xfRmQ"
      },
      "outputs": [],
      "source": [
        "nb = pd.DataFrame()"
      ]
    },
    {
      "cell_type": "code",
      "execution_count": null,
      "metadata": {
        "id": "7BegKOI4dwCc"
      },
      "outputs": [],
      "source": [
        "# Output: Return or Not\n",
        "Return = df[\"Return/Exchange\"].str.lower()\n",
        "nb[\"Return\"] = np.where(Return != \"returns\",0,1)"
      ]
    },
    {
      "cell_type": "code",
      "execution_count": null,
      "metadata": {
        "id": "c5S3mDXnRyRz"
      },
      "outputs": [],
      "source": [
        "#check if payment type is visa\n",
        "nb['Visa'] = df.apply(lambda row: 1 if row['paymenttype']=='Visa' else 0, axis=1)\n",
        "\n",
        "#check if payment type is Paypal\n",
        "nb['Paypal'] = df.apply(lambda row: 1 if row['paymenttype']=='Paypal' else 0, axis=1)\n",
        "\n",
        "#check if payment type is MasterCard\n",
        "nb['MasterCard'] = df.apply(lambda row: 1 if row['paymenttype']=='MasterCard' else 0, axis=1)\n",
        "\n",
        "#check if payment type is AMEX\n",
        "nb['AMEX'] = df.apply(lambda row: 1 if row['paymenttype']=='AMEX' or 'Amex' or 'AmEx' else 0, axis=1)"
      ]
    },
    {
      "cell_type": "code",
      "execution_count": null,
      "metadata": {
        "id": "udlbMMjoDID1"
      },
      "outputs": [],
      "source": [
        "# convert coupon amount ($) to % of retail price\n",
        "nb['Coupon_Amount'] = (df['couponamount'] / df['retailprice']) * 100\n",
        "\n",
        "# convert discount amount ($) to % of retail price\n",
        "nb['Discount_Amount'] = (df['discountamount'] / df['retailprice']) * 100"
      ]
    },
    {
      "cell_type": "code",
      "execution_count": null,
      "metadata": {
        "id": "Tc90INEMHEOR"
      },
      "outputs": [],
      "source": [
        "# number of days from order placed date to current date\n",
        "import datetime\n",
        "now_str = datetime.datetime.now().strftime('%Y-%m-%d')\n",
        "now = datetime.datetime.strptime(now_str, \"%Y-%m-%d\")\n",
        "df['Order_Placed_Date'] = pd.to_datetime(df['Order_Placed_Date'], format = \"%Y-%m-%d\")\n",
        "nb['Days_to_Date'] = (now - df['Order_Placed_Date']).apply(lambda x : x.days)"
      ]
    },
    {
      "cell_type": "code",
      "execution_count": null,
      "metadata": {
        "id": "9USfify7kpoQ"
      },
      "outputs": [],
      "source": [
        "nb['Retail_Price'] = df['retailprice']\n",
        "nb['Size'] = df['width_color']"
      ]
    },
    {
      "cell_type": "code",
      "execution_count": null,
      "metadata": {
        "id": "fdyMgrCt8jGn"
      },
      "outputs": [],
      "source": [
        "#check if male or female\n",
        "nb['Women'] = df.apply(lambda row: 1 if row['Gender']=='WOMAN' else 0, axis=1)    \n",
        "nb['Men'] = df.apply(lambda row: 0 if row['Gender']=='WOMAN' else 1, axis=1)      \n",
        "\n",
        "#check if new customer    \n",
        "nb['New_customer'] = df.apply(lambda row: 1 if row['New Customer Order Flag']=='New Customer' else 0, axis=1)\n",
        "\n",
        "#check if UPSSPPS\n",
        "nb['UPSSPPS'] = df.apply(lambda row: 1 if row['shipmethod']=='UPSSPPS' else 0, axis=1)\n",
        "\n",
        "#check if shipping method was Ground\n",
        "nb['Ground'] = df.apply(lambda row: 1 if row['shipmethod']=='Ground' else 0, axis=1)"
      ]
    },
    {
      "cell_type": "code",
      "execution_count": null,
      "metadata": {
        "id": "szV7aisJN9fF"
      },
      "outputs": [],
      "source": [
        "Category = df[\"Category\"]\n",
        "Subcategory = df[\"Subcategory\"]\n",
        "\n",
        "# check if Category = Running or FW Running or Trail Running and Subcategory = Neutral Cushioning\n",
        "nb_1[\"Running_Neutral\"] = np.where((Category.str.contains(\"Running\")) & (Subcategory == 'Neutral Cushioning'),1,0)\n",
        "\n",
        "# check if Category = Running or FW Running or Trail Running and Subcategory ≠ Neutral Cushioning\n",
        "nb_1[\"Running_Not_Neutral\"] = np.where((Category.str.contains(\"Running\")) & (Subcategory != 'Neutral Cushioning'),1,0)\n",
        "\n",
        "# check if Category = Classic or FW Classic and Subcategory = Heritage\n",
        "nb_1[\"Classics_Heritage\"] = np.where((Category.str.contains(\"Classic\")) & (Subcategory == 'Heritage'),1,0)\n",
        "\n",
        "# check if Category = Classic or FW Classic and Subcategory ≠ Heritage\n",
        "nb_1[\"Classics_Not_Heritage\"] = np.where((Category.str.contains(\"Classic\")) & (Subcategory != 'Heritage'),1,0)\n",
        "\n",
        "# check if Category = Kids\n",
        "nb_1[\"Running_Neutral\"] = np.where(Category.str.contains(\"Kids\"))\n",
        "\n",
        "# check if Category = Training or FW X-Train\n",
        "nb_1[\"Running_Neutral\"] = np.where(Category.str.contains(\"Training\"))\n",
        "\n",
        "# check if Category = Kids\n",
        "nb_1[\"Running_Neutral\"] = np.where(Category.str.contains(\"Walking\"))\n"
      ]
    },
    {
      "cell_type": "code",
      "execution_count": null,
      "metadata": {
        "colab": {
          "base_uri": "https://localhost:8080/"
        },
        "id": "aAJij8zJnX6R",
        "outputId": "ed914b4b-ba3d-48d7-d696-70045da11ba0"
      },
      "outputs": [
        {
          "data": {
            "text/plain": [
              "(5789440, 22)"
            ]
          },
          "execution_count": 52,
          "metadata": {},
          "output_type": "execute_result"
        }
      ],
      "source": [
        "nb_1.shape"
      ]
    },
    {
      "cell_type": "markdown",
      "metadata": {
        "id": "cqkaJFdb__1D"
      },
      "source": [
        "#### Xgboost Model"
      ]
    },
    {
      "cell_type": "code",
      "execution_count": null,
      "metadata": {
        "id": "_zkn3vrDBC_q",
        "colab": {
          "base_uri": "https://localhost:8080/",
          "height": 270
        },
        "outputId": "18f24370-931c-4ae7-9469-e35c7da7fd1d"
      },
      "outputs": [
        {
          "output_type": "execute_result",
          "data": {
            "text/plain": [
              "   Return  Visa  Paypal  MasterCard  AMEX  Coupon_Amount  Discount_Amount  \\\n",
              "0       0   1.0     0.0         0.0   1.0      14.293508              0.0   \n",
              "1       0   1.0     0.0         0.0   1.0       0.000000              0.0   \n",
              "2       0   0.0     0.0         0.0   1.0       0.000000              0.0   \n",
              "3       0   0.0     0.0         1.0   1.0       0.000000              0.0   \n",
              "4       0   1.0     0.0         0.0   1.0       0.000000              0.0   \n",
              "\n",
              "   Days_to_Date  Retail_Price Size  Women  Men  New_customer  UPSSPPS  Ground  \\\n",
              "0        1404.0         54.99    W    0.0  1.0           1.0      1.0     0.0   \n",
              "1         368.0         79.99    B    0.0  1.0           1.0      0.0     1.0   \n",
              "2         376.0         79.99    B    0.0  1.0           1.0      0.0     1.0   \n",
              "3         369.0         79.99    B    0.0  1.0           1.0      0.0     1.0   \n",
              "4         350.0        129.99    D    0.0  1.0           1.0      0.0     1.0   \n",
              "\n",
              "   Running_Neutral  Running_Not_Neutral  Classics_Heritage  \\\n",
              "0                0                    0                  0   \n",
              "1                1                    0                  0   \n",
              "2                0                    0                  1   \n",
              "3                0                    0                  1   \n",
              "4                0                    1                  0   \n",
              "\n",
              "   Classics_Not_Heritage  Kids  Training  Walking  \n",
              "0                      0     1         0        0  \n",
              "1                      0     0         0        0  \n",
              "2                      0     0         0        0  \n",
              "3                      0     0         0        0  \n",
              "4                      0     0         0        0  "
            ],
            "text/html": [
              "\n",
              "  <div id=\"df-8443c7e3-357a-4974-805f-bf74ad818e70\">\n",
              "    <div class=\"colab-df-container\">\n",
              "      <div>\n",
              "<style scoped>\n",
              "    .dataframe tbody tr th:only-of-type {\n",
              "        vertical-align: middle;\n",
              "    }\n",
              "\n",
              "    .dataframe tbody tr th {\n",
              "        vertical-align: top;\n",
              "    }\n",
              "\n",
              "    .dataframe thead th {\n",
              "        text-align: right;\n",
              "    }\n",
              "</style>\n",
              "<table border=\"1\" class=\"dataframe\">\n",
              "  <thead>\n",
              "    <tr style=\"text-align: right;\">\n",
              "      <th></th>\n",
              "      <th>Return</th>\n",
              "      <th>Visa</th>\n",
              "      <th>Paypal</th>\n",
              "      <th>MasterCard</th>\n",
              "      <th>AMEX</th>\n",
              "      <th>Coupon_Amount</th>\n",
              "      <th>Discount_Amount</th>\n",
              "      <th>Days_to_Date</th>\n",
              "      <th>Retail_Price</th>\n",
              "      <th>Size</th>\n",
              "      <th>Women</th>\n",
              "      <th>Men</th>\n",
              "      <th>New_customer</th>\n",
              "      <th>UPSSPPS</th>\n",
              "      <th>Ground</th>\n",
              "      <th>Running_Neutral</th>\n",
              "      <th>Running_Not_Neutral</th>\n",
              "      <th>Classics_Heritage</th>\n",
              "      <th>Classics_Not_Heritage</th>\n",
              "      <th>Kids</th>\n",
              "      <th>Training</th>\n",
              "      <th>Walking</th>\n",
              "    </tr>\n",
              "  </thead>\n",
              "  <tbody>\n",
              "    <tr>\n",
              "      <th>0</th>\n",
              "      <td>0</td>\n",
              "      <td>1.0</td>\n",
              "      <td>0.0</td>\n",
              "      <td>0.0</td>\n",
              "      <td>1.0</td>\n",
              "      <td>14.293508</td>\n",
              "      <td>0.0</td>\n",
              "      <td>1404.0</td>\n",
              "      <td>54.99</td>\n",
              "      <td>W</td>\n",
              "      <td>0.0</td>\n",
              "      <td>1.0</td>\n",
              "      <td>1.0</td>\n",
              "      <td>1.0</td>\n",
              "      <td>0.0</td>\n",
              "      <td>0</td>\n",
              "      <td>0</td>\n",
              "      <td>0</td>\n",
              "      <td>0</td>\n",
              "      <td>1</td>\n",
              "      <td>0</td>\n",
              "      <td>0</td>\n",
              "    </tr>\n",
              "    <tr>\n",
              "      <th>1</th>\n",
              "      <td>0</td>\n",
              "      <td>1.0</td>\n",
              "      <td>0.0</td>\n",
              "      <td>0.0</td>\n",
              "      <td>1.0</td>\n",
              "      <td>0.000000</td>\n",
              "      <td>0.0</td>\n",
              "      <td>368.0</td>\n",
              "      <td>79.99</td>\n",
              "      <td>B</td>\n",
              "      <td>0.0</td>\n",
              "      <td>1.0</td>\n",
              "      <td>1.0</td>\n",
              "      <td>0.0</td>\n",
              "      <td>1.0</td>\n",
              "      <td>1</td>\n",
              "      <td>0</td>\n",
              "      <td>0</td>\n",
              "      <td>0</td>\n",
              "      <td>0</td>\n",
              "      <td>0</td>\n",
              "      <td>0</td>\n",
              "    </tr>\n",
              "    <tr>\n",
              "      <th>2</th>\n",
              "      <td>0</td>\n",
              "      <td>0.0</td>\n",
              "      <td>0.0</td>\n",
              "      <td>0.0</td>\n",
              "      <td>1.0</td>\n",
              "      <td>0.000000</td>\n",
              "      <td>0.0</td>\n",
              "      <td>376.0</td>\n",
              "      <td>79.99</td>\n",
              "      <td>B</td>\n",
              "      <td>0.0</td>\n",
              "      <td>1.0</td>\n",
              "      <td>1.0</td>\n",
              "      <td>0.0</td>\n",
              "      <td>1.0</td>\n",
              "      <td>0</td>\n",
              "      <td>0</td>\n",
              "      <td>1</td>\n",
              "      <td>0</td>\n",
              "      <td>0</td>\n",
              "      <td>0</td>\n",
              "      <td>0</td>\n",
              "    </tr>\n",
              "    <tr>\n",
              "      <th>3</th>\n",
              "      <td>0</td>\n",
              "      <td>0.0</td>\n",
              "      <td>0.0</td>\n",
              "      <td>1.0</td>\n",
              "      <td>1.0</td>\n",
              "      <td>0.000000</td>\n",
              "      <td>0.0</td>\n",
              "      <td>369.0</td>\n",
              "      <td>79.99</td>\n",
              "      <td>B</td>\n",
              "      <td>0.0</td>\n",
              "      <td>1.0</td>\n",
              "      <td>1.0</td>\n",
              "      <td>0.0</td>\n",
              "      <td>1.0</td>\n",
              "      <td>0</td>\n",
              "      <td>0</td>\n",
              "      <td>1</td>\n",
              "      <td>0</td>\n",
              "      <td>0</td>\n",
              "      <td>0</td>\n",
              "      <td>0</td>\n",
              "    </tr>\n",
              "    <tr>\n",
              "      <th>4</th>\n",
              "      <td>0</td>\n",
              "      <td>1.0</td>\n",
              "      <td>0.0</td>\n",
              "      <td>0.0</td>\n",
              "      <td>1.0</td>\n",
              "      <td>0.000000</td>\n",
              "      <td>0.0</td>\n",
              "      <td>350.0</td>\n",
              "      <td>129.99</td>\n",
              "      <td>D</td>\n",
              "      <td>0.0</td>\n",
              "      <td>1.0</td>\n",
              "      <td>1.0</td>\n",
              "      <td>0.0</td>\n",
              "      <td>1.0</td>\n",
              "      <td>0</td>\n",
              "      <td>1</td>\n",
              "      <td>0</td>\n",
              "      <td>0</td>\n",
              "      <td>0</td>\n",
              "      <td>0</td>\n",
              "      <td>0</td>\n",
              "    </tr>\n",
              "  </tbody>\n",
              "</table>\n",
              "</div>\n",
              "      <button class=\"colab-df-convert\" onclick=\"convertToInteractive('df-8443c7e3-357a-4974-805f-bf74ad818e70')\"\n",
              "              title=\"Convert this dataframe to an interactive table.\"\n",
              "              style=\"display:none;\">\n",
              "        \n",
              "  <svg xmlns=\"http://www.w3.org/2000/svg\" height=\"24px\"viewBox=\"0 0 24 24\"\n",
              "       width=\"24px\">\n",
              "    <path d=\"M0 0h24v24H0V0z\" fill=\"none\"/>\n",
              "    <path d=\"M18.56 5.44l.94 2.06.94-2.06 2.06-.94-2.06-.94-.94-2.06-.94 2.06-2.06.94zm-11 1L8.5 8.5l.94-2.06 2.06-.94-2.06-.94L8.5 2.5l-.94 2.06-2.06.94zm10 10l.94 2.06.94-2.06 2.06-.94-2.06-.94-.94-2.06-.94 2.06-2.06.94z\"/><path d=\"M17.41 7.96l-1.37-1.37c-.4-.4-.92-.59-1.43-.59-.52 0-1.04.2-1.43.59L10.3 9.45l-7.72 7.72c-.78.78-.78 2.05 0 2.83L4 21.41c.39.39.9.59 1.41.59.51 0 1.02-.2 1.41-.59l7.78-7.78 2.81-2.81c.8-.78.8-2.07 0-2.86zM5.41 20L4 18.59l7.72-7.72 1.47 1.35L5.41 20z\"/>\n",
              "  </svg>\n",
              "      </button>\n",
              "      \n",
              "  <style>\n",
              "    .colab-df-container {\n",
              "      display:flex;\n",
              "      flex-wrap:wrap;\n",
              "      gap: 12px;\n",
              "    }\n",
              "\n",
              "    .colab-df-convert {\n",
              "      background-color: #E8F0FE;\n",
              "      border: none;\n",
              "      border-radius: 50%;\n",
              "      cursor: pointer;\n",
              "      display: none;\n",
              "      fill: #1967D2;\n",
              "      height: 32px;\n",
              "      padding: 0 0 0 0;\n",
              "      width: 32px;\n",
              "    }\n",
              "\n",
              "    .colab-df-convert:hover {\n",
              "      background-color: #E2EBFA;\n",
              "      box-shadow: 0px 1px 2px rgba(60, 64, 67, 0.3), 0px 1px 3px 1px rgba(60, 64, 67, 0.15);\n",
              "      fill: #174EA6;\n",
              "    }\n",
              "\n",
              "    [theme=dark] .colab-df-convert {\n",
              "      background-color: #3B4455;\n",
              "      fill: #D2E3FC;\n",
              "    }\n",
              "\n",
              "    [theme=dark] .colab-df-convert:hover {\n",
              "      background-color: #434B5C;\n",
              "      box-shadow: 0px 1px 3px 1px rgba(0, 0, 0, 0.15);\n",
              "      filter: drop-shadow(0px 1px 2px rgba(0, 0, 0, 0.3));\n",
              "      fill: #FFFFFF;\n",
              "    }\n",
              "  </style>\n",
              "\n",
              "      <script>\n",
              "        const buttonEl =\n",
              "          document.querySelector('#df-8443c7e3-357a-4974-805f-bf74ad818e70 button.colab-df-convert');\n",
              "        buttonEl.style.display =\n",
              "          google.colab.kernel.accessAllowed ? 'block' : 'none';\n",
              "\n",
              "        async function convertToInteractive(key) {\n",
              "          const element = document.querySelector('#df-8443c7e3-357a-4974-805f-bf74ad818e70');\n",
              "          const dataTable =\n",
              "            await google.colab.kernel.invokeFunction('convertToInteractive',\n",
              "                                                     [key], {});\n",
              "          if (!dataTable) return;\n",
              "\n",
              "          const docLinkHtml = 'Like what you see? Visit the ' +\n",
              "            '<a target=\"_blank\" href=https://colab.research.google.com/notebooks/data_table.ipynb>data table notebook</a>'\n",
              "            + ' to learn more about interactive tables.';\n",
              "          element.innerHTML = '';\n",
              "          dataTable['output_type'] = 'display_data';\n",
              "          await google.colab.output.renderOutput(dataTable, element);\n",
              "          const docLink = document.createElement('div');\n",
              "          docLink.innerHTML = docLinkHtml;\n",
              "          element.appendChild(docLink);\n",
              "        }\n",
              "      </script>\n",
              "    </div>\n",
              "  </div>\n",
              "  "
            ]
          },
          "metadata": {},
          "execution_count": 5
        }
      ],
      "source": [
        "import pandas as pd\n",
        "import numpy as np\n",
        "from scipy import sparse\n",
        "from sklearn.impute import SimpleImputer\n",
        "from sklearn.datasets import load_iris\n",
        "import xgboost as xgb\n",
        "from xgboost import plot_importance\n",
        "from matplotlib import pyplot as plt\n",
        "from sklearn.linear_model import LogisticRegression\n",
        "from sklearn.svm import SVC\n",
        "from sklearn.tree import DecisionTreeClassifier\n",
        "from sklearn.ensemble import RandomForestClassifier\n",
        "from xgboost.sklearn import XGBClassifier\n",
        "from sklearn import preprocessing, metrics\n",
        "from sklearn.preprocessing import minmax_scale\n",
        "from sklearn.model_selection import train_test_split\n",
        "from sklearn.metrics import precision_score, roc_curve, recall_score, f1_score, roc_auc_score, accuracy_score\n",
        "from sklearn.model_selection import GridSearchCV, TimeSeriesSplit\n",
        "from matplotlib import pyplot\n",
        "\n",
        "# Load data\n",
        "nb = nb.drop('unnamed', 1)\n",
        "nb.dropna(axis=0, how='any', thresh=None, subset=None, inplace=True)\n",
        "pd.set_option(\"display.max_columns\",100)\n",
        "nb.head()"
      ]
    },
    {
      "cell_type": "code",
      "source": [
        "# Separating the Categorical data\n",
        "categorical_columns = nb.select_dtypes(include=['object']).columns\n",
        "categorical_columns"
      ],
      "metadata": {
        "colab": {
          "base_uri": "https://localhost:8080/"
        },
        "id": "eq9ILWoVoDoP",
        "outputId": "ea8db44f-b48e-41d6-eff3-885f5db9e461"
      },
      "execution_count": null,
      "outputs": [
        {
          "output_type": "execute_result",
          "data": {
            "text/plain": [
              "Index(['Size'], dtype='object')"
            ]
          },
          "metadata": {},
          "execution_count": 15
        }
      ]
    },
    {
      "cell_type": "code",
      "source": [
        "# Categorical data into numeric data\n",
        "encoded_nb = pd.get_dummies(nb, drop_first=True)\n",
        "encoded_nb.head()"
      ],
      "metadata": {
        "colab": {
          "base_uri": "https://localhost:8080/",
          "height": 270
        },
        "id": "YU2tN4mHoJd4",
        "outputId": "8b28a635-8eba-471a-c28a-d224b65b6576"
      },
      "execution_count": null,
      "outputs": [
        {
          "output_type": "execute_result",
          "data": {
            "text/plain": [
              "   Return  Visa  Paypal  MasterCard  AMEX  Coupon_Amount  Discount_Amount  \\\n",
              "0       0   1.0     0.0         0.0   1.0      14.293508              0.0   \n",
              "1       0   1.0     0.0         0.0   1.0       0.000000              0.0   \n",
              "2       0   0.0     0.0         0.0   1.0       0.000000              0.0   \n",
              "3       0   0.0     0.0         1.0   1.0       0.000000              0.0   \n",
              "4       0   1.0     0.0         0.0   1.0       0.000000              0.0   \n",
              "\n",
              "   Days_to_Date  Retail_Price  Women  Men  New_customer  UPSSPPS  Ground  \\\n",
              "0        1404.0         54.99    0.0  1.0           1.0      1.0     0.0   \n",
              "1         368.0         79.99    0.0  1.0           1.0      0.0     1.0   \n",
              "2         376.0         79.99    0.0  1.0           1.0      0.0     1.0   \n",
              "3         369.0         79.99    0.0  1.0           1.0      0.0     1.0   \n",
              "4         350.0        129.99    0.0  1.0           1.0      0.0     1.0   \n",
              "\n",
              "   Running_Neutral  Running_Not_Neutral  Classics_Heritage  \\\n",
              "0                0                    0                  0   \n",
              "1                1                    0                  0   \n",
              "2                0                    0                  1   \n",
              "3                0                    0                  1   \n",
              "4                0                    1                  0   \n",
              "\n",
              "   Classics_Not_Heritage  Kids  Training  Walking  Size_12  Size_12.5  \\\n",
              "0                      0     1         0        0        0          0   \n",
              "1                      0     0         0        0        0          0   \n",
              "2                      0     0         0        0        0          0   \n",
              "3                      0     0         0        0        0          0   \n",
              "4                      0     0         0        0        0          0   \n",
              "\n",
              "   Size_13  Size_2A  Size_2E  Size_4E  Size_5  Size_5.5  Size_6.5  Size_6E  \\\n",
              "0        0        0        0        0       0         0         0        0   \n",
              "1        0        0        0        0       0         0         0        0   \n",
              "2        0        0        0        0       0         0         0        0   \n",
              "3        0        0        0        0       0         0         0        0   \n",
              "4        0        0        0        0       0         0         0        0   \n",
              "\n",
              "   Size_7  Size_7.5  Size_8.5  Size_9  Size_B  Size_D  Size_M  Size_W  Size_XW  \n",
              "0       0         0         0       0       0       0       0       1        0  \n",
              "1       0         0         0       0       1       0       0       0        0  \n",
              "2       0         0         0       0       1       0       0       0        0  \n",
              "3       0         0         0       0       1       0       0       0        0  \n",
              "4       0         0         0       0       0       1       0       0        0  "
            ],
            "text/html": [
              "\n",
              "  <div id=\"df-61c0b5ac-406f-4376-ae36-54548f0aa75f\">\n",
              "    <div class=\"colab-df-container\">\n",
              "      <div>\n",
              "<style scoped>\n",
              "    .dataframe tbody tr th:only-of-type {\n",
              "        vertical-align: middle;\n",
              "    }\n",
              "\n",
              "    .dataframe tbody tr th {\n",
              "        vertical-align: top;\n",
              "    }\n",
              "\n",
              "    .dataframe thead th {\n",
              "        text-align: right;\n",
              "    }\n",
              "</style>\n",
              "<table border=\"1\" class=\"dataframe\">\n",
              "  <thead>\n",
              "    <tr style=\"text-align: right;\">\n",
              "      <th></th>\n",
              "      <th>Return</th>\n",
              "      <th>Visa</th>\n",
              "      <th>Paypal</th>\n",
              "      <th>MasterCard</th>\n",
              "      <th>AMEX</th>\n",
              "      <th>Coupon_Amount</th>\n",
              "      <th>Discount_Amount</th>\n",
              "      <th>Days_to_Date</th>\n",
              "      <th>Retail_Price</th>\n",
              "      <th>Women</th>\n",
              "      <th>Men</th>\n",
              "      <th>New_customer</th>\n",
              "      <th>UPSSPPS</th>\n",
              "      <th>Ground</th>\n",
              "      <th>Running_Neutral</th>\n",
              "      <th>Running_Not_Neutral</th>\n",
              "      <th>Classics_Heritage</th>\n",
              "      <th>Classics_Not_Heritage</th>\n",
              "      <th>Kids</th>\n",
              "      <th>Training</th>\n",
              "      <th>Walking</th>\n",
              "      <th>Size_12</th>\n",
              "      <th>Size_12.5</th>\n",
              "      <th>Size_13</th>\n",
              "      <th>Size_2A</th>\n",
              "      <th>Size_2E</th>\n",
              "      <th>Size_4E</th>\n",
              "      <th>Size_5</th>\n",
              "      <th>Size_5.5</th>\n",
              "      <th>Size_6.5</th>\n",
              "      <th>Size_6E</th>\n",
              "      <th>Size_7</th>\n",
              "      <th>Size_7.5</th>\n",
              "      <th>Size_8.5</th>\n",
              "      <th>Size_9</th>\n",
              "      <th>Size_B</th>\n",
              "      <th>Size_D</th>\n",
              "      <th>Size_M</th>\n",
              "      <th>Size_W</th>\n",
              "      <th>Size_XW</th>\n",
              "    </tr>\n",
              "  </thead>\n",
              "  <tbody>\n",
              "    <tr>\n",
              "      <th>0</th>\n",
              "      <td>0</td>\n",
              "      <td>1.0</td>\n",
              "      <td>0.0</td>\n",
              "      <td>0.0</td>\n",
              "      <td>1.0</td>\n",
              "      <td>14.293508</td>\n",
              "      <td>0.0</td>\n",
              "      <td>1404.0</td>\n",
              "      <td>54.99</td>\n",
              "      <td>0.0</td>\n",
              "      <td>1.0</td>\n",
              "      <td>1.0</td>\n",
              "      <td>1.0</td>\n",
              "      <td>0.0</td>\n",
              "      <td>0</td>\n",
              "      <td>0</td>\n",
              "      <td>0</td>\n",
              "      <td>0</td>\n",
              "      <td>1</td>\n",
              "      <td>0</td>\n",
              "      <td>0</td>\n",
              "      <td>0</td>\n",
              "      <td>0</td>\n",
              "      <td>0</td>\n",
              "      <td>0</td>\n",
              "      <td>0</td>\n",
              "      <td>0</td>\n",
              "      <td>0</td>\n",
              "      <td>0</td>\n",
              "      <td>0</td>\n",
              "      <td>0</td>\n",
              "      <td>0</td>\n",
              "      <td>0</td>\n",
              "      <td>0</td>\n",
              "      <td>0</td>\n",
              "      <td>0</td>\n",
              "      <td>0</td>\n",
              "      <td>0</td>\n",
              "      <td>1</td>\n",
              "      <td>0</td>\n",
              "    </tr>\n",
              "    <tr>\n",
              "      <th>1</th>\n",
              "      <td>0</td>\n",
              "      <td>1.0</td>\n",
              "      <td>0.0</td>\n",
              "      <td>0.0</td>\n",
              "      <td>1.0</td>\n",
              "      <td>0.000000</td>\n",
              "      <td>0.0</td>\n",
              "      <td>368.0</td>\n",
              "      <td>79.99</td>\n",
              "      <td>0.0</td>\n",
              "      <td>1.0</td>\n",
              "      <td>1.0</td>\n",
              "      <td>0.0</td>\n",
              "      <td>1.0</td>\n",
              "      <td>1</td>\n",
              "      <td>0</td>\n",
              "      <td>0</td>\n",
              "      <td>0</td>\n",
              "      <td>0</td>\n",
              "      <td>0</td>\n",
              "      <td>0</td>\n",
              "      <td>0</td>\n",
              "      <td>0</td>\n",
              "      <td>0</td>\n",
              "      <td>0</td>\n",
              "      <td>0</td>\n",
              "      <td>0</td>\n",
              "      <td>0</td>\n",
              "      <td>0</td>\n",
              "      <td>0</td>\n",
              "      <td>0</td>\n",
              "      <td>0</td>\n",
              "      <td>0</td>\n",
              "      <td>0</td>\n",
              "      <td>0</td>\n",
              "      <td>1</td>\n",
              "      <td>0</td>\n",
              "      <td>0</td>\n",
              "      <td>0</td>\n",
              "      <td>0</td>\n",
              "    </tr>\n",
              "    <tr>\n",
              "      <th>2</th>\n",
              "      <td>0</td>\n",
              "      <td>0.0</td>\n",
              "      <td>0.0</td>\n",
              "      <td>0.0</td>\n",
              "      <td>1.0</td>\n",
              "      <td>0.000000</td>\n",
              "      <td>0.0</td>\n",
              "      <td>376.0</td>\n",
              "      <td>79.99</td>\n",
              "      <td>0.0</td>\n",
              "      <td>1.0</td>\n",
              "      <td>1.0</td>\n",
              "      <td>0.0</td>\n",
              "      <td>1.0</td>\n",
              "      <td>0</td>\n",
              "      <td>0</td>\n",
              "      <td>1</td>\n",
              "      <td>0</td>\n",
              "      <td>0</td>\n",
              "      <td>0</td>\n",
              "      <td>0</td>\n",
              "      <td>0</td>\n",
              "      <td>0</td>\n",
              "      <td>0</td>\n",
              "      <td>0</td>\n",
              "      <td>0</td>\n",
              "      <td>0</td>\n",
              "      <td>0</td>\n",
              "      <td>0</td>\n",
              "      <td>0</td>\n",
              "      <td>0</td>\n",
              "      <td>0</td>\n",
              "      <td>0</td>\n",
              "      <td>0</td>\n",
              "      <td>0</td>\n",
              "      <td>1</td>\n",
              "      <td>0</td>\n",
              "      <td>0</td>\n",
              "      <td>0</td>\n",
              "      <td>0</td>\n",
              "    </tr>\n",
              "    <tr>\n",
              "      <th>3</th>\n",
              "      <td>0</td>\n",
              "      <td>0.0</td>\n",
              "      <td>0.0</td>\n",
              "      <td>1.0</td>\n",
              "      <td>1.0</td>\n",
              "      <td>0.000000</td>\n",
              "      <td>0.0</td>\n",
              "      <td>369.0</td>\n",
              "      <td>79.99</td>\n",
              "      <td>0.0</td>\n",
              "      <td>1.0</td>\n",
              "      <td>1.0</td>\n",
              "      <td>0.0</td>\n",
              "      <td>1.0</td>\n",
              "      <td>0</td>\n",
              "      <td>0</td>\n",
              "      <td>1</td>\n",
              "      <td>0</td>\n",
              "      <td>0</td>\n",
              "      <td>0</td>\n",
              "      <td>0</td>\n",
              "      <td>0</td>\n",
              "      <td>0</td>\n",
              "      <td>0</td>\n",
              "      <td>0</td>\n",
              "      <td>0</td>\n",
              "      <td>0</td>\n",
              "      <td>0</td>\n",
              "      <td>0</td>\n",
              "      <td>0</td>\n",
              "      <td>0</td>\n",
              "      <td>0</td>\n",
              "      <td>0</td>\n",
              "      <td>0</td>\n",
              "      <td>0</td>\n",
              "      <td>1</td>\n",
              "      <td>0</td>\n",
              "      <td>0</td>\n",
              "      <td>0</td>\n",
              "      <td>0</td>\n",
              "    </tr>\n",
              "    <tr>\n",
              "      <th>4</th>\n",
              "      <td>0</td>\n",
              "      <td>1.0</td>\n",
              "      <td>0.0</td>\n",
              "      <td>0.0</td>\n",
              "      <td>1.0</td>\n",
              "      <td>0.000000</td>\n",
              "      <td>0.0</td>\n",
              "      <td>350.0</td>\n",
              "      <td>129.99</td>\n",
              "      <td>0.0</td>\n",
              "      <td>1.0</td>\n",
              "      <td>1.0</td>\n",
              "      <td>0.0</td>\n",
              "      <td>1.0</td>\n",
              "      <td>0</td>\n",
              "      <td>1</td>\n",
              "      <td>0</td>\n",
              "      <td>0</td>\n",
              "      <td>0</td>\n",
              "      <td>0</td>\n",
              "      <td>0</td>\n",
              "      <td>0</td>\n",
              "      <td>0</td>\n",
              "      <td>0</td>\n",
              "      <td>0</td>\n",
              "      <td>0</td>\n",
              "      <td>0</td>\n",
              "      <td>0</td>\n",
              "      <td>0</td>\n",
              "      <td>0</td>\n",
              "      <td>0</td>\n",
              "      <td>0</td>\n",
              "      <td>0</td>\n",
              "      <td>0</td>\n",
              "      <td>0</td>\n",
              "      <td>0</td>\n",
              "      <td>1</td>\n",
              "      <td>0</td>\n",
              "      <td>0</td>\n",
              "      <td>0</td>\n",
              "    </tr>\n",
              "  </tbody>\n",
              "</table>\n",
              "</div>\n",
              "      <button class=\"colab-df-convert\" onclick=\"convertToInteractive('df-61c0b5ac-406f-4376-ae36-54548f0aa75f')\"\n",
              "              title=\"Convert this dataframe to an interactive table.\"\n",
              "              style=\"display:none;\">\n",
              "        \n",
              "  <svg xmlns=\"http://www.w3.org/2000/svg\" height=\"24px\"viewBox=\"0 0 24 24\"\n",
              "       width=\"24px\">\n",
              "    <path d=\"M0 0h24v24H0V0z\" fill=\"none\"/>\n",
              "    <path d=\"M18.56 5.44l.94 2.06.94-2.06 2.06-.94-2.06-.94-.94-2.06-.94 2.06-2.06.94zm-11 1L8.5 8.5l.94-2.06 2.06-.94-2.06-.94L8.5 2.5l-.94 2.06-2.06.94zm10 10l.94 2.06.94-2.06 2.06-.94-2.06-.94-.94-2.06-.94 2.06-2.06.94z\"/><path d=\"M17.41 7.96l-1.37-1.37c-.4-.4-.92-.59-1.43-.59-.52 0-1.04.2-1.43.59L10.3 9.45l-7.72 7.72c-.78.78-.78 2.05 0 2.83L4 21.41c.39.39.9.59 1.41.59.51 0 1.02-.2 1.41-.59l7.78-7.78 2.81-2.81c.8-.78.8-2.07 0-2.86zM5.41 20L4 18.59l7.72-7.72 1.47 1.35L5.41 20z\"/>\n",
              "  </svg>\n",
              "      </button>\n",
              "      \n",
              "  <style>\n",
              "    .colab-df-container {\n",
              "      display:flex;\n",
              "      flex-wrap:wrap;\n",
              "      gap: 12px;\n",
              "    }\n",
              "\n",
              "    .colab-df-convert {\n",
              "      background-color: #E8F0FE;\n",
              "      border: none;\n",
              "      border-radius: 50%;\n",
              "      cursor: pointer;\n",
              "      display: none;\n",
              "      fill: #1967D2;\n",
              "      height: 32px;\n",
              "      padding: 0 0 0 0;\n",
              "      width: 32px;\n",
              "    }\n",
              "\n",
              "    .colab-df-convert:hover {\n",
              "      background-color: #E2EBFA;\n",
              "      box-shadow: 0px 1px 2px rgba(60, 64, 67, 0.3), 0px 1px 3px 1px rgba(60, 64, 67, 0.15);\n",
              "      fill: #174EA6;\n",
              "    }\n",
              "\n",
              "    [theme=dark] .colab-df-convert {\n",
              "      background-color: #3B4455;\n",
              "      fill: #D2E3FC;\n",
              "    }\n",
              "\n",
              "    [theme=dark] .colab-df-convert:hover {\n",
              "      background-color: #434B5C;\n",
              "      box-shadow: 0px 1px 3px 1px rgba(0, 0, 0, 0.15);\n",
              "      filter: drop-shadow(0px 1px 2px rgba(0, 0, 0, 0.3));\n",
              "      fill: #FFFFFF;\n",
              "    }\n",
              "  </style>\n",
              "\n",
              "      <script>\n",
              "        const buttonEl =\n",
              "          document.querySelector('#df-61c0b5ac-406f-4376-ae36-54548f0aa75f button.colab-df-convert');\n",
              "        buttonEl.style.display =\n",
              "          google.colab.kernel.accessAllowed ? 'block' : 'none';\n",
              "\n",
              "        async function convertToInteractive(key) {\n",
              "          const element = document.querySelector('#df-61c0b5ac-406f-4376-ae36-54548f0aa75f');\n",
              "          const dataTable =\n",
              "            await google.colab.kernel.invokeFunction('convertToInteractive',\n",
              "                                                     [key], {});\n",
              "          if (!dataTable) return;\n",
              "\n",
              "          const docLinkHtml = 'Like what you see? Visit the ' +\n",
              "            '<a target=\"_blank\" href=https://colab.research.google.com/notebooks/data_table.ipynb>data table notebook</a>'\n",
              "            + ' to learn more about interactive tables.';\n",
              "          element.innerHTML = '';\n",
              "          dataTable['output_type'] = 'display_data';\n",
              "          await google.colab.output.renderOutput(dataTable, element);\n",
              "          const docLink = document.createElement('div');\n",
              "          docLink.innerHTML = docLinkHtml;\n",
              "          element.appendChild(docLink);\n",
              "        }\n",
              "      </script>\n",
              "    </div>\n",
              "  </div>\n",
              "  "
            ]
          },
          "metadata": {},
          "execution_count": 16
        }
      ]
    },
    {
      "cell_type": "code",
      "execution_count": null,
      "metadata": {
        "id": "3VKxgdT7CicA"
      },
      "outputs": [],
      "source": [
        "X = encoded_nb.drop('Return', axis=1)\n",
        "y = encoded_nb['Return']\n"
      ]
    },
    {
      "cell_type": "code",
      "execution_count": null,
      "metadata": {
        "id": "zjn11sjGEtcT"
      },
      "outputs": [],
      "source": [
        "# Train Test Split\n",
        "X_train, X_test, y_train, y_test = train_test_split(X, y, test_size=0.3, random_state=2022, shuffle = True)"
      ]
    },
    {
      "cell_type": "code",
      "source": [
        "# normalization\n",
        "X_train = minmax_scale(X_train)\n",
        "X_test =  minmax_scale(X_test)"
      ],
      "metadata": {
        "id": "sXcq6xchbveO"
      },
      "execution_count": null,
      "outputs": []
    },
    {
      "cell_type": "code",
      "source": [
        "# predictive models\n",
        "LR = LogisticRegression()\n",
        "LR.fit(X_train_sparse,y_train)\n",
        "\n",
        "XGB = XGBClassifier()\n",
        "XGB.fit(X_train_sparse,y_train)\n",
        "\n",
        "# models = [LR,svc,DT,RF,XGB]\n",
        "models = [LR, XGB]\n",
        "\n",
        "names = [\"LR\",\"Xgb\"]\n",
        "evaluates = ['accuracy','precision','recall','f1','auc']"
      ],
      "metadata": {
        "colab": {
          "base_uri": "https://localhost:8080/"
        },
        "id": "z8IkUaPlayB8",
        "outputId": "f456fb74-13c7-4f20-a352-7ac10e600ad3"
      },
      "execution_count": null,
      "outputs": [
        {
          "output_type": "stream",
          "name": "stderr",
          "text": [
            "/usr/local/lib/python3.7/dist-packages/sklearn/linear_model/_logistic.py:818: ConvergenceWarning: lbfgs failed to converge (status=1):\n",
            "STOP: TOTAL NO. of ITERATIONS REACHED LIMIT.\n",
            "\n",
            "Increase the number of iterations (max_iter) or scale the data as shown in:\n",
            "    https://scikit-learn.org/stable/modules/preprocessing.html\n",
            "Please also refer to the documentation for alternative solver options:\n",
            "    https://scikit-learn.org/stable/modules/linear_model.html#logistic-regression\n",
            "  extra_warning_msg=_LOGISTIC_SOLVER_CONVERGENCE_MSG,\n"
          ]
        },
        {
          "output_type": "execute_result",
          "data": {
            "text/plain": [
              "LogisticRegression()"
            ]
          },
          "metadata": {},
          "execution_count": 35
        },
        {
          "output_type": "execute_result",
          "data": {
            "text/plain": [
              "XGBClassifier()"
            ]
          },
          "metadata": {},
          "execution_count": 35
        }
      ]
    },
    {
      "cell_type": "code",
      "source": [
        "df_list = []\n",
        "for name, model in zip(names, models):\n",
        "    y_train_pred = model.predict(X_train)\n",
        "    y_test_pred = model.predict(X_test)\n",
        "\n",
        "    # accuracy\n",
        "    train_accuracy = model.score(X_train, y_train)\n",
        "    test_accuracy = model.score(X_test, y_test)\n",
        "    # precision\n",
        "    train_precision = precision_score(y_train, y_train_pred)\n",
        "    test_precision = precision_score(y_test, y_test_pred)\n",
        "    # recall\n",
        "    train_recall = recall_score(y_train, y_train_pred)\n",
        "    test_recall = recall_score(y_test, y_test_pred)\n",
        "    # f1\n",
        "    train_f1 = f1_score(y_train, y_train_pred)\n",
        "    test_f1 = f1_score(y_test, y_test_pred)\n",
        "    # calculate the area under the curve of predicted probabilities rather than the predicted value 0 or 1\n",
        "    y_train_prob = model.predict_proba(X_train)[:, 1]\n",
        "    y_test_prob = model.predict_proba(X_test)[:, 1]\n",
        "    # auc\n",
        "    train_auc = roc_auc_score(y_train, y_train_prob)\n",
        "    test_auc = roc_auc_score(y_test, y_test_prob)\n",
        "\n",
        "\n",
        "    print('{}  Train： accuracy:{:.3},precision:{:.3}, recall:{:.3}, f1:{:.3}, auc:{:.3}'.format(name, train_accuracy,\n",
        "                                                                                              train_precision,\n",
        "                                                                                              train_recall, train_f1,\n",
        "                                                                                              train_auc))\n",
        "    print('{}  Test： accuracy:{:.3},precision:{:.3}, recall:{:.3}, f1:{:.3}, auc:{:.3}'.format(name, test_accuracy,\n",
        "                                                                                              test_precision,\n",
        "                                                                                              test_recall, test_f1,\n",
        "                                                                                              test_auc))\n",
        "    print('\\n')\n",
        "    df = pd.DataFrame(np.array(\n",
        "        [train_accuracy, train_precision, train_recall, train_f1, train_auc, test_accuracy, test_precision, test_recall,\n",
        "         test_f1, test_auc]).reshape(2, -1),\n",
        "                      index=['train', 'test'],\n",
        "                      columns=['Accuracy', 'Precision', 'Recall', 'F1-Score', 'AUC-Score'])\n",
        "    df_list.append(df)\n",
        "\n",
        "pd.concat(df_list, axis=0, keys=names)"
      ],
      "metadata": {
        "colab": {
          "base_uri": "https://localhost:8080/",
          "height": 480
        },
        "id": "Nz9vcru6bVqa",
        "outputId": "3dd97bef-8385-4025-bee6-ad24a5522efc"
      },
      "execution_count": null,
      "outputs": [
        {
          "output_type": "stream",
          "name": "stderr",
          "text": [
            "/usr/local/lib/python3.7/dist-packages/sklearn/metrics/_classification.py:1318: UndefinedMetricWarning: Precision is ill-defined and being set to 0.0 due to no predicted samples. Use `zero_division` parameter to control this behavior.\n",
            "  _warn_prf(average, modifier, msg_start, len(result))\n",
            "/usr/local/lib/python3.7/dist-packages/sklearn/metrics/_classification.py:1318: UndefinedMetricWarning: Precision is ill-defined and being set to 0.0 due to no predicted samples. Use `zero_division` parameter to control this behavior.\n",
            "  _warn_prf(average, modifier, msg_start, len(result))\n"
          ]
        },
        {
          "output_type": "stream",
          "name": "stdout",
          "text": [
            "LR  Train： accuracy:0.856,precision:0.0, recall:0.0, f1:0.0, auc:0.524\n",
            "LR  Test： accuracy:0.856,precision:0.0, recall:0.0, f1:0.0, auc:0.525\n",
            "\n",
            "\n"
          ]
        },
        {
          "output_type": "stream",
          "name": "stderr",
          "text": [
            "/usr/local/lib/python3.7/dist-packages/sklearn/metrics/_classification.py:1318: UndefinedMetricWarning: Precision is ill-defined and being set to 0.0 due to no predicted samples. Use `zero_division` parameter to control this behavior.\n",
            "  _warn_prf(average, modifier, msg_start, len(result))\n",
            "/usr/local/lib/python3.7/dist-packages/sklearn/metrics/_classification.py:1318: UndefinedMetricWarning: Precision is ill-defined and being set to 0.0 due to no predicted samples. Use `zero_division` parameter to control this behavior.\n",
            "  _warn_prf(average, modifier, msg_start, len(result))\n"
          ]
        },
        {
          "output_type": "stream",
          "name": "stdout",
          "text": [
            "Xgb  Train： accuracy:0.856,precision:0.0, recall:0.0, f1:0.0, auc:0.5\n",
            "Xgb  Test： accuracy:0.856,precision:0.0, recall:0.0, f1:0.0, auc:0.5\n",
            "\n",
            "\n"
          ]
        },
        {
          "output_type": "execute_result",
          "data": {
            "text/plain": [
              "           Accuracy  Precision  Recall  F1-Score  AUC-Score\n",
              "LR  train  0.855716        0.0     0.0       0.0   0.523508\n",
              "    test   0.856000        0.0     0.0       0.0   0.524645\n",
              "Xgb train  0.855716        0.0     0.0       0.0   0.500000\n",
              "    test   0.856000        0.0     0.0       0.0   0.500000"
            ],
            "text/html": [
              "\n",
              "  <div id=\"df-5e48554a-569c-47be-8419-a5967c5d3296\">\n",
              "    <div class=\"colab-df-container\">\n",
              "      <div>\n",
              "<style scoped>\n",
              "    .dataframe tbody tr th:only-of-type {\n",
              "        vertical-align: middle;\n",
              "    }\n",
              "\n",
              "    .dataframe tbody tr th {\n",
              "        vertical-align: top;\n",
              "    }\n",
              "\n",
              "    .dataframe thead th {\n",
              "        text-align: right;\n",
              "    }\n",
              "</style>\n",
              "<table border=\"1\" class=\"dataframe\">\n",
              "  <thead>\n",
              "    <tr style=\"text-align: right;\">\n",
              "      <th></th>\n",
              "      <th></th>\n",
              "      <th>Accuracy</th>\n",
              "      <th>Precision</th>\n",
              "      <th>Recall</th>\n",
              "      <th>F1-Score</th>\n",
              "      <th>AUC-Score</th>\n",
              "    </tr>\n",
              "  </thead>\n",
              "  <tbody>\n",
              "    <tr>\n",
              "      <th rowspan=\"2\" valign=\"top\">LR</th>\n",
              "      <th>train</th>\n",
              "      <td>0.855716</td>\n",
              "      <td>0.0</td>\n",
              "      <td>0.0</td>\n",
              "      <td>0.0</td>\n",
              "      <td>0.523508</td>\n",
              "    </tr>\n",
              "    <tr>\n",
              "      <th>test</th>\n",
              "      <td>0.856000</td>\n",
              "      <td>0.0</td>\n",
              "      <td>0.0</td>\n",
              "      <td>0.0</td>\n",
              "      <td>0.524645</td>\n",
              "    </tr>\n",
              "    <tr>\n",
              "      <th rowspan=\"2\" valign=\"top\">Xgb</th>\n",
              "      <th>train</th>\n",
              "      <td>0.855716</td>\n",
              "      <td>0.0</td>\n",
              "      <td>0.0</td>\n",
              "      <td>0.0</td>\n",
              "      <td>0.500000</td>\n",
              "    </tr>\n",
              "    <tr>\n",
              "      <th>test</th>\n",
              "      <td>0.856000</td>\n",
              "      <td>0.0</td>\n",
              "      <td>0.0</td>\n",
              "      <td>0.0</td>\n",
              "      <td>0.500000</td>\n",
              "    </tr>\n",
              "  </tbody>\n",
              "</table>\n",
              "</div>\n",
              "      <button class=\"colab-df-convert\" onclick=\"convertToInteractive('df-5e48554a-569c-47be-8419-a5967c5d3296')\"\n",
              "              title=\"Convert this dataframe to an interactive table.\"\n",
              "              style=\"display:none;\">\n",
              "        \n",
              "  <svg xmlns=\"http://www.w3.org/2000/svg\" height=\"24px\"viewBox=\"0 0 24 24\"\n",
              "       width=\"24px\">\n",
              "    <path d=\"M0 0h24v24H0V0z\" fill=\"none\"/>\n",
              "    <path d=\"M18.56 5.44l.94 2.06.94-2.06 2.06-.94-2.06-.94-.94-2.06-.94 2.06-2.06.94zm-11 1L8.5 8.5l.94-2.06 2.06-.94-2.06-.94L8.5 2.5l-.94 2.06-2.06.94zm10 10l.94 2.06.94-2.06 2.06-.94-2.06-.94-.94-2.06-.94 2.06-2.06.94z\"/><path d=\"M17.41 7.96l-1.37-1.37c-.4-.4-.92-.59-1.43-.59-.52 0-1.04.2-1.43.59L10.3 9.45l-7.72 7.72c-.78.78-.78 2.05 0 2.83L4 21.41c.39.39.9.59 1.41.59.51 0 1.02-.2 1.41-.59l7.78-7.78 2.81-2.81c.8-.78.8-2.07 0-2.86zM5.41 20L4 18.59l7.72-7.72 1.47 1.35L5.41 20z\"/>\n",
              "  </svg>\n",
              "      </button>\n",
              "      \n",
              "  <style>\n",
              "    .colab-df-container {\n",
              "      display:flex;\n",
              "      flex-wrap:wrap;\n",
              "      gap: 12px;\n",
              "    }\n",
              "\n",
              "    .colab-df-convert {\n",
              "      background-color: #E8F0FE;\n",
              "      border: none;\n",
              "      border-radius: 50%;\n",
              "      cursor: pointer;\n",
              "      display: none;\n",
              "      fill: #1967D2;\n",
              "      height: 32px;\n",
              "      padding: 0 0 0 0;\n",
              "      width: 32px;\n",
              "    }\n",
              "\n",
              "    .colab-df-convert:hover {\n",
              "      background-color: #E2EBFA;\n",
              "      box-shadow: 0px 1px 2px rgba(60, 64, 67, 0.3), 0px 1px 3px 1px rgba(60, 64, 67, 0.15);\n",
              "      fill: #174EA6;\n",
              "    }\n",
              "\n",
              "    [theme=dark] .colab-df-convert {\n",
              "      background-color: #3B4455;\n",
              "      fill: #D2E3FC;\n",
              "    }\n",
              "\n",
              "    [theme=dark] .colab-df-convert:hover {\n",
              "      background-color: #434B5C;\n",
              "      box-shadow: 0px 1px 3px 1px rgba(0, 0, 0, 0.15);\n",
              "      filter: drop-shadow(0px 1px 2px rgba(0, 0, 0, 0.3));\n",
              "      fill: #FFFFFF;\n",
              "    }\n",
              "  </style>\n",
              "\n",
              "      <script>\n",
              "        const buttonEl =\n",
              "          document.querySelector('#df-5e48554a-569c-47be-8419-a5967c5d3296 button.colab-df-convert');\n",
              "        buttonEl.style.display =\n",
              "          google.colab.kernel.accessAllowed ? 'block' : 'none';\n",
              "\n",
              "        async function convertToInteractive(key) {\n",
              "          const element = document.querySelector('#df-5e48554a-569c-47be-8419-a5967c5d3296');\n",
              "          const dataTable =\n",
              "            await google.colab.kernel.invokeFunction('convertToInteractive',\n",
              "                                                     [key], {});\n",
              "          if (!dataTable) return;\n",
              "\n",
              "          const docLinkHtml = 'Like what you see? Visit the ' +\n",
              "            '<a target=\"_blank\" href=https://colab.research.google.com/notebooks/data_table.ipynb>data table notebook</a>'\n",
              "            + ' to learn more about interactive tables.';\n",
              "          element.innerHTML = '';\n",
              "          dataTable['output_type'] = 'display_data';\n",
              "          await google.colab.output.renderOutput(dataTable, element);\n",
              "          const docLink = document.createElement('div');\n",
              "          docLink.innerHTML = docLinkHtml;\n",
              "          element.appendChild(docLink);\n",
              "        }\n",
              "      </script>\n",
              "    </div>\n",
              "  </div>\n",
              "  "
            ]
          },
          "metadata": {},
          "execution_count": 53
        }
      ]
    },
    {
      "cell_type": "code",
      "source": [
        "from sklearn.metrics import confusion_matrix\n",
        "confusion_matrix (y_test, y_test_pred)\n",
        "# tells that we have 1486728 elements of class 0 and 250104 of class 1 in the test set."
      ],
      "metadata": {
        "colab": {
          "base_uri": "https://localhost:8080/"
        },
        "id": "EVcBxZ2KxR-d",
        "outputId": "90bfbd35-bba1-4acc-fbc9-2f0c5dc1121a"
      },
      "execution_count": null,
      "outputs": [
        {
          "output_type": "execute_result",
          "data": {
            "text/plain": [
              "array([[1486728,       0],\n",
              "       [ 250104,       0]])"
            ]
          },
          "metadata": {},
          "execution_count": 49
        }
      ]
    },
    {
      "cell_type": "code",
      "source": [
        "def draw_roc_curve(train_pre_proba, test_pre_proba, train_auc, test_auc, model_name):\n",
        "    fpr, tpr, roc_auc = train_pre_proba\n",
        "    test_fpr, test_tpr, test_roc_auc = test_pre_proba\n",
        "\n",
        "    plt.figure()\n",
        "    lw = 2\n",
        "    plt.plot(fpr, tpr, color='darkorange',\n",
        "             lw=lw, label='ROC curve (area = %0.2f)' % train_auc)\n",
        "    plt.plot(test_fpr, test_tpr, color='red',\n",
        "             lw=lw, label='ROC curve (area = %0.2f)' % test_auc)\n",
        "    plt.plot([0, 1], [0, 1], color='navy', lw=lw, linestyle='--')\n",
        "    plt.xlabel('False Positive Rate')\n",
        "    plt.ylabel('True Positive Rate')\n",
        "    plt.title('Roc example ' + model_name)\n",
        "    plt.legend(loc=\"lower right\")\n",
        "    plt.show()\n",
        "\n",
        "for name, model in zip(names, models):\n",
        "    y_train_pred = model.predict_proba(X_train)[:, 1]\n",
        "    y_test_pred = model.predict_proba(X_test)[:, 1]\n",
        "\n",
        "    train_roc = roc_curve(y_train, y_train_pred)\n",
        "    test_roc = roc_curve(y_test, y_test_pred)\n",
        "\n",
        "    train_auc = roc_auc_score(y_train, y_train_pred)\n",
        "    test_auc = roc_auc_score(y_test, y_test_pred)\n",
        "\n",
        "    draw_roc_curve(train_roc, test_roc, train_auc, test_auc, name)"
      ],
      "metadata": {
        "colab": {
          "base_uri": "https://localhost:8080/",
          "height": 573
        },
        "id": "oLASVdaQgera",
        "outputId": "4621443d-4ff6-422b-f37e-f9ba7b59d16a"
      },
      "execution_count": null,
      "outputs": [
        {
          "output_type": "display_data",
          "data": {
            "text/plain": [
              "<Figure size 432x288 with 1 Axes>"
            ],
            "image/png": "[encoded data removed]"
          },
          "metadata": {
            "needs_background": "light"
          }
        },
        {
          "output_type": "display_data",
          "data": {
            "text/plain": [
              "<Figure size 432x288 with 1 Axes>"
            ],
            "image/png": "[encoded data removed]"
          },
          "metadata": {
            "needs_background": "light"
          }
        }
      ]
    },
    {
      "cell_type": "markdown",
      "source": [
        "#### set parameter \"scale_pos_weight\" to deal with the unbalanced dataset: NOT WORKING!"
      ],
      "metadata": {
        "id": "Xts6d4oqiyot"
      }
    },
    {
      "cell_type": "code",
      "source": [
        "# ratio of \"Not return\" class to \"Return\" class\n",
        "ratio = float(np.sum(y == 0)) / np.sum(y == 1)\n",
        "ratio"
      ],
      "metadata": {
        "colab": {
          "base_uri": "https://localhost:8080/"
        },
        "id": "uFvQhvRz1o9v",
        "outputId": "7a9be093-a1ca-4588-85a7-160506185455"
      },
      "execution_count": null,
      "outputs": [
        {
          "output_type": "execute_result",
          "data": {
            "text/plain": [
              "5.934864661230836"
            ]
          },
          "metadata": {},
          "execution_count": 55
        }
      ]
    },
    {
      "cell_type": "code",
      "source": [
        "# Set parameter 'scale_pos_weight' = ratio\n",
        "\n",
        "param_t1 = {'max_depth': range(3,10,2),\n",
        "            'min_child_weight': range(1,6,2)\n",
        "}\n",
        "\n",
        "model1 = xgb.XGBClassifier(scale_pos_weight=ratio,\n",
        "            learning_rate=0.02,\n",
        "            n_estimators=200,\n",
        "            silent=1,       \n",
        "            gamma=0,\n",
        "            max_delta_step=0,\n",
        "            subsample=0.85,\n",
        "            colsample_bytree=0.7,\n",
        "            colsample_bylevel=1,\n",
        "            reg_alpha=0,\n",
        "            reg_lambda=1,\n",
        "            seed=0,\n",
        "            early_stopping_rounds=20, \n",
        "            missing=None)\n",
        "\n",
        "\n",
        "gsearch1 = GridSearchCV(model1, param_t1, verbose=1,    \n",
        "         cv=TimeSeriesSplit(n_splits=cv).get_n_splits([X_train, y_train]))\n",
        "\n",
        "gsearch1.fit(X_train, y_train)\n",
        "best_max_depth, best_min_child_weight = gsearch1.best_params_['max_depth'], gsearch1.best_params_['min_child_weight']\n"
      ],
      "metadata": {
        "id": "nOal84skjq9Q",
        "colab": {
          "base_uri": "https://localhost:8080/"
        },
        "outputId": "3046512a-d59b-46b9-df91-15a15dc8baeb"
      },
      "execution_count": null,
      "outputs": [
        {
          "metadata": {
            "tags": null
          },
          "name": "stdout",
          "output_type": "stream",
          "text": [
            "Fitting 3 folds for each of 12 candidates, totalling 36 fits\n"
          ]
        }
      ]
    },
    {
      "cell_type": "code",
      "source": [
        "print(\"\\nBest score: %0.3f\" % gsearch1.best_score_)\n",
        "print(\"\\nBest parameters set: %s\" % gsearch1.best_params_ )"
      ],
      "metadata": {
        "colab": {
          "base_uri": "https://localhost:8080/"
        },
        "id": "tbECmp2DYW7W",
        "outputId": "95f8dd9b-8a66-4158-d73f-f45e67c76b75"
      },
      "execution_count": null,
      "outputs": [
        {
          "output_type": "stream",
          "name": "stdout",
          "text": [
            "\n",
            "Best score: 0.856\n",
            "\n",
            "Best parameters set: {'max_depth': 3, 'min_child_weight': 1}\n"
          ]
        }
      ]
    },
    {
      "cell_type": "code",
      "source": [
        "results = model1.evals_result()\n",
        "epochs = len(results['validation_0']['auc'])\n",
        "x_axis = range(0, epochs)\n",
        "\n",
        "# plot log loss\n",
        "fig, ax = pyplot.subplots()\n",
        "ax.plot(x_axis, results['validation_0']['auc'], label='Train')\n",
        "ax.plot(x_axis, results['validation_1']['auc'], label='Test')\n",
        "plt.axvline(167, color=\"gray\", label=\"Optimal tree number\")\n",
        "ax.legend()\n",
        "pyplot.xlabel(\"Number of trees\")\n",
        "pyplot.ylabel('AUC')\n",
        "pyplot.title('XGBoost AUC')\n",
        "pyplot.show()\n",
        "\n",
        "# plot classification error\n",
        "fig, ax = pyplot.subplots()\n",
        "ax.plot(x_axis, results['validation_0']['logloss'], label='Train')\n",
        "ax.plot(x_axis, results['validation_1']['logloss'], label='Test')\n",
        "plt.axvline(167, color=\"gray\", label=\"Optimal tree number\")\n",
        "ax.legend()\n",
        "pyplot.xlabel(\"Number of trees\")\n",
        "pyplot.ylabel('Classification Logloss')\n",
        "pyplot.title('XGBoost Classification Logloss')\n",
        "pyplot.show()"
      ],
      "metadata": {
        "colab": {
          "base_uri": "https://localhost:8080/",
          "height": 664
        },
        "id": "O1R811etQiN_",
        "outputId": "dea6694b-4de8-4c9b-ec47-091117dc5e8d"
      },
      "execution_count": null,
      "outputs": [
        {
          "output_type": "execute_result",
          "data": {
            "text/plain": [
              "[<matplotlib.lines.Line2D at 0x7f80ca3a8e10>]"
            ]
          },
          "metadata": {},
          "execution_count": 18
        },
        {
          "output_type": "execute_result",
          "data": {
            "text/plain": [
              "[<matplotlib.lines.Line2D at 0x7f80ca3b4550>]"
            ]
          },
          "metadata": {},
          "execution_count": 18
        },
        {
          "output_type": "execute_result",
          "data": {
            "text/plain": [
              "<matplotlib.lines.Line2D at 0x7f80ca3e4510>"
            ]
          },
          "metadata": {},
          "execution_count": 18
        },
        {
          "output_type": "execute_result",
          "data": {
            "text/plain": [
              "<matplotlib.legend.Legend at 0x7f80ca4e3990>"
            ]
          },
          "metadata": {},
          "execution_count": 18
        },
        {
          "output_type": "execute_result",
          "data": {
            "text/plain": [
              "Text(0.5, 0, 'Number of trees')"
            ]
          },
          "metadata": {},
          "execution_count": 18
        },
        {
          "output_type": "execute_result",
          "data": {
            "text/plain": [
              "Text(0, 0.5, 'AUC')"
            ]
          },
          "metadata": {},
          "execution_count": 18
        },
        {
          "output_type": "execute_result",
          "data": {
            "text/plain": [
              "Text(0.5, 1.0, 'XGBoost AUC')"
            ]
          },
          "metadata": {},
          "execution_count": 18
        },
        {
          "output_type": "display_data",
          "data": {
            "text/plain": [
              "<Figure size 432x288 with 1 Axes>"
            ],
            "image/png": "[encoded data removed]"
          },
          "metadata": {
            "needs_background": "light"
          }
        },
        {
          "output_type": "execute_result",
          "data": {
            "text/plain": [
              "[<matplotlib.lines.Line2D at 0x7f80ca32d710>]"
            ]
          },
          "metadata": {},
          "execution_count": 18
        },
        {
          "output_type": "execute_result",
          "data": {
            "text/plain": [
              "[<matplotlib.lines.Line2D at 0x7f80ca32dc50>]"
            ]
          },
          "metadata": {},
          "execution_count": 18
        },
        {
          "output_type": "execute_result",
          "data": {
            "text/plain": [
              "<matplotlib.lines.Line2D at 0x7f80cdb06d50>"
            ]
          },
          "metadata": {},
          "execution_count": 18
        },
        {
          "output_type": "execute_result",
          "data": {
            "text/plain": [
              "<matplotlib.legend.Legend at 0x7f80ca348d10>"
            ]
          },
          "metadata": {},
          "execution_count": 18
        },
        {
          "output_type": "execute_result",
          "data": {
            "text/plain": [
              "Text(0.5, 0, 'Number of trees')"
            ]
          },
          "metadata": {},
          "execution_count": 18
        },
        {
          "output_type": "execute_result",
          "data": {
            "text/plain": [
              "Text(0, 0.5, 'Classification Logloss')"
            ]
          },
          "metadata": {},
          "execution_count": 18
        },
        {
          "output_type": "execute_result",
          "data": {
            "text/plain": [
              "Text(0.5, 1.0, 'XGBoost Classification Logloss')"
            ]
          },
          "metadata": {},
          "execution_count": 18
        },
        {
          "output_type": "display_data",
          "data": {
            "text/plain": [
              "<Figure size 432x288 with 1 Axes>"
            ],
            "image/png": "[encoded data removed]"
          },
          "metadata": {
            "needs_background": "light"
          }
        }
      ]
    },
    {
      "cell_type": "code",
      "source": [
        "# 1. Feature Importance Plot\n",
        "xgb.plot_importance(model)\n",
        "\n",
        "# 2. no.2 tree\n",
        "digraph = xgb.to_graphviz(model, num_trees=2)\n",
        "digraph.format = 'png'\n",
        "digraph.view('/content/drive/MyDrive/Colab Notebooks/Main Colab Files/CEL/nb_xgb')\n"
      ],
      "metadata": {
        "colab": {
          "base_uri": "https://localhost:8080/",
          "height": 313
        },
        "id": "4QXN7PM8738x",
        "outputId": "82d7c421-b0a0-4080-e316-b573e3a203e2"
      },
      "execution_count": null,
      "outputs": [
        {
          "output_type": "execute_result",
          "data": {
            "text/plain": [
              "<matplotlib.axes._subplots.AxesSubplot at 0x7f75f05e8a10>"
            ]
          },
          "metadata": {},
          "execution_count": 43
        },
        {
          "output_type": "execute_result",
          "data": {
            "text/plain": [
              "'/content/drive/MyDrive/Colab Notebooks/Main Colab Files/CEL/nb_xgb.png'"
            ],
            "application/vnd.google.colaboratory.intrinsic+json": {
              "type": "string"
            }
          },
          "metadata": {},
          "execution_count": 43
        },
        {
          "output_type": "display_data",
          "data": {
            "text/plain": [
              "<Figure size 432x288 with 1 Axes>"
            ],
            "image/png": "[encoded data removed]"
          },
          "metadata": {
            "needs_background": "light"
          }
        }
      ]
    }
  ],
  "metadata": {
    "colab": {
      "collapsed_sections": [],
      "machine_shape": "hm",
      "name": "CEL project_New Balance.ipynb",
      "provenance": [],
      "include_colab_link": true
    },
    "kernelspec": {
      "display_name": "Python 3",
      "language": "python",
      "name": "python3"
    },
    "language_info": {
      "codemirror_mode": {
        "name": "ipython",
        "version": 3
      },
      "file_extension": ".py",
      "mimetype": "text/x-python",
      "name": "python",
      "nbconvert_exporter": "python",
      "pygments_lexer": "ipython3",
      "version": "3.8.3"
    }
  },
  "nbformat": 4,
  "nbformat_minor": 0
}